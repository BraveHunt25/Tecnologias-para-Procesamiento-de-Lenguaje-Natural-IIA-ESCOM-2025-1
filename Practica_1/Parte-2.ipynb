{
 "cells": [
  {
   "cell_type": "markdown",
   "metadata": {},
   "source": [
    "# Expresiones regulares, exploración y normalización de datos\n",
    "## Parte 2: Normalización de textos\n",
    "Creado por **Hernández Jiménez Erick Yael**. Grupo: _6IV1_ de la **Escuela Superior de Cómputo**.\n",
    "\n",
    "Para la materia de **Tecnologías de Lenguaje Natural** en el semestre 2025-1 de la carrera de **Ingeniería en Inteligencia Artificial**."
   ]
  },
  {
   "cell_type": "code",
   "execution_count": null,
   "metadata": {},
   "outputs": [],
   "source": []
  }
 ],
 "metadata": {
  "language_info": {
   "name": "python"
  }
 },
 "nbformat": 4,
 "nbformat_minor": 2
}
