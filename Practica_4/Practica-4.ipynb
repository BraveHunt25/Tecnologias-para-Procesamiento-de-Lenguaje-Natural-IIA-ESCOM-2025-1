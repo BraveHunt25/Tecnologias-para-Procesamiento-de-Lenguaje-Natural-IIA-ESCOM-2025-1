{
 "cells": [
  {
   "cell_type": "markdown",
   "metadata": {},
   "source": [
    "_Última modificación: 27 de noviembre de 2024_\n",
    "# Práctica 4: Identificación de palabras, frases, y documentos similares\n",
    "**Hernández Jiménez Erick Yael**: 2023630748.\n",
    "\n",
    "Escuela Superior de Cómputo.\n",
    "\n",
    "Ingeniería en inteligencia Artificial. 5BV1.\n",
    "\n",
    "Tecnologías para el Procesamiento de Lenguaje Natural."
   ]
  },
  {
   "cell_type": "markdown",
   "metadata": {},
   "source": [
    "## Resumen\n",
    "En este cuaderno se usará el procesamiento de cuerpos para identificar palabras, frases y documentos similares de un cuerpo de 5 documentos tras normalizarlos. A continuación se enlistan las bibliotecas utilizadas."
   ]
  },
  {
   "cell_type": "code",
   "execution_count": 1,
   "metadata": {},
   "outputs": [
    {
     "name": "stderr",
     "output_type": "stream",
     "text": [
      "/home/hjey/Documentos/TPLN/.venv/lib64/python3.12/site-packages/tqdm/auto.py:21: TqdmWarning: IProgress not found. Please update jupyter and ipywidgets. See https://ipywidgets.readthedocs.io/en/stable/user_install.html\n",
      "  from .autonotebook import tqdm as notebook_tqdm\n",
      "[nltk_data] Downloading package averaged_perceptron_tagger_eng to\n",
      "[nltk_data]     /home/hjey/nltk_data...\n",
      "[nltk_data]   Package averaged_perceptron_tagger_eng is already up-to-\n",
      "[nltk_data]       date!\n",
      "[nltk_data] Downloading package punkt to /home/hjey/nltk_data...\n",
      "[nltk_data]   Package punkt is already up-to-date!\n",
      "[nltk_data] Downloading package stopwords to /home/hjey/nltk_data...\n",
      "[nltk_data]   Package stopwords is already up-to-date!\n",
      "[nltk_data] Downloading package wordnet to /home/hjey/nltk_data...\n",
      "[nltk_data]   Package wordnet is already up-to-date!\n"
     ]
    },
    {
     "data": {
      "text/plain": [
       "True"
      ]
     },
     "execution_count": 1,
     "metadata": {},
     "output_type": "execute_result"
    }
   ],
   "source": [
    "import math             # Para operaciones matemáticas complejas\n",
    "import nltk             # Biblioteca con las herramientas utilizadas para la manipulación y procesamiento de los documentos\n",
    "import re               # Para eliminar saltos de línea\n",
    "import torch\n",
    "import numpy as np      # Biblioteca auxiliar\n",
    "\n",
    "from nltk import pos_tag                                    # Para etiquetar tokens por función gramaticar\n",
    "from nltk.corpus import stopwords, wordnet                  # Para stop-words\n",
    "from nltk.stem import WordNetLemmatizer                     # Para lematización\n",
    "from nltk.tokenize import word_tokenize, sent_tokenize      # Submódulo para tokenizar (nltk)\n",
    "from numpy.typing import NDArray                            # Para documentar las variables de Numpy\n",
    "from rake_nltk import Rake                                  # Algoritmo Rake modificado\n",
    "from sumy.nlp.tokenizers import Tokenizer                   # Para tokenizar (sumy)\n",
    "from sumy.parsers.plaintext import PlaintextParser          # Para adaptar las cadenas de texto\n",
    "from sumy.summarizers.text_rank import TextRankSummarizer   # Para TextRank\n",
    "from scipy.spatial.distance import cosine                   # Para calcular la distancia cosenoidal\n",
    "from sklearn.metrics.pairwise import cosine_similarity\n",
    "from statistics import mean                                 # Para calcular automáticamente la media\n",
    "from transformers import BertTokenizer, BertModel           # Para los modelos de BERT\n",
    "# from transformers import pipeline                           # Para usar BERT\n",
    "# Archivos auxiliares para el funcionamiento de nltk\n",
    "nltk.download('averaged_perceptron_tagger_eng')\n",
    "nltk.download('punkt')                                      \n",
    "nltk.download('stopwords')\n",
    "nltk.download('wordnet')"
   ]
  },
  {
   "cell_type": "markdown",
   "metadata": {},
   "source": [
    "## Generación de cuerpo de documentos\n",
    "Extrayendo el primer capítulo o introducción de 5 libros de Julio Verne, desde el enlace [“https://www.gutenberg.org/ebooks/84”](“https://www.gutenberg.org/ebooks/84”), los textos se guardaron manualmente como archivos de texto en la carpeta docs como:\n",
    "- [A_JOURNEY_TO_THE_CENTRE_OF_THE_EARTH_CHAPTER_1](./docs/A_JOURNEY_TO_THE_CENTRE_OF_THE_EARTH_CHAPTER_1.txt)\n",
    "- [THE_MYSTERIOUS_ISLAND_CHAPTER_1](./docs/THE_MYSTERIOUS_ISLAND_CHAPTER_1.txt)\n",
    "- [TWENTY_THOUSAND_LEAGUES_UNDER_THE_SEA_CHAPTER_1](./docs/TWENTY_THOUSAND_LEAGUES_UNDER_THE_SEA_CHAPTER_1.txt)\n",
    "- [OFF_ON_A_COMET_CHAPTER_1](./docs/OFF_ON_A_COMET_CHAPTER_1.txt)\n",
    "- [ALL_AROUND_THE_MOON_CHAPTER_1](./docs/ALL_AROUND_THE_MOON_CHAPTER_1.txt)"
   ]
  },
  {
   "cell_type": "code",
   "execution_count": 2,
   "metadata": {},
   "outputs": [
    {
     "name": "stdout",
     "output_type": "stream",
     "text": [
      "MY UNCLE MAKES A GREAT DISCOVERY\n",
      "\n",
      "Looking back to \n",
      " “Are we rising again?” “No. On the contrary.” “Ar\n",
      "A SHIFTING REEF\n",
      "\n",
      "The year 1866 was signalised by a\n",
      " CHAPTER I. A CHALLENGE\n",
      "\n",
      "“Nothing, sir, can induce\n",
      "FROM 10 P.M. TO 10 46' 40''.\n",
      "\n",
      "The moment that the \n"
     ]
    }
   ],
   "source": [
    "paths: list[str] = [\n",
    "    \"docs/A_JOURNEY_TO_THE_CENTRE_OF_THE_EARTH_CHAPTER_1.txt\",\n",
    "    \"docs/THE_MYSTERIOUS_ISLAND_CHAPTER_1.txt\",\n",
    "    \"docs/TWENTY_THOUSAND_LEAGUES_UNDER_THE_SEA_CHAPTER_1.txt\",\n",
    "    \"docs/OFF_ON_A_COMET_CHAPTER_1.txt\",\n",
    "    \"docs/ALL_AROUND_THE_MOON_CHAPTER_1.txt\"\n",
    "]\n",
    "\n",
    "libros: list[str] = []\n",
    "for path in paths:\n",
    "    with open(path, 'r', encoding=\"utf-8\") as file:\n",
    "        libros.append(file.read())\n",
    "\n",
    "for libro in libros:\n",
    "    print(libro[:50])"
   ]
  },
  {
   "cell_type": "markdown",
   "metadata": {},
   "source": [
    "## Normalización de textos general\n",
    "El flujo que se usará, y su justificación se explicará a continuación:\n",
    "1. Tokenización por enunciados: Se seguirá con la indicación del desarrollo y se aplicará inicialmente la tokenización para continuar con...\n",
    "2. Tokenización por palabras: Siguiendo las indicaciones, tokenizar por palabras por enunciado permite mantener el orden y tokens por enunciado, siendo equivalente sustancialmente a los textos originles.\n",
    "3. Etiqueta por posición y función gramatical: Se siguen indicaciones y aplicarlo tras el paso anterior es mandatorio para el correcto etiquetado.\n",
    "4. Conversión a minúsculas: para evitar redundancias en el contenido significativo del cuerpo.\n",
    "5. Filtrar caracteres alfabéticos: para únicamente conservarlos y, así, reducir el ruido en el análisis ocasionado por caracteres que no son de interés ni aportan significados relevantes para el mismo análisis.\n",
    "\n",
    "Se importarán los constructores y funciones necesarios para este proceso."
   ]
  },
  {
   "cell_type": "code",
   "execution_count": 3,
   "metadata": {},
   "outputs": [],
   "source": [
    "lemmatizer: WordNetLemmatizer = WordNetLemmatizer() # Constructor para lematizar\n",
    "stop_words = set(stopwords.words('english'))        # Set con las stop-words del inglés (idioma en el que están los documentos)"
   ]
  },
  {
   "cell_type": "code",
   "execution_count": 4,
   "metadata": {},
   "outputs": [],
   "source": [
    "def get_wordnet_pos(treebank_tag):\n",
    "    \"\"\"Convierte etiquetas POS de Penn Treebank a WordNet.\"\"\"\n",
    "    if treebank_tag.startswith('J'):\n",
    "        return wordnet.ADJ\n",
    "    elif treebank_tag.startswith('V'):\n",
    "        return wordnet.VERB\n",
    "    elif treebank_tag.startswith('N'):\n",
    "        return wordnet.NOUN\n",
    "    elif treebank_tag.startswith('R'):\n",
    "        return wordnet.ADV\n",
    "    else:\n",
    "        return wordnet.NOUN  # Predeterminado: sustantivo"
   ]
  },
  {
   "cell_type": "code",
   "execution_count": 5,
   "metadata": {},
   "outputs": [
    {
     "name": "stdout",
     "output_type": "stream",
     "text": [
      "[('uncle', 'n'), ('make', 'n'), ('great', 'n'), ('discovery', 'n'), ('looking', 'n'), ('back', 'r'), ('occur', 'v'), ('since', 'n'), ('eventful', 'a'), ('day', 'n'), ('scarcely', 'r'), ('able', 'a'), ('believe', 'v'), ('reality', 'n'), ('adventure', 'n'), ('truly', 'r'), ('wonderful', 'a'), ('even', 'r'), ('bewilder', 'v'), ('think', 'v'), ('uncle', 'n'), ('german', 'a'), ('marry', 'v'), ('mother', 'n'), ('sister', 'n'), ('englishwoman', 'n'), ('much', 'r'), ('attach', 'v'), ('fatherless', 'n'), ('nephew', 'r'), ('invite', 'v'), ('study', 'v'), ('home', 'n'), ('fatherland', 'n'), ('home', 'n'), ('large', 'a'), ('town', 'n'), ('uncle', 'n'), ('professor', 'n'), ('philosophy', 'n'), ('chemistry', 'n'), ('geology', 'n'), ('mineralogy', 'n'), ('many', 'a'), ('ology', 'n'), ('one', 'n'), ('day', 'n'), ('pass', 'v'), ('hour', 'n'), ('uncle', 'n'), ('absent', 'n'), ('suddenly', 'r'), ('felt', 'v'), ('necessity', 'n'), ('renovate', 'v'), ('hungry', 'a'), ('rouse', 'v'), ('old', 'a'), ('french', 'a'), ('cook', 'n'), ('uncle', 'n'), ('professor', 'n'), ('von', 'n'), ('hardwigg', 'n'), ('suddenly', 'r'), ('open', 'v'), ('street', 'n'), ('door', 'n'), ('come', 'v'), ('rush', 'v'), ('upstairs', 'n'), ('professor', 'n'), ('hardwigg', 'n'), ('worthy', 'a'), ('uncle', 'n'), ('mean', 'v'), ('bad', 'a'), ('sort', 'n'), ('man', 'n'), ('however', 'r'), ('choleric', 'a'), ('original', 'a'), ('bear', 'v'), ('mean', 'v'), ('obey', 'v'), ('scarcely', 'r'), ('heavy', 'a'), ('foot', 'n'), ('resound', 'v'), ('within', 'n'), ('joint', 'n'), ('domicile', 'n'), ('shout', 'v'), ('attend', 'v'), ('upon', 'n'), ('hasten', 'v'), ('obey', 'v'), ('could', 'n'), ('reach', 'v'), ('room', 'n'), ('jump', 'v'), ('three', 'n'), ('step', 'n'), ('time', 'n'), ('stamp', 'v'), ('right', 'a'), ('foot', 'n'), ('upon', 'n'), ('landing', 'n'), ('harry', 'n'), ('cry', 'v'), ('frantic', 'a'), ('tone', 'n'), ('come', 'v'), ('tell', 'v'), ('truth', 'n'), ('moment', 'n'), ('far', 'r'), ('interested', 'a'), ('question', 'n'), ('constitute', 'v'), ('dinner', 'n'), ('problem', 'n'), ('science', 'n'), ('soup', 'v'), ('interesting', 'a'), ('soda', 'n'), ('omelette', 'n'), ('tempting', 'a'), ('arithmetic', 'a'), ('artichoke', 'n'), ('ten', 'a'), ('time', 'n'), ('value', 'n'), ('amount', 'n'), ('asbestos', 'n'), ('uncle', 'n'), ('man', 'n'), ('kept', 'a'), ('wait', 'v'), ('adjourn', 'v'), ('therefore', 'n'), ('minor', 'a'), ('question', 'n'), ('present', 'v'), ('learned', 'a'), ('man', 'n'), ('person', 'n'), ('category', 'n'), ('supply', 'n'), ('information', 'n'), ('peddler', 'n'), ('good', 'n'), ('benefit', 'n'), ('others', 'n'), ('lay', 'v'), ('store', 'n'), ('order', 'n'), ('diffuse', 'v'), ('abroad', 'r'), ('benefit', 'n'), ('society', 'n'), ('general', 'a'), ('excellent', 'a'), ('uncle', 'n'), ('professor', 'n'), ('hardwigg', 'n'), ('study', 'v'), ('consume', 'v'), ('midnight', 'n'), ('oil', 'n'), ('pore', 'v'), ('heavy', 'a'), ('tome', 'n'), ('digest', 'v'), ('huge', 'a'), ('quarto', 'n'), ('folio', 'n'), ('order', 'n'), ('keep', 'v'), ('knowledge', 'n'), ('acquire', 'v'), ('reason', 'n'), ('may', 'n'), ('regard', 'v'), ('good', 'a'), ('one', 'n'), ('uncle', 'n'), ('object', 'v'), ('display', 'v'), ('learn', 'v'), ('absolutely', 'r'), ('necessary', 'a'), ('stammer', 'v'), ('intent', 'n'), ('upon', 'n'), ('explain', 'v'), ('phenomenon', 'n'), ('heaven', 'n'), ('apt', 'a'), ('find', 'v'), ('fault', 'n'), ('allude', 'n'), ('vague', 'a'), ('way', 'n'), ('sun', 'v'), ('moon', 'n'), ('star', 'v'), ('able', 'a'), ('comprehend', 'v'), ('meaning', 'n'), ('tell', 'v'), ('honest', 'a'), ('truth', 'n'), ('right', 'n'), ('word', 'n'), ('would', 'n'), ('come', 'v'), ('generally', 'r'), ('replace', 'v'), ('powerful', 'a'), ('adjective', 'n'), ('connection', 'n'), ('science', 'n'), ('many', 'a'), ('almost', 'r'), ('unpronounceable', 'a'), ('much', 'a'), ('resemble', 'v'), ('welsh', 'n'), ('village', 'n'), ('uncle', 'n'), ('fond', 'n'), ('use', 'v'), ('habit', 'n'), ('stammer', 'v'), ('thereby', 'r'), ('improve', 'v'), ('fact', 'n'), ('period', 'n'), ('discourse', 'n'), ('would', 'n'), ('finally', 'r'), ('give', 'v'), ('swallow', 'v'), ('glass', 'n'), ('water', 'n'), ('say', 'v'), ('uncle', 'n'), ('professor', 'n'), ('hardwigg', 'n'), ('learned', 'a'), ('man', 'n'), ('add', 'v'), ('kind', 'n'), ('relative', 'n'), ('bind', 'v'), ('double', 'a'), ('tie', 'n'), ('affection', 'n'), ('interest', 'n'), ('take', 'v'), ('deep', 'a'), ('interest', 'n'), ('doings', 'n'), ('hop', 'v'), ('day', 'n'), ('almost', 'r'), ('learn', 'v'), ('rare', 'a'), ('thing', 'n'), ('absent', 'a'), ('lecture', 'n'), ('like', 'n'), ('prefer', 'v'), ('mineralogy', 'n'), ('science', 'n'), ('anxiety', 'n'), ('gain', 'v'), ('real', 'a'), ('knowledge', 'n'), ('earth', 'n'), ('geology', 'n'), ('mineralogy', 'n'), ('u', 'n'), ('sole', 'a'), ('object', 'n'), ('life', 'n'), ('connection', 'n'), ('study', 'n'), ('many', 'a'), ('fair', 'a'), ('specimen', 'n'), ('stone', 'n'), ('chalk', 'n'), ('metal', 'n'), ('break', 'v'), ('hammer', 'n'), ('steel', 'n'), ('rod', 'n'), ('loadstone', 'n'), ('glass', 'n'), ('pipe', 'n'), ('bottle', 'n'), ('various', 'a'), ('acid', 'n'), ('oftener', 'a'), ('u', 'n'), ('meal', 'n'), ('uncle', 'n'), ('hardwigg', 'n'), ('know', 'v'), ('classify', 'v'), ('six', 'n'), ('hundred', 'n'), ('different', 'a'), ('geological', 'a'), ('specimen', 'n'), ('weight', 'n'), ('hardness', 'n'), ('fusibility', 'n'), ('sound', 'n'), ('taste', 'n'), ('smell', 'n'), ('correspond', 'v'), ('great', 'a'), ('learn', 'v'), ('scientific', 'a'), ('men', 'n'), ('age', 'n'), ('therefore', 'r'), ('constant', 'a'), ('communication', 'n'), ('event', 'n'), ('letter', 'n'), ('sir', 'n'), ('humphry', 'n'), ('davy', 'n'), ('captain', 'n'), ('franklin', 'n'), ('great', 'a'), ('men', 'n'), ('state', 'n'), ('subject', 'n'), ('uncle', 'n'), ('wish', 'v'), ('confer', 'v'), ('must', 'n'), ('say', 'v'), ('word', 'n'), ('personal', 'a'), ('appearance', 'n'), ('ala', 'n'), ('reader', 'n'), ('see', 'v'), ('different', 'a'), ('portrait', 'n'), ('future', 'a'), ('time', 'n'), ('go', 'v'), ('fearful', 'a'), ('adventure', 'n'), ('yet', 'r'), ('relate', 'v'), ('uncle', 'n'), ('fifty', 'a'), ('year', 'n'), ('old', 'a'), ('tall', 'n'), ('thin', 'a'), ('wiry', 'n'), ('large', 'a'), ('spectacle', 'n'), ('hid', 'r'), ('certain', 'a'), ('extent', 'n'), ('vast', 'a'), ('round', 'n'), ('goggle', 'a'), ('eye', 'n'), ('nose', 'n'), ('irreverently', 'r'), ('compare', 'v'), ('thin', 'a'), ('file', 'n'), ('much', 'a'), ('indeed', 'r'), ('resemble', 'v'), ('useful', 'a'), ('article', 'n'), ('compass', 'n'), ('say', 'v'), ('presence', 'n'), ('make', 'v'), ('considerable', 'a'), ('n', 'n'), ('nasal', 'n'), ('deviation', 'n'), ('truth', 'n'), ('tell', 'v'), ('however', 'r'), ('article', 'n'), ('really', 'r'), ('attract', 'v'), ('uncle', 'n'), ('nose', 'n'), ('tobacco', 'n'), ('another', 'n'), ('peculiarity', 'n'), ('always', 'r'), ('step', 'v'), ('yard', 'n'), ('time', 'n'), ('clench', 'v'), ('fist', 'n'), ('go', 'v'), ('hit', 'v'), ('one', 'n'), ('peculiar', 'a'), ('humor', 'n'), ('far', 'r'), ('pleasant', 'a'), ('companion', 'n'), ('necessary', 'a'), ('observe', 'v'), ('live', 'v'), ('nice', 'a'), ('house', 'n'), ('nice', 'a'), ('street', 'n'), ('konigstrasse', 'n'), ('hamburg', 'n'), ('though', 'n'), ('lie', 'v'), ('centre', 'n'), ('town', 'n'), ('perfectly', 'r'), ('rural', 'a'), ('wood', 'n'), ('half', 'n'), ('brick', 'n'), ('old', 'a'), ('house', 'n'), ('spar', 'v'), ('great', 'a'), ('fire', 'n'), ('say', 'v'), ('nice', 'a'), ('house', 'n'), ('mean', 'v'), ('handsome', 'n'), ('totter', 'v'), ('exactly', 'r'), ('comfortable', 'a'), ('english', 'a'), ('notion', 'n'), ('house', 'n'), ('little', 'a'), ('perpendicular', 'n'), ('incline', 'v'), ('fall', 'v'), ('neighboring', 'a'), ('canal', 'n'), ('exactly', 'r'), ('house', 'n'), ('wandering', 'a'), ('artist', 'n'), ('depict', 'v'), ('could', 'n'), ('scarcely', 'r'), ('see', 'v'), ('ivy', 'n'), ('magnificent', 'a'), ('old', 'a'), ('tree', 'n'), ('grow', 'v'), ('door', 'n'), ('uncle', 'n'), ('rich', 'a'), ('house', 'n'), ('property', 'n'), ('considerable', 'a'), ('private', 'a'), ('income', 'n'), ('notion', 'n'), ('best', 'a'), ('part', 'n'), ('possession', 'n'), ('gretchen', 'n'), ('old', 'a'), ('cook', 'n'), ('young', 'a'), ('lady', 'n'), ('professor', 'n'), ('sole', 'a'), ('inhabitant', 'n'), ('love', 'v'), ('mineralogy', 'n'), ('love', 'v'), ('geology', 'n'), ('nothing', 'n'), ('like', 'n'), ('uncle', 'n'), ('little', 'a'), ('less', 'a'), ('fury', 'n'), ('happiest', 'n'), ('family', 'n'), ('prove', 'v'), ('excellent', 'a'), ('hardwigg', 'n'), ('impatience', 'n'), ('solemnly', 'r'), ('declare', 'v'), ('flower', 'n'), ('pot', 'n'), ('begin', 'v'), ('grow', 'v'), ('rise', 'v'), ('every', 'n'), ('morning', 'n'), ('four', 'n'), ('make', 'v'), ('grow', 'v'), ('quicker', 'n'), ('pull', 'v'), ('leaf', 'n'), ('describe', 'v'), ('uncle', 'n'), ('give', 'v'), ('account', 'n'), ('interview', 'n'), ('receive', 'v'), ('study', 'n'), ('perfect', 'a'), ('museum', 'n'), ('contain', 'v'), ('every', 'n'), ('natural', 'a'), ('curiosity', 'n'), ('well', 'r'), ('however', 'r'), ('predominate', 'v'), ('every', 'n'), ('one', 'n'), ('familiar', 'a'), ('catalogue', 'v'), ('hand', 'n'), ('uncle', 'n'), ('apparently', 'r'), ('oblivious', 'a'), ('fact', 'n'), ('summon', 'v'), ('presence', 'n'), ('absorb', 'v'), ('book', 'n'), ('particularly', 'r'), ('fond', 'n'), ('early', 'a'), ('edition', 'n'), ('tall', 'a'), ('copy', 'n'), ('unique', 'a'), ('work', 'n'), ('wonderful', 'a'), ('cry', 'v'), ('tap', 'v'), ('forehead', 'n'), ('one', 'n'), ('volume', 'n'), ('rarely', 'r'), ('find', 'v'), ('stall', 'n'), ('appear', 'v'), ('possess', 'v'), ('little', 'a'), ('value', 'n'), ('uncle', 'n'), ('however', 'r'), ('rapture', 'n'), ('admire', 'v'), ('binding', 'n'), ('clearness', 'n'), ('character', 'n'), ('ease', 'n'), ('open', 'v'), ('hand', 'n'), ('repeat', 'v'), ('aloud', 'n'), ('half', 'n'), ('dozen', 'n'), ('time', 'n'), ('old', 'a'), ('fancy', 'n'), ('make', 'v'), ('great', 'a'), ('fuss', 'n'), ('nothing', 'n'), ('province', 'n'), ('say', 'v'), ('contrary', 'a'), ('profess', 'v'), ('considerable', 'a'), ('interest', 'n'), ('subject', 'n'), ('ask', 'v'), ('snorre', 'n'), ('tarleson', 'n'), ('say', 'v'), ('celebrated', 'a'), ('icelandic', 'n'), ('author', 'n'), ('twelfth', 'a'), ('true', 'a'), ('correct', 'a'), ('account', 'n'), ('norwegian', 'a'), ('prince', 'n'), ('reign', 'v'), ('iceland', 'n'), ('next', 'a'), ('question', 'n'), ('relate', 'v'), ('language', 'n'), ('write', 'v'), ('hop', 'v'), ('event', 'n'), ('translate', 'v'), ('german', 'n'), ('uncle', 'n'), ('indignant', 'a'), ('thought', 'a'), ('declare', 'v'), ('would', 'n'), ('give', 'v'), ('penny', 'n'), ('translation', 'n'), ('delight', 'n'), ('find', 'v'), ('original', 'a'), ('work', 'n'), ('icelandic', 'n'), ('tongue', 'n'), ('declare', 'v'), ('one', 'n'), ('magnificent', 'a'), ('yet', 'r'), ('simple', 'a'), ('idiom', 'n'), ('time', 'n'), ('grammatical', 'a'), ('combination', 'n'), ('varied', 'a'), ('know', 'v'), ('student', 'n'), ('easy', 'a'), ('german', 'a'), ('insidious', 'a'), ('remark', 'n'), ('uncle', 'n'), ('shrug', 'v'), ('shoulder', 'n'), ('letter', 'n'), ('event', 'n'), ('say', 'v'), ('rather', 'r'), ('difficult', 'a'), ('comprehension', 'n'), ('runic', 'a'), ('manuscript', 'n'), ('language', 'n'), ('original', 'a'), ('population', 'n'), ('iceland', 'n'), ('invent', 'v'), ('odin', 'n'), ('cry', 'v'), ('uncle', 'n'), ('angry', 'a'), ('ignorance', 'n'), ('venture', 'n'), ('upon', 'n'), ('misplaced', 'a'), ('joke', 'n'), ('subject', 'n'), ('small', 'a'), ('scrap', 'n'), ('parchment', 'n'), ('fell', 'v'), ('leaf', 'n'), ('like', 'n'), ('hungry', 'a'), ('man', 'n'), ('snatch', 'v'), ('morsel', 'n'), ('bread', 'n'), ('professor', 'n'), ('seize', 'v'), ('five', 'n'), ('inch', 'n'), ('three', 'n'), ('scrawl', 'v'), ('extraordinary', 'a'), ('fashion', 'n'), ('line', 'n'), ('show', 'v'), ('exact', 'a'), ('facsimile', 'n'), ('write', 'v'), ('venerable', 'a'), ('piece', 'n'), ('wonderful', 'a'), ('importance', 'n'), ('induce', 'v'), ('uncle', 'n'), ('undertake', 'v'), ('wonderful', 'a'), ('series', 'n'), ('adventure', 'n'), ('ever', 'r'), ('fell', 'v'), ('lot', 'n'), ('human', 'a'), ('being', 'n'), ('uncle', 'n'), ('look', 'v'), ('keenly', 'r'), ('document', 'n'), ('moment', 'n'), ('declare', 'v'), ('runic', 'n'), ('letter', 'n'), ('similar', 'a'), ('book', 'n'), ('mean', 'v'), ('exactly', 'r'), ('want', 'v'), ('know', 'v'), ('strong', 'a'), ('conviction', 'n'), ('runic', 'n'), ('alphabet', 'n'), ('dialect', 'n'), ('simply', 'r'), ('invention', 'n'), ('mystify', 'v'), ('poor', 'a'), ('human', 'a'), ('nature', 'n'), ('delight', 'v'), ('find', 'v'), ('uncle', 'n'), ('know', 'v'), ('much', 'a'), ('matter', 'n'), ('nothing', 'n'), ('event', 'n'), ('tremulous', 'a'), ('motion', 'n'), ('finger', 'n'), ('make', 'v'), ('think', 'v'), ('yet', 'r'), ('mutter', 'v'), ('old', 'a'), ('icelandic', 'n'), ('sure', 'r'), ('uncle', 'n'), ('ought', 'n'), ('know', 'v'), ('perfect', 'a'), ('polyglot', 'n'), ('dictionary', 'n'), ('pretend', 'v'), ('like', 'n'), ('certain', 'a'), ('learned', 'a'), ('pundit', 'n'), ('speak', 'v'), ('two', 'n'), ('thousand', 'n'), ('language', 'n'), ('four', 'n'), ('thousand', 'n'), ('idiom', 'n'), ('make', 'v'), ('use', 'n'), ('different', 'a'), ('part', 'n'), ('globe', 'n'), ('know', 'v'), ('important', 'a'), ('one', 'n'), ('matter', 'n'), ('great', 'a'), ('doubt', 'n'), ('violent', 'a'), ('measure', 'n'), ('uncle', 'n'), ('impetuosity', 'n'), ('might', 'n'), ('lead', 'v'), ('clock', 'n'), ('strike', 'v'), ('two', 'n'), ('old', 'a'), ('french', 'a'), ('cook', 'n'), ('call', 'v'), ('let', 'v'), ('u', 'n'), ('know', 'v'), ('dinner', 'n'), ('table', 'n'), ('bother', 'n'), ('dinner', 'n'), ('cry', 'v'), ('uncle', 'n'), ('hungry', 'a'), ('sallied', 'v'), ('forth', 'n'), ('dining', 'n'), ('room', 'n'), ('take', 'v'), ('usual', 'a'), ('quarter', 'n'), ('politeness', 'n'), ('wait', 'v'), ('three', 'n'), ('minute', 'n'), ('sign', 'n'), ('uncle', 'n'), ('professor', 'n'), ('surprise', 'v'), ('usually', 'r'), ('blind', 'a'), ('pleasure', 'n'), ('good', 'a'), ('dinner', 'n'), ('acme', 'n'), ('german', 'a'), ('soup', 'n'), ('ham', 'n'), ('omelette', 'n'), ('sorrel', 'a'), ('trimming', 'n'), ('oyster', 'n'), ('veal', 'n'), ('stew', 'v'), ('prune', 'n'), ('delicious', 'a'), ('fruit', 'n'), ('sparkle', 'v'), ('moselle', 'n'), ('sake', 'n'), ('pore', 'v'), ('musty', 'a'), ('old', 'a'), ('piece', 'n'), ('parchment', 'n'), ('uncle', 'n'), ('forbore', 'n'), ('share', 'n'), ('meal', 'n'), ('satisfy', 'v'), ('conscience', 'n'), ('eat', 'v'), ('old', 'a'), ('cook', 'n'), ('housekeeper', 'n'), ('nearly', 'r'), ('mind', 'n'), ('take', 'v'), ('much', 'a'), ('trouble', 'n'), ('find', 'v'), ('master', 'n'), ('appear', 'v'), ('dinner', 'n'), ('sad', 'a'), ('occasionally', 'r'), ('watch', 'v'), ('havoc', 'n'), ('make', 'v'), ('viand', 'n'), ('become', 'v'), ('also', 'r'), ('alarm', 'n'), ('uncle', 'n'), ('come', 'v'), ('table', 'v'), ('suddenly', 'r'), ('consume', 'v'), ('last', 'a'), ('apple', 'n'), ('drink', 'v'), ('last', 'a'), ('glass', 'n'), ('wine', 'n'), ('terrible', 'a'), ('voice', 'n'), ('hear', 'v'), ('great', 'a'), ('distance', 'n'), ('uncle', 'n'), ('roaring', 'n'), ('come', 'v'), ('make', 'v'), ('nearly', 'r'), ('one', 'n'), ('leap', 'n'), ('loud', 'n'), ('fierce', 'a'), ('tone', 'n')]\n",
      "[('rise', 'v'), ('descend', 'v'), ('bad', 'a'), ('captain', 'n'), ('fall', 'v'), ('heaven', 'n'), ('sake', 'v'), ('heave', 'v'), ('ballast', 'n'), ('last', 'a'), ('sack', 'n'), ('empty', 'a'), ('balloon', 'n'), ('rise', 'n'), ('hear', 'v'), ('noise', 'n'), ('like', 'n'), ('dashing', 'n'), ('wave', 'n'), ('sea', 'n'), ('car', 'n'), ('foot', 'n'), ('u', 'n'), ('overboard', 'n'), ('every', 'n'), ('weight', 'n'), ('everything', 'n'), ('loud', 'a'), ('startling', 'a'), ('word', 'n'), ('resound', 'v'), ('air', 'n'), ('vast', 'a'), ('watery', 'n'), ('desert', 'n'), ('pacific', 'n'), ('four', 'n'), ('clock', 'n'), ('evening', 'n'), ('march', 'n'), ('possibly', 'r'), ('forget', 'v'), ('terrible', 'a'), ('storm', 'n'), ('northeast', 'n'), ('middle', 'n'), ('equinox', 'n'), ('year', 'n'), ('tempest', 'a'), ('rag', 'v'), ('without', 'n'), ('intermission', 'n'), ('march', 'n'), ('ravage', 'n'), ('terrible', 'a'), ('america', 'n'), ('europe', 'n'), ('asia', 'n'), ('cover', 'v'), ('distance', 'n'), ('eighteen', 'a'), ('hundred', 'a'), ('mile', 'n'), ('extend', 'v'), ('obliquely', 'r'), ('equator', 'n'), ('north', 'a'), ('parallel', 'n'), ('fortieth', 'n'), ('south', 'a'), ('parallel', 'n'), ('town', 'n'), ('overthrow', 'v'), ('forest', 'n'), ('uproot', 'v'), ('coast', 'n'), ('devastate', 'v'), ('mountain', 'n'), ('water', 'n'), ('precipitate', 'v'), ('vessel', 'n'), ('cast', 'v'), ('shore', 'n'), ('publish', 'v'), ('account', 'n'), ('number', 'v'), ('hundred', 'n'), ('whole', 'a'), ('district', 'n'), ('level', 'v'), ('waterspout', 'n'), ('destroy', 'v'), ('everything', 'n'), ('pass', 'v'), ('several', 'a'), ('thousand', 'n'), ('people', 'n'), ('crush', 'v'), ('land', 'n'), ('drown', 'v'), ('sea', 'n'), ('trace', 'n'), ('fury', 'n'), ('leave', 'v'), ('devastate', 'v'), ('tempest', 'n'), ('surpass', 'v'), ('disaster', 'n'), ('frightfully', 'r'), ('ravage', 'v'), ('havana', 'n'), ('guadalupe', 'n'), ('one', 'n'), ('october', 'n'), ('july', 'n'), ('many', 'a'), ('catastrophe', 'n'), ('take', 'v'), ('place', 'n'), ('land', 'n'), ('sea', 'n'), ('drama', 'n'), ('less', 'r'), ('excite', 'v'), ('enact', 'v'), ('agitated', 'a'), ('air', 'n'), ('fact', 'n'), ('balloon', 'n'), ('ball', 'n'), ('might', 'n'), ('carry', 'v'), ('summit', 'n'), ('waterspout', 'n'), ('take', 'v'), ('circle', 'v'), ('movement', 'n'), ('column', 'n'), ('air', 'n'), ('traverse', 'v'), ('space', 'n'), ('rate', 'n'), ('ninety', 'n'), ('mile', 'n'), ('hour', 'n'), ('turn', 'v'), ('round', 'n'), ('round', 'n'), ('seize', 'v'), ('aerial', 'a'), ('maelstrom', 'n'), ('beneath', 'n'), ('low', 'a'), ('point', 'n'), ('balloon', 'n'), ('swing', 'v'), ('car', 'n'), ('contain', 'v'), ('five', 'n'), ('passenger', 'n'), ('scarcely', 'r'), ('visible', 'a'), ('midst', 'n'), ('thick', 'a'), ('vapor', 'n'), ('mingle', 'v'), ('spray', 'n'), ('hung', 'n'), ('surface', 'n'), ('ocean', 'n'), ('whence', 'n'), ('may', 'n'), ('ask', 'v'), ('come', 'v'), ('plaything', 'n'), ('tempest', 'a'), ('part', 'n'), ('world', 'n'), ('rise', 'v'), ('surely', 'r'), ('could', 'n'), ('start', 'v'), ('storm', 'n'), ('storm', 'n'), ('rag', 'v'), ('five', 'n'), ('day', 'n'), ('already', 'r'), ('first', 'a'), ('symptom', 'n'), ('manifest', 'v'), ('doubt', 'v'), ('balloon', 'n'), ('come', 'v'), ('great', 'a'), ('distance', 'n'), ('could', 'n'), ('travel', 'v'), ('less', 'a'), ('two', 'n'), ('thousand', 'a'), ('mile', 'n'), ('hour', 'n'), ('rate', 'n'), ('passenger', 'n'), ('destitute', 'n'), ('mark', 'n'), ('guidance', 'n'), ('could', 'n'), ('possess', 'v'), ('mean', 'n'), ('reckon', 'v'), ('route', 'n'), ('traverse', 'v'), ('since', 'n'), ('departure', 'n'), ('remarkable', 'a'), ('fact', 'n'), ('although', 'n'), ('midst', 'n'), ('furious', 'a'), ('tempest', 'n'), ('suffer', 'v'), ('throw', 'v'), ('whirl', 'v'), ('round', 'n'), ('round', 'n'), ('without', 'n'), ('feel', 'v'), ('rotation', 'n'), ('slight', 'a'), ('degree', 'n'), ('sensible', 'a'), ('remove', 'v'), ('horizontal', 'a'), ('position', 'n'), ('eye', 'n'), ('could', 'n'), ('pierce', 'v'), ('thick', 'n'), ('mist', 'n'), ('gather', 'v'), ('beneath', 'n'), ('car', 'n'), ('dark', 'n'), ('vapor', 'n'), ('around', 'n'), ('density', 'n'), ('atmosphere', 'n'), ('could', 'n'), ('certain', 'a'), ('whether', 'n'), ('day', 'n'), ('night', 'n'), ('reflection', 'n'), ('light', 'n'), ('sound', 'n'), ('inhabited', 'a'), ('land', 'n'), ('roaring', 'n'), ('ocean', 'n'), ('could', 'n'), ('reach', 'v'), ('obscurity', 'n'), ('suspend', 'v'), ('elevated', 'a'), ('zone', 'n'), ('rapid', 'a'), ('descent', 'n'), ('alone', 'r'), ('inform', 'v'), ('danger', 'n'), ('run', 'v'), ('wave', 'n'), ('however', 'r'), ('balloon', 'n'), ('lighten', 'v'), ('heavy', 'a'), ('article', 'n'), ('ammunition', 'n'), ('arm', 'n'), ('provision', 'n'), ('rise', 'v'), ('high', 'a'), ('layer', 'n'), ('atmosphere', 'n'), ('height', 'n'), ('foot', 'n'), ('voyager', 'n'), ('discover', 'v'), ('sea', 'n'), ('extend', 'v'), ('beneath', 'n'), ('think', 'v'), ('danger', 'n'), ('less', 'a'), ('dreadful', 'a'), ('hesitate', 'v'), ('throw', 'v'), ('overboard', 'r'), ('even', 'r'), ('useful', 'a'), ('article', 'n'), ('endeavor', 'v'), ('lose', 'v'), ('fluid', 'n'), ('life', 'n'), ('enterprise', 'n'), ('sustain', 'v'), ('abyss', 'n'), ('night', 'n'), ('pass', 'v'), ('midst', 'n'), ('alarm', 'n'), ('would', 'n'), ('death', 'n'), ('less', 'r'), ('energetic', 'a'), ('soul', 'n'), ('day', 'n'), ('appear', 'v'), ('tempest', 'n'), ('begin', 'v'), ('moderate', 'v'), ('beginning', 'n'), ('day', 'n'), ('march', 'n'), ('show', 'v'), ('symptom', 'n'), ('abate', 'v'), ('dawn', 'n'), ('lighter', 'n'), ('cloud', 'n'), ('rise', 'v'), ('lofty', 'a'), ('region', 'n'), ('air', 'n'), ('hour', 'n'), ('wind', 'n'), ('change', 'v'), ('hurricane', 'n'), ('fresh', 'a'), ('breeze', 'n'), ('say', 'v'), ('rate', 'n'), ('transit', 'n'), ('atmospheric', 'a'), ('layer', 'n'), ('diminish', 'v'), ('half', 'n'), ('still', 'r'), ('sailor', 'n'), ('call', 'v'), ('topsail', 'n'), ('breeze', 'n'), ('commotion', 'n'), ('element', 'n'), ('none', 'v'), ('less', 'r'), ('considerably', 'r'), ('diminish', 'v'), ('towards', 'n'), ('eleven', 'r'), ('clock', 'n'), ('low', 'a'), ('region', 'n'), ('air', 'n'), ('sensibly', 'r'), ('clear', 'a'), ('atmosphere', 'n'), ('throw', 'v'), ('chilly', 'r'), ('dampness', 'v'), ('felt', 'v'), ('passage', 'n'), ('great', 'a'), ('meteor', 'n'), ('storm', 'n'), ('seem', 'v'), ('go', 'v'), ('far', 'r'), ('west', 'n'), ('appear', 'v'), ('exhaust', 'v'), ('could', 'n'), ('pass', 'v'), ('away', 'r'), ('electric', 'a'), ('sheet', 'n'), ('sometimes', 'r'), ('case', 'n'), ('regard', 'n'), ('typhoon', 'n'), ('indian', 'a'), ('ocean', 'n'), ('time', 'n'), ('also', 'r'), ('evident', 'a'), ('balloon', 'n'), ('slowly', 'r'), ('descend', 'v'), ('regular', 'a'), ('movement', 'n'), ('appear', 'v'), ('little', 'a'), ('little', 'a'), ('collapse', 'v'), ('case', 'n'), ('lengthen', 'v'), ('extend', 'v'), ('pass', 'v'), ('spherical', 'a'), ('oval', 'a'), ('form', 'n'), ('towards', 'n'), ('midday', 'v'), ('balloon', 'n'), ('hover', 'v'), ('sea', 'n'), ('height', 'n'), ('foot', 'n'), ('contain', 'v'), ('cubic', 'a'), ('foot', 'n'), ('gas', 'n'), ('thanks', 'n'), ('capacity', 'n'), ('could', 'n'), ('maintain', 'v'), ('long', 'a'), ('time', 'n'), ('air', 'n'), ('although', 'n'), ('reach', 'v'), ('great', 'a'), ('altitude', 'n'), ('might', 'n'), ('throw', 'v'), ('horizontal', 'a'), ('position', 'n'), ('perceive', 'v'), ('danger', 'n'), ('passenger', 'n'), ('cast', 'v'), ('away', 'r'), ('last', 'a'), ('article', 'n'), ('still', 'r'), ('weigh', 'v'), ('car', 'n'), ('provision', 'n'), ('keep', 'v'), ('everything', 'n'), ('even', 'r'), ('one', 'n'), ('hoist', 'v'), ('circle', 'n'), ('unite', 'v'), ('cord', 'n'), ('net', 'a'), ('try', 'v'), ('secure', 'v'), ('firmly', 'r'), ('low', 'a'), ('point', 'n'), ('balloon', 'n'), ('however', 'r'), ('evident', 'a'), ('voyager', 'n'), ('gas', 'n'), ('fail', 'v'), ('balloon', 'n'), ('could', 'n'), ('longer', 'r'), ('sustain', 'v'), ('high', 'a'), ('region', 'n'), ('must', 'n'), ('infallibly', 'r'), ('perish', 'v'), ('continent', 'n'), ('even', 'r'), ('island', 'n'), ('visible', 'a'), ('beneath', 'n'), ('watery', 'n'), ('expanse', 'n'), ('present', 'v'), ('single', 'a'), ('speck', 'n'), ('land', 'n'), ('solid', 'a'), ('surface', 'n'), ('upon', 'n'), ('anchor', 'n'), ('could', 'n'), ('hold', 'v'), ('open', 'a'), ('sea', 'n'), ('whose', 'n'), ('wave', 'n'), ('still', 'r'), ('dash', 'v'), ('tremendous', 'a'), ('violence', 'n'), ('ocean', 'n'), ('without', 'n'), ('visible', 'a'), ('limit', 'n'), ('even', 'r'), ('whose', 'n'), ('gaze', 'n'), ('commanding', 'a'), ('position', 'n'), ('extend', 'v'), ('radius', 'n'), ('forty', 'n'), ('mile', 'n'), ('vast', 'a'), ('liquid', 'n'), ('plain', 'n'), ('lash', 'v'), ('without', 'n'), ('mercy', 'n'), ('storm', 'n'), ('appear', 'v'), ('cover', 'v'), ('herd', 'n'), ('furious', 'a'), ('charger', 'n'), ('whose', 'n'), ('white', 'a'), ('disheveled', 'a'), ('crest', 'n'), ('stream', 'v'), ('wind', 'n'), ('land', 'n'), ('sight', 'n'), ('solitary', 'a'), ('ship', 'n'), ('could', 'n'), ('see', 'v'), ('necessary', 'a'), ('cost', 'n'), ('arrest', 'v'), ('downward', 'a'), ('course', 'n'), ('prevent', 'v'), ('balloon', 'n'), ('engulf', 'v'), ('wave', 'n'), ('voyager', 'n'), ('direct', 'v'), ('energy', 'n'), ('urgent', 'a'), ('work', 'n'), ('notwithstanding', 'v'), ('effort', 'n'), ('balloon', 'n'), ('still', 'r'), ('fell', 'v'), ('time', 'n'), ('shift', 'v'), ('great', 'a'), ('rapidity', 'n'), ('follow', 'v'), ('direction', 'n'), ('wind', 'n'), ('say', 'v'), ('northeast', 'n'), ('southwest', 'n'), ('frightful', 'n'), ('indeed', 'r'), ('situation', 'n'), ('unfortunate', 'a'), ('men', 'n'), ('evidently', 'r'), ('long', 'a'), ('master', 'n'), ('machine', 'n'), ('attempt', 'n'), ('useless', 'a'), ('case', 'n'), ('balloon', 'n'), ('collapse', 'v'), ('gas', 'n'), ('escape', 'v'), ('without', 'n'), ('possibility', 'n'), ('retain', 'v'), ('descent', 'n'), ('visibly', 'r'), ('accelerate', 'v'), ('soon', 'r'), ('midday', 'n'), ('car', 'n'), ('hung', 'n'), ('within', 'n'), ('foot', 'n'), ('ocean', 'n'), ('impossible', 'a'), ('prevent', 'v'), ('escape', 'n'), ('gas', 'n'), ('rush', 'v'), ('large', 'a'), ('rent', 'n'), ('silk', 'n'), ('lighten', 'v'), ('car', 'n'), ('article', 'n'), ('contain', 'v'), ('passenger', 'n'), ('able', 'a'), ('prolong', 'v'), ('suspension', 'n'), ('air', 'n'), ('hour', 'n'), ('inevitable', 'a'), ('catastrophe', 'n'), ('could', 'n'), ('retard', 'v'), ('land', 'n'), ('appear', 'v'), ('night', 'n'), ('voyager', 'n'), ('car', 'n'), ('balloon', 'n'), ('must', 'n'), ('certainty', 'n'), ('vanish', 'a'), ('beneath', 'n'), ('wave', 'n'), ('resort', 'v'), ('remain', 'v'), ('expedient', 'n'), ('truly', 'r'), ('dauntless', 'a'), ('men', 'n'), ('know', 'v'), ('look', 'v'), ('death', 'n'), ('face', 'n'), ('single', 'a'), ('murmur', 'n'), ('escape', 'v'), ('lip', 'n'), ('determine', 'v'), ('struggle', 'v'), ('last', 'a'), ('minute', 'n'), ('anything', 'n'), ('retard', 'v'), ('fall', 'n'), ('car', 'n'), ('sort', 'n'), ('willow', 'n'), ('basket', 'n'), ('unable', 'a'), ('float', 'v'), ('slight', 'a'), ('possibility', 'n'), ('maintain', 'v'), ('surface', 'n'), ('sea', 'n'), ('two', 'n'), ('hour', 'n'), ('pass', 'v'), ('balloon', 'n'), ('scarcely', 'r'), ('foot', 'n'), ('water', 'n'), ('moment', 'n'), ('loud', 'a'), ('voice', 'n'), ('voice', 'n'), ('man', 'n'), ('whose', 'n'), ('heart', 'n'), ('inaccessible', 'a'), ('fear', 'v'), ('hear', 'v'), ('voice', 'n'), ('respond', 'v'), ('others', 'n'), ('less', 'r'), ('determined', 'a'), ('everything', 'n'), ('throw', 'v'), ('still', 'r'), ('dollar', 'n'), ('heavy', 'a'), ('bag', 'n'), ('immediately', 'r'), ('plunge', 'v'), ('sea', 'n'), ('balloon', 'n'), ('rise', 'n'), ('little', 'a'), ('long', 'r'), ('fall', 'v'), ('still', 'r'), ('remain', 'v'), ('throw', 'v'), ('yes', 'n'), ('car', 'n'), ('let', 'n'), ('u', 'n'), ('catch', 'v'), ('hold', 'n'), ('net', 'a'), ('sea', 'n'), ('fact', 'n'), ('last', 'a'), ('mode', 'n'), ('lighten', 'v'), ('balloon', 'n'), ('rope', 'n'), ('hold', 'v'), ('car', 'n'), ('cut', 'v'), ('balloon', 'n'), ('fall', 'n'), ('mount', 'v'), ('foot', 'n'), ('five', 'n'), ('voyager', 'n'), ('hoist', 'v'), ('net', 'a'), ('clung', 'n'), ('mesh', 'n'), ('gaze', 'v'), ('abyss', 'n'), ('delicate', 'a'), ('sensibility', 'n'), ('balloon', 'n'), ('well', 'r'), ('know', 'v'), ('sufficient', 'a'), ('throw', 'v'), ('light', 'a'), ('article', 'n'), ('produce', 'v'), ('difference', 'n'), ('vertical', 'a'), ('position', 'n'), ('apparatus', 'n'), ('air', 'n'), ('like', 'n'), ('balance', 'n'), ('mathematical', 'a'), ('precision', 'n'), ('thus', 'r'), ('easily', 'r'), ('understood', 'n'), ('lighten', 'v'), ('considerable', 'a'), ('weight', 'n'), ('movement', 'n'), ('impetuous', 'a'), ('sudden', 'a'), ('happen', 'v'), ('occasion', 'n'), ('suspend', 'v'), ('instant', 'a'), ('aloft', 'n'), ('balloon', 'n'), ('begin', 'v'), ('redescend', 'v'), ('gas', 'n'), ('escaping', 'n'), ('rent', 'n'), ('impossible', 'a'), ('repair', 'v'), ('men', 'n'), ('do', 'v'), ('men', 'n'), ('could', 'n'), ('human', 'a'), ('effort', 'n'), ('could', 'n'), ('save', 'v'), ('must', 'n'), ('trust', 'v'), ('mercy', 'n'), ('rule', 'n'), ('element', 'n'), ('four', 'n'), ('clock', 'v'), ('balloon', 'n'), ('foot', 'n'), ('surface', 'n'), ('water', 'n'), ('loud', 'a'), ('barking', 'n'), ('hear', 'v'), ('dog', 'n'), ('accompany', 'v'), ('voyager', 'n'), ('hold', 'v'), ('press', 'v'), ('close', 'r'), ('master', 'n'), ('mesh', 'n'), ('net', 'a'), ('top', 'n'), ('see', 'v'), ('something', 'n'), ('cry', 'v'), ('one', 'n'), ('men', 'n'), ('immediately', 'r'), ('loud', 'a'), ('voice', 'n'), ('shout', 'v'), ('land', 'n'), ('land', 'n'), ('balloon', 'n'), ('wind', 'n'), ('still', 'r'), ('drive', 'v'), ('towards', 'n'), ('southwest', 'n'), ('since', 'n'), ('daybreak', 'n'), ('go', 'v'), ('considerable', 'a'), ('distance', 'n'), ('might', 'n'), ('reckon', 'v'), ('hundred', 'n'), ('mile', 'n'), ('tolerably', 'r'), ('high', 'a'), ('land', 'n'), ('fact', 'n'), ('appear', 'v'), ('direction', 'n'), ('land', 'n'), ('still', 'r'), ('thirty', 'a'), ('mile', 'n'), ('would', 'n'), ('take', 'v'), ('less', 'a'), ('hour', 'n'), ('get', 'v'), ('chance', 'n'), ('fall', 'v'), ('leeward', 'v'), ('hour', 'n'), ('might', 'n'), ('balloon', 'n'), ('empty', 'v'), ('fluid', 'n'), ('yet', 'r'), ('retain', 'v'), ('terrible', 'a'), ('question', 'n'), ('voyager', 'n'), ('could', 'n'), ('distinctly', 'r'), ('see', 'v'), ('solid', 'a'), ('spot', 'n'), ('must', 'n'), ('reach', 'v'), ('cost', 'n'), ('ignorant', 'n'), ('whether', 'n'), ('island', 'n'), ('continent', 'n'), ('know', 'v'), ('part', 'n'), ('world', 'n'), ('hurricane', 'n'), ('drive', 'v'), ('must', 'n'), ('reach', 'v'), ('land', 'n'), ('whether', 'n'), ('inhabit', 'v'), ('desolate', 'v'), ('whether', 'n'), ('hospitable', 'a'), ('evident', 'a'), ('balloon', 'n'), ('could', 'n'), ('longer', 'r'), ('support', 'v'), ('several', 'a'), ('time', 'n'), ('already', 'r'), ('crest', 'n'), ('enormous', 'a'), ('billow', 'n'), ('lick', 'v'), ('bottom', 'n'), ('net', 'a'), ('make', 'v'), ('still', 'r'), ('heavier', 'r'), ('balloon', 'n'), ('half', 'n'), ('rise', 'v'), ('like', 'n'), ('bird', 'n'), ('wounded', 'a'), ('wing', 'n'), ('half', 'n'), ('hour', 'n'), ('later', 'r'), ('land', 'n'), ('mile', 'n'), ('balloon', 'n'), ('exhaust', 'v'), ('flabby', 'n'), ('hang', 'v'), ('great', 'a'), ('fold', 'n'), ('gas', 'n'), ('upper', 'a'), ('part', 'n'), ('alone', 'r'), ('voyager', 'n'), ('cling', 'v'), ('net', 'a'), ('still', 'r'), ('heavy', 'a'), ('soon', 'r'), ('half', 'n'), ('plunge', 'v'), ('sea', 'n'), ('beat', 'v'), ('furious', 'a'), ('wave', 'n'), ('bulge', 'v'), ('wind', 'n'), ('take', 'v'), ('drive', 'v'), ('along', 'n'), ('like', 'n'), ('vessel', 'n'), ('might', 'n'), ('possibly', 'r'), ('thus', 'r'), ('reach', 'v'), ('land', 'n'), ('two', 'n'), ('fathom', 'n'), ('terrible', 'a'), ('cry', 'n'), ('resound', 'v'), ('four', 'n'), ('pair', 'n'), ('lung', 'n'), ('balloon', 'n'), ('appear', 'v'), ('would', 'n'), ('never', 'r'), ('rise', 'n'), ('suddenly', 'r'), ('make', 'v'), ('unexpected', 'a'), ('bound', 'n'), ('strike', 'v'), ('tremendous', 'a'), ('sea', 'n'), ('instant', 'a'), ('relieved', 'n'), ('new', 'a'), ('part', 'n'), ('weight', 'n'), ('mount', 'v'), ('height', 'n'), ('foot', 'n'), ('meet', 'v'), ('current', 'a'), ('wind', 'n'), ('instead', 'r'), ('take', 'v'), ('directly', 'r'), ('coast', 'n'), ('carry', 'v'), ('nearly', 'r'), ('parallel', 'a'), ('direction', 'n'), ('last', 'a'), ('two', 'n'), ('minute', 'n'), ('later', 'r'), ('reproach', 'v'), ('obliquely', 'r'), ('finally', 'r'), ('fell', 'v'), ('sandy', 'a'), ('beach', 'n'), ('reach', 'n'), ('wave', 'n'), ('voyager', 'n'), ('aid', 'v'), ('manage', 'v'), ('disengage', 'v'), ('mesh', 'n'), ('net', 'a'), ('balloon', 'n'), ('relieve', 'v'), ('weight', 'n'), ('take', 'v'), ('wind', 'n'), ('like', 'n'), ('wounded', 'a'), ('bird', 'n'), ('revive', 'v'), ('instant', 'n'), ('disappear', 'v'), ('space', 'n'), ('car', 'n'), ('contain', 'v'), ('five', 'n'), ('passenger', 'n'), ('dog', 'n'), ('balloon', 'n'), ('leave', 'v'), ('four', 'n'), ('shore', 'n'), ('miss', 'v'), ('person', 'n'), ('evidently', 'r'), ('sweep', 'v'), ('sea', 'n'), ('strike', 'v'), ('net', 'a'), ('owe', 'v'), ('circumstance', 'n'), ('lightened', 'a'), ('balloon', 'n'), ('rise', 'v'), ('last', 'a'), ('time', 'n'), ('soon', 'r'), ('reach', 'v'), ('land', 'n'), ('scarcely', 'r'), ('four', 'n'), ('castaway', 'n'), ('set', 'v'), ('foot', 'n'), ('firm', 'n'), ('ground', 'n'), ('thinking', 'n'), ('absent', 'n'), ('one', 'n'), ('simultaneously', 'r'), ('exclaim', 'v'), ('perhaps', 'r'), ('try', 'v'), ('swim', 'v'), ('land', 'v'), ('let', 'v'), ('u', 'n'), ('save', 'v'), ('let', 'v'), ('u', 'n'), ('save', 'v')]\n",
      "[('shifting', 'n'), ('reef', 'n'), ('year', 'n'), ('signalise', 'v'), ('remarkable', 'a'), ('incident', 'n'), ('mysterious', 'a'), ('puzzle', 'v'), ('phenomenon', 'n'), ('doubtless', 'v'), ('one', 'n'), ('yet', 'r'), ('forget', 'v'), ('mention', 'v'), ('rumour', 'n'), ('agitate', 'v'), ('maritime', 'a'), ('population', 'n'), ('excite', 'v'), ('public', 'a'), ('mind', 'n'), ('even', 'r'), ('interior', 'n'), ('continent', 'n'), ('seafaring', 'v'), ('men', 'n'), ('particularly', 'r'), ('excite', 'v'), ('merchant', 'n'), ('common', 'a'), ('sailor', 'n'), ('captain', 'n'), ('vessel', 'n'), ('skipper', 'n'), ('europe', 'n'), ('america', 'n'), ('naval', 'a'), ('officer', 'n'), ('country', 'n'), ('government', 'n'), ('several', 'a'), ('state', 'n'), ('two', 'n'), ('continent', 'n'), ('deeply', 'r'), ('interested', 'a'), ('matter', 'n'), ('time', 'n'), ('past', 'n'), ('vessel', 'n'), ('meet', 'v'), ('enormous', 'a'), ('thing', 'n'), ('long', 'a'), ('object', 'n'), ('occasionally', 'r'), ('phosphorescent', 'a'), ('infinitely', 'r'), ('large', 'a'), ('rapid', 'a'), ('movement', 'n'), ('whale', 'n'), ('fact', 'n'), ('relate', 'v'), ('apparition', 'n'), ('enter', 'v'), ('various', 'a'), ('agree', 'v'), ('respect', 'n'), ('shape', 'n'), ('object', 'n'), ('creature', 'n'), ('question', 'n'), ('untiring', 'a'), ('rapidity', 'n'), ('movement', 'n'), ('surprising', 'a'), ('power', 'n'), ('locomotion', 'n'), ('peculiar', 'a'), ('life', 'n'), ('seem', 'v'), ('endow', 'v'), ('cetacean', 'n'), ('surpass', 'v'), ('size', 'n'), ('hitherto', 'n'), ('classify', 'v'), ('science', 'n'), ('take', 'v'), ('consideration', 'n'), ('mean', 'n'), ('observation', 'n'), ('make', 'v'), ('diver', 'n'), ('time', 'n'), ('timid', 'a'), ('estimate', 'n'), ('assign', 'v'), ('object', 'n'), ('length', 'n'), ('two', 'n'), ('hundred', 'a'), ('foot', 'n'), ('equally', 'r'), ('exaggerated', 'a'), ('opinion', 'n'), ('set', 'v'), ('mile', 'n'), ('width', 'n'), ('three', 'n'), ('length', 'n'), ('might', 'n'), ('fairly', 'r'), ('conclude', 'v'), ('mysterious', 'a'), ('surpass', 'v'), ('greatly', 'r'), ('dimension', 'n'), ('admit', 'v'), ('ichthyologist', 'n'), ('day', 'n'), ('exist', 'v'), ('exist', 'v'), ('undeniable', 'a'), ('fact', 'n'), ('tendency', 'n'), ('dispose', 'v'), ('human', 'a'), ('mind', 'n'), ('favour', 'n'), ('marvellous', 'a'), ('understand', 'v'), ('excitement', 'n'), ('produce', 'v'), ('entire', 'a'), ('world', 'n'), ('supernatural', 'a'), ('apparition', 'n'), ('class', 'v'), ('list', 'n'), ('fable', 'n'), ('idea', 'n'), ('question', 'n'), ('july', 'n'), ('steamer', 'n'), ('governor', 'n'), ('higginson', 'n'), ('calcutta', 'n'), ('burnach', 'n'), ('steam', 'n'), ('navigation', 'n'), ('company', 'n'), ('meet', 'v'), ('move', 'v'), ('mass', 'n'), ('five', 'n'), ('mile', 'n'), ('east', 'a'), ('coast', 'n'), ('australia', 'n'), ('captain', 'n'), ('baker', 'n'), ('think', 'v'), ('first', 'a'), ('presence', 'n'), ('unknown', 'a'), ('sandbank', 'n'), ('even', 'r'), ('prepare', 'v'), ('determine', 'v'), ('exact', 'a'), ('position', 'n'), ('two', 'n'), ('column', 'n'), ('water', 'n'), ('project', 'v'), ('inexplicable', 'a'), ('object', 'n'), ('shot', 'n'), ('hiss', 'v'), ('noise', 'n'), ('hundred', 'n'), ('fifty', 'a'), ('foot', 'n'), ('air', 'n'), ('unless', 'n'), ('sandbank', 'n'), ('submit', 'v'), ('intermittent', 'a'), ('eruption', 'n'), ('geyser', 'n'), ('governor', 'n'), ('higginson', 'n'), ('neither', 'n'), ('less', 'a'), ('aquatic', 'a'), ('mammal', 'n'), ('unknown', 'a'), ('till', 'n'), ('throw', 'v'), ('column', 'n'), ('water', 'n'), ('mixed', 'a'), ('air', 'n'), ('vapour', 'n'), ('similar', 'a'), ('fact', 'n'), ('observe', 'v'), ('july', 'n'), ('year', 'n'), ('pacific', 'n'), ('ocean', 'n'), ('columbus', 'n'), ('west', 'n'), ('india', 'n'), ('pacific', 'n'), ('steam', 'n'), ('navigation', 'n'), ('company', 'n'), ('extraordinary', 'a'), ('cetaceous', 'a'), ('creature', 'n'), ('could', 'n'), ('transport', 'v'), ('one', 'n'), ('place', 'n'), ('another', 'n'), ('surprising', 'a'), ('velocity', 'n'), ('interval', 'n'), ('three', 'n'), ('day', 'n'), ('governor', 'n'), ('higginson', 'n'), ('columbus', 'n'), ('observe', 'v'), ('two', 'n'), ('different', 'a'), ('point', 'n'), ('chart', 'n'), ('separate', 'v'), ('distance', 'n'), ('seven', 'n'), ('hundred', 'v'), ('nautical', 'a'), ('league', 'n'), ('fifteen', 'n'), ('day', 'n'), ('later', 'r'), ('two', 'n'), ('thousand', 'v'), ('mile', 'n'), ('far', 'r'), ('helvetia', 'n'), ('shannon', 'n'), ('royal', 'n'), ('mail', 'n'), ('steamship', 'n'), ('company', 'n'), ('sail', 'v'), ('windward', 'v'), ('portion', 'n'), ('atlantic', 'n'), ('lying', 'n'), ('united', 'n'), ('state', 'n'), ('europe', 'n'), ('respectively', 'r'), ('signal', 'v'), ('monster', 'n'), ('lat', 'n'), ('long', 'r'), ('simultaneous', 'a'), ('observation', 'n'), ('think', 'v'), ('justify', 'v'), ('estimate', 'v'), ('minimum', 'a'), ('length', 'n'), ('mammal', 'n'), ('three', 'n'), ('hundred', 'a'), ('fifty', 'a'), ('foot', 'n'), ('shannon', 'n'), ('helvetia', 'n'), ('small', 'a'), ('dimension', 'n'), ('though', 'n'), ('measure', 'v'), ('three', 'n'), ('hundred', 'a'), ('foot', 'n'), ('large', 'a'), ('whale', 'n'), ('frequent', 'v'), ('part', 'n'), ('sea', 'n'), ('round', 'v'), ('aleutian', 'n'), ('kulammak', 'n'), ('umgullich', 'n'), ('island', 'n'), ('never', 'r'), ('exceed', 'v'), ('length', 'n'), ('sixty', 'n'), ('yard', 'n'), ('attain', 'v'), ('report', 'n'), ('arrive', 'v'), ('one', 'n'), ('fresh', 'a'), ('observation', 'n'), ('make', 'v'), ('board', 'n'), ('transatlantic', 'a'), ('ship', 'n'), ('pereire', 'n'), ('collision', 'n'), ('occur', 'v'), ('etna', 'n'), ('inman', 'n'), ('line', 'n'), ('monster', 'n'), ('procès', 'n'), ('verbal', 'n'), ('direct', 'v'), ('officer', 'n'), ('french', 'a'), ('frigate', 'n'), ('normandie', 'n'), ('accurate', 'a'), ('survey', 'n'), ('make', 'v'), ('staff', 'n'), ('commodore', 'n'), ('board', 'n'), ('lord', 'n'), ('clyde', 'n'), ('greatly', 'r'), ('influenced', 'a'), ('public', 'a'), ('opinion', 'n'), ('people', 'n'), ('jest', 'v'), ('upon', 'n'), ('phenomenon', 'n'), ('grave', 'v'), ('practical', 'a'), ('country', 'n'), ('england', 'n'), ('america', 'n'), ('germany', 'n'), ('treat', 'v'), ('matter', 'n'), ('seriously', 'r'), ('every', 'n'), ('place', 'n'), ('great', 'a'), ('resort', 'n'), ('monster', 'n'), ('fashion', 'n'), ('sing', 'v'), ('cafés', 'n'), ('ridicule', 'v'), ('paper', 'n'), ('represent', 'v'), ('stage', 'n'), ('kind', 'n'), ('story', 'n'), ('circulate', 'v'), ('regard', 'v'), ('appear', 'v'), ('paper', 'n'), ('caricature', 'n'), ('every', 'n'), ('gigantic', 'a'), ('imaginary', 'a'), ('creature', 'n'), ('white', 'a'), ('whale', 'n'), ('terrible', 'a'), ('moby', 'n'), ('dick', 'n'), ('hyperborean', 'a'), ('region', 'n'), ('immense', 'a'), ('kraken', 'n'), ('whose', 'n'), ('tentacle', 'n'), ('could', 'n'), ('entangle', 'v'), ('ship', 'n'), ('five', 'n'), ('hundred', 'a'), ('ton', 'n'), ('hurry', 'v'), ('abyss', 'n'), ('ocean', 'n'), ('legend', 'n'), ('ancient', 'a'), ('time', 'n'), ('even', 'r'), ('resuscitate', 'v'), ('opinion', 'n'), ('aristotle', 'n'), ('pliny', 'n'), ('revive', 'v'), ('admit', 'v'), ('existence', 'n'), ('monster', 'n'), ('well', 'r'), ('norwegian', 'a'), ('tale', 'n'), ('bishop', 'n'), ('pontoppidan', 'n'), ('account', 'n'), ('paul', 'n'), ('heggede', 'n'), ('last', 'a'), ('report', 'n'), ('harrington', 'n'), ('whose', 'n'), ('good', 'a'), ('faith', 'n'), ('one', 'n'), ('could', 'n'), ('suspect', 'v'), ('affirm', 'v'), ('board', 'n'), ('castillan', 'n'), ('see', 'v'), ('enormous', 'a'), ('serpent', 'n'), ('never', 'r'), ('time', 'n'), ('frequent', 'v'), ('sea', 'n'), ('ancient', 'a'), ('burst', 'r'), ('forth', 'v'), ('interminable', 'a'), ('controversy', 'n'), ('credulous', 'a'), ('incredulous', 'a'), ('society', 'n'), ('savant', 'n'), ('scientific', 'a'), ('journal', 'n'), ('question', 'n'), ('monster', 'n'), ('inflame', 'v'), ('mind', 'n'), ('editor', 'n'), ('scientific', 'a'), ('journal', 'n'), ('quarrel', 'v'), ('believer', 'n'), ('supernatural', 'a'), ('spill', 'v'), ('sea', 'n'), ('ink', 'n'), ('memorable', 'a'), ('campaign', 'n'), ('even', 'r'), ('draw', 'v'), ('blood', 'n'), ('come', 'v'), ('direct', 'a'), ('personality', 'n'), ('six', 'n'), ('month', 'n'), ('war', 'n'), ('wag', 'v'), ('various', 'a'), ('fortune', 'n'), ('leading', 'a'), ('article', 'n'), ('geographical', 'n'), ('institution', 'n'), ('brazil', 'n'), ('royal', 'n'), ('academy', 'n'), ('science', 'n'), ('berlin', 'n'), ('british', 'a'), ('association', 'n'), ('smithsonian', 'a'), ('institution', 'n'), ('washington', 'n'), ('discussion', 'n'), ('indian', 'n'), ('archipelago', 'n'), ('cosmos', 'n'), ('abbé', 'n'), ('moigno', 'n'), ('mittheilungen', 'n'), ('petermann', 'n'), ('scientific', 'a'), ('chronicle', 'n'), ('great', 'a'), ('journal', 'n'), ('france', 'n'), ('country', 'n'), ('cheap', 'a'), ('journal', 'n'), ('reply', 'v'), ('keenly', 'r'), ('inexhaustible', 'a'), ('zest', 'n'), ('satirical', 'a'), ('writer', 'n'), ('parody', 'v'), ('remark', 'n'), ('linnæus', 'n'), ('quote', 'v'), ('adversary', 'n'), ('monster', 'n'), ('maintain', 'v'), ('nature', 'n'), ('make', 'v'), ('fool', 'n'), ('adjure', 'v'), ('contemporary', 'n'), ('give', 'v'), ('lie', 'n'), ('nature', 'n'), ('admit', 'v'), ('existence', 'n'), ('krakens', 'n'), ('moby', 'n'), ('dick', 'n'), ('lucubration', 'n'), ('delirious', 'a'), ('sailor', 'n'), ('length', 'n'), ('article', 'n'), ('satirical', 'a'), ('journal', 'n'), ('favourite', 'a'), ('contributor', 'n'), ('chief', 'n'), ('staff', 'n'), ('settle', 'v'), ('monster', 'n'), ('like', 'n'), ('hippolytus', 'n'), ('give', 'v'), ('amidst', 'n'), ('universal', 'a'), ('burst', 'n'), ('laughter', 'n'), ('wit', 'n'), ('conquer', 'v'), ('science', 'n'), ('first', 'a'), ('month', 'n'), ('year', 'n'), ('question', 'n'), ('seem', 'v'), ('bury', 'v'), ('never', 'r'), ('revive', 'v'), ('new', 'a'), ('fact', 'n'), ('bring', 'v'), ('public', 'n'), ('longer', 'r'), ('scientific', 'a'), ('problem', 'n'), ('solve', 'v'), ('real', 'a'), ('danger', 'n'), ('seriously', 'r'), ('avoid', 'v'), ('question', 'n'), ('take', 'v'), ('quite', 'r'), ('another', 'n'), ('shape', 'n'), ('monster', 'n'), ('become', 'v'), ('small', 'a'), ('island', 'n'), ('rock', 'n'), ('reef', 'n'), ('reef', 'n'), ('indefinite', 'n'), ('shift', 'v'), ('proportion', 'n'), ('march', 'n'), ('moravian', 'n'), ('montreal', 'n'), ('ocean', 'n'), ('company', 'n'), ('find', 'v'), ('night', 'n'), ('lat', 'n'), ('struck', 'n'), ('starboard', 'a'), ('quarter', 'n'), ('rock', 'n'), ('mark', 'v'), ('chart', 'n'), ('part', 'n'), ('sea', 'n'), ('combined', 'a'), ('effort', 'n'), ('wind', 'n'), ('four', 'n'), ('hundred', 'v'), ('go', 'v'), ('rate', 'n'), ('thirteen', 'a'), ('knot', 'n'), ('superior', 'a'), ('strength', 'n'), ('hull', 'n'), ('moravian', 'n'), ('would', 'n'), ('break', 'v'), ('shock', 'n'), ('go', 'v'), ('passenger', 'n'), ('bring', 'v'), ('home', 'n'), ('canada', 'n'), ('accident', 'n'), ('happen', 'v'), ('five', 'n'), ('clock', 'n'), ('morning', 'n'), ('day', 'n'), ('break', 'v'), ('officer', 'n'), ('hurry', 'v'), ('vessel', 'n'), ('examine', 'v'), ('sea', 'n'), ('scrupulous', 'a'), ('attention', 'n'), ('saw', 'v'), ('nothing', 'n'), ('strong', 'a'), ('eddy', 'n'), ('three', 'n'), ('cable', 'n'), ('length', 'n'), ('distant', 'n'), ('surface', 'n'), ('violently', 'r'), ('agitate', 'v'), ('bearing', 'n'), ('place', 'n'), ('take', 'v'), ('exactly', 'r'), ('moravian', 'n'), ('continue', 'v'), ('route', 'n'), ('without', 'n'), ('apparent', 'a'), ('damage', 'n'), ('strike', 'v'), ('submerged', 'a'), ('rock', 'n'), ('enormous', 'a'), ('wreck', 'n'), ('could', 'n'), ('tell', 'v'), ('examination', 'n'), ('ship', 'n'), ('bottom', 'n'), ('undergo', 'v'), ('repair', 'n'), ('find', 'v'), ('part', 'n'), ('keel', 'n'), ('break', 'v'), ('fact', 'n'), ('grave', 'v'), ('might', 'n'), ('perhaps', 'r'), ('forget', 'v'), ('like', 'n'), ('many', 'a'), ('others', 'n'), ('three', 'n'), ('week', 'n'), ('similar', 'a'), ('circumstance', 'n'), ('thanks', 'n'), ('nationality', 'n'), ('victim', 'n'), ('shock', 'n'), ('thanks', 'n'), ('reputation', 'n'), ('company', 'n'), ('vessel', 'n'), ('belong', 'v'), ('circumstance', 'n'), ('become', 'v'), ('extensively', 'r'), ('circulate', 'v'), ('april', 'n'), ('sea', 'n'), ('beautiful', 'a'), ('breeze', 'n'), ('favourable', 'a'), ('scotia', 'n'), ('cunard', 'n'), ('company', 'n'), ('line', 'n'), ('find', 'v'), ('long', 'r'), ('lat', 'n'), ('go', 'v'), ('speed', 'n'), ('thirteen', 'a'), ('knot', 'n'), ('half', 'n'), ('seventeen', 'a'), ('minute', 'n'), ('past', 'n'), ('four', 'n'), ('afternoon', 'n'), ('whilst', 'v'), ('passenger', 'n'), ('assemble', 'v'), ('lunch', 'n'), ('great', 'a'), ('saloon', 'n'), ('slight', 'a'), ('shock', 'n'), ('felt', 'v'), ('hull', 'n'), ('scotia', 'n'), ('quarter', 'n'), ('little', 'a'), ('aft', 'n'), ('scotia', 'n'), ('strike', 'v'), ('strike', 'v'), ('seemingly', 'r'), ('something', 'n'), ('rather', 'r'), ('sharp', 'a'), ('penetrate', 'v'), ('blunt', 'n'), ('shock', 'n'), ('slight', 'a'), ('one', 'n'), ('alarm', 'v'), ('shout', 'n'), ('carpenter', 'n'), ('watch', 'n'), ('rush', 'v'), ('bridge', 'n'), ('exclaim', 'v'), ('sink', 'v'), ('sink', 'v'), ('first', 'a'), ('passenger', 'n'), ('much', 'r'), ('frighten', 'v'), ('captain', 'n'), ('anderson', 'n'), ('hasten', 'v'), ('reassure', 'v'), ('danger', 'n'), ('could', 'n'), ('imminent', 'a'), ('scotia', 'n'), ('divide', 'v'), ('seven', 'n'), ('compartment', 'n'), ('strong', 'a'), ('partition', 'n'), ('could', 'n'), ('brave', 'v'), ('impunity', 'n'), ('leak', 'n'), ('captain', 'n'), ('anderson', 'n'), ('go', 'v'), ('immediately', 'r'), ('hold', 'n'), ('find', 'v'), ('sea', 'n'), ('pour', 'v'), ('fifth', 'a'), ('compartment', 'n'), ('rapidity', 'n'), ('influx', 'n'), ('prove', 'v'), ('force', 'n'), ('water', 'n'), ('considerable', 'a'), ('fortunately', 'r'), ('compartment', 'n'), ('hold', 'v'), ('boiler', 'n'), ('fire', 'n'), ('would', 'n'), ('immediately', 'r'), ('extinguish', 'v'), ('captain', 'n'), ('anderson', 'n'), ('order', 'v'), ('engine', 'n'), ('stop', 'v'), ('one', 'n'), ('men', 'n'), ('go', 'v'), ('ascertain', 'v'), ('extent', 'n'), ('injury', 'n'), ('minute', 'n'), ('afterwards', 'n'), ('discover', 'v'), ('existence', 'n'), ('large', 'a'), ('hole', 'n'), ('two', 'n'), ('yard', 'n'), ('diameter', 'n'), ('ship', 'n'), ('bottom', 'n'), ('leak', 'n'), ('could', 'n'), ('stop', 'v'), ('scotia', 'n'), ('paddle', 'n'), ('half', 'n'), ('submerge', 'v'), ('oblige', 'v'), ('continue', 'v'), ('course', 'n'), ('three', 'n'), ('hundred', 'v'), ('mile', 'n'), ('cape', 'n'), ('clear', 'n'), ('three', 'n'), ('day', 'n'), ('delay', 'n'), ('cause', 'v'), ('great', 'a'), ('uneasiness', 'n'), ('liverpool', 'n'), ('enter', 'v'), ('basin', 'n'), ('company', 'n'), ('engineer', 'n'), ('visit', 'v'), ('scotia', 'n'), ('put', 'v'), ('dry', 'a'), ('dock', 'n'), ('could', 'n'), ('scarcely', 'r'), ('believe', 'v'), ('possible', 'a'), ('two', 'n'), ('yard', 'n'), ('half', 'a'), ('regular', 'a'), ('rent', 'n'), ('form', 'n'), ('isosceles', 'a'), ('triangle', 'n'), ('broken', 'a'), ('place', 'n'), ('iron', 'n'), ('plate', 'n'), ('perfectly', 'r'), ('define', 'v'), ('could', 'n'), ('neatly', 'r'), ('do', 'v'), ('punch', 'n'), ('clear', 'a'), ('instrument', 'n'), ('produce', 'v'), ('perforation', 'n'), ('common', 'a'), ('stamp', 'n'), ('drive', 'v'), ('prodigious', 'a'), ('strength', 'n'), ('pierce', 'v'), ('iron', 'n'), ('plate', 'n'), ('inch', 'n'), ('thick', 'n'), ('withdraw', 'v'), ('retrograde', 'a'), ('motion', 'n'), ('truly', 'r'), ('inexplicable', 'a'), ('last', 'a'), ('fact', 'n'), ('result', 'v'), ('excite', 'v'), ('torrent', 'n'), ('public', 'a'), ('opinion', 'n'), ('moment', 'n'), ('unlucky', 'a'), ('casualty', 'n'), ('could', 'n'), ('otherwise', 'r'), ('account', 'v'), ('put', 'v'), ('monster', 'n'), ('upon', 'n'), ('imaginary', 'a'), ('creature', 'n'), ('rest', 'v'), ('responsibility', 'n'), ('shipwreck', 'n'), ('unfortunately', 'r'), ('considerable', 'a'), ('three', 'n'), ('thousand', 'n'), ('ship', 'n'), ('whose', 'n'), ('loss', 'n'), ('annually', 'r'), ('record', 'v'), ('lloyd', 'n'), ('number', 'n'), ('sail', 'v'), ('steam', 'n'), ('ship', 'n'), ('suppose', 'v'), ('totally', 'r'), ('lose', 'v'), ('absence', 'n'), ('news', 'n'), ('amount', 'v'), ('less', 'a'), ('two', 'n'), ('hundred', 'v'), ('monster', 'n'), ('justly', 'r'), ('unjustly', 'r'), ('accuse', 'v'), ('disappearance', 'n'), ('thanks', 'n'), ('communication', 'n'), ('different', 'a'), ('continent', 'n'), ('become', 'v'), ('dangerous', 'a'), ('public', 'n'), ('demand', 'v'), ('peremptorily', 'r'), ('sea', 'n'), ('price', 'n'), ('relieve', 'v'), ('formidable', 'a'), ('cetacean', 'n')]\n",
      "[('chapter', 'n'), ('challenge', 'n'), ('nothing', 'n'), ('sir', 'n'), ('induce', 'v'), ('surrender', 'v'), ('sorry', 'r'), ('count', 'n'), ('matter', 'n'), ('view', 'n'), ('modify', 'v'), ('allow', 'v'), ('point', 'v'), ('seniority', 'n'), ('unquestionably', 'r'), ('give', 'v'), ('prior', 'a'), ('mere', 'n'), ('seniority', 'n'), ('assert', 'v'), ('affair', 'n'), ('kind', 'n'), ('possibly', 'r'), ('entitle', 'v'), ('prior', 'a'), ('claim', 'n'), ('captain', 'n'), ('alternative', 'n'), ('leave', 'v'), ('compel', 'v'), ('yield', 'v'), ('sword', 'n'), ('please', 'v'), ('count', 'n'), ('neither', 'n'), ('sword', 'n'), ('pistol', 'n'), ('force', 'v'), ('forego', 'v'), ('pretension', 'n'), ('rapid', 'a'), ('altercation', 'n'), ('thus', 'r'), ('bring', 'v'), ('end', 'n'), ('formal', 'a'), ('interchange', 'n'), ('name', 'n'), ('disputant', 'n'), ('one', 'n'), ('card', 'n'), ('inscribe', 'v'), ('captain', 'n'), ('hector', 'n'), ('servadac', 'n'), ('staff', 'n'), ('officer', 'n'), ('mostaganem', 'n'), ('title', 'n'), ('count', 'n'), ('wassili', 'n'), ('timascheff', 'n'), ('board', 'n'), ('schooner', 'n'), ('take', 'v'), ('long', 'r'), ('arrange', 'v'), ('second', 'n'), ('appoint', 'v'), ('would', 'n'), ('meet', 'v'), ('mostaganem', 'n'), ('two', 'n'), ('clock', 'n'), ('day', 'n'), ('captain', 'n'), ('count', 'n'), ('point', 'n'), ('part', 'v'), ('salute', 'n'), ('punctilious', 'a'), ('courtesy', 'n'), ('timascheff', 'n'), ('strike', 'v'), ('sudden', 'a'), ('thought', 'n'), ('say', 'v'), ('abruptly', 'r'), ('perhaps', 'r'), ('would', 'n'), ('good', 'a'), ('captain', 'n'), ('allow', 'v'), ('real', 'a'), ('cause', 'n'), ('transpire', 'v'), ('far', 'n'), ('good', 'a'), ('reply', 'v'), ('servadac', 'n'), ('undesirable', 'a'), ('every', 'n'), ('way', 'n'), ('name', 'n'), ('case', 'n'), ('however', 'r'), ('continue', 'v'), ('count', 'n'), ('necessary', 'a'), ('assign', 'v'), ('ostensible', 'a'), ('pretext', 'n'), ('kind', 'n'), ('shall', 'n'), ('allege', 'v'), ('musical', 'a'), ('dispute', 'n'), ('contention', 'n'), ('feel', 'v'), ('bound', 'r'), ('defend', 'v'), ('wagner', 'n'), ('zealous', 'a'), ('champion', 'n'), ('rossini', 'n'), ('quite', 'r'), ('content', 'a'), ('answer', 'v'), ('servadac', 'n'), ('smile', 'n'), ('another', 'n'), ('low', 'a'), ('bow', 'n'), ('part', 'v'), ('scene', 'n'), ('depict', 'v'), ('take', 'v'), ('place', 'n'), ('upon', 'n'), ('extremity', 'n'), ('little', 'a'), ('cape', 'n'), ('algerian', 'n'), ('coast', 'n'), ('mostaganem', 'n'), ('tenes', 'n'), ('two', 'n'), ('mile', 'n'), ('mouth', 'n'), ('shelif', 'n'), ('headland', 'n'), ('rise', 'v'), ('sixty', 'a'), ('foot', 'n'), ('azure', 'n'), ('water', 'n'), ('mediterranean', 'n'), ('softly', 'r'), ('kiss', 'v'), ('strand', 'n'), ('ting', 'v'), ('reddish', 'a'), ('hue', 'n'), ('ferriferous', 'a'), ('rock', 'n'), ('form', 'v'), ('base', 'n'), ('december', 'n'), ('noontide', 'a'), ('sun', 'n'), ('usually', 'r'), ('illuminate', 'v'), ('various', 'a'), ('projection', 'n'), ('coast', 'n'), ('dazzling', 'n'), ('brightness', 'n'), ('hide', 'v'), ('dense', 'a'), ('mass', 'n'), ('cloud', 'n'), ('fog', 'n'), ('unaccountable', 'a'), ('cause', 'n'), ('hang', 'v'), ('last', 'a'), ('two', 'n'), ('month', 'n'), ('nearly', 'r'), ('every', 'n'), ('region', 'n'), ('world', 'n'), ('cause', 'v'), ('serious', 'a'), ('interruption', 'n'), ('traffic', 'n'), ('continent', 'n'), ('continent', 'n'), ('spread', 'v'), ('dreary', 'a'), ('veil', 'n'), ('across', 'n'), ('land', 'n'), ('sea', 'n'), ('take', 'v'), ('leave', 'n'), ('count', 'n'), ('wassili', 'n'), ('timascheff', 'n'), ('wend', 'v'), ('way', 'n'), ('small', 'a'), ('creek', 'n'), ('take', 'v'), ('seat', 'n'), ('stern', 'n'), ('light', 'a'), ('await', 'v'), ('return', 'n'), ('immediately', 'r'), ('push', 'v'), ('shore', 'n'), ('soon', 'r'), ('alongside', 'r'), ('lie', 'v'), ('many', 'a'), ('cable', 'n'), ('length', 'n'), ('away', 'r'), ('sign', 'n'), ('servadac', 'n'), ('orderly', 'a'), ('stand', 'v'), ('respectful', 'a'), ('distance', 'n'), ('lead', 'v'), ('forward', 'r'), ('magnificent', 'a'), ('arabian', 'a'), ('horse', 'n'), ('captain', 'n'), ('vault', 'v'), ('saddle', 'n'), ('follow', 'v'), ('attendant', 'n'), ('well', 'r'), ('mount', 'v'), ('start', 'v'), ('towards', 'n'), ('mostaganem', 'n'), ('twelve', 'n'), ('two', 'n'), ('rider', 'n'), ('cross', 'v'), ('bridge', 'n'), ('recently', 'r'), ('erect', 'v'), ('shelif', 'n'), ('quarter', 'n'), ('hour', 'n'), ('later', 'r'), ('steed', 'n'), ('fleck', 'v'), ('foam', 'n'), ('dash', 'v'), ('mascara', 'n'), ('gate', 'n'), ('one', 'n'), ('five', 'n'), ('entrance', 'n'), ('open', 'v'), ('embattled', 'a'), ('wall', 'n'), ('encircle', 'v'), ('town', 'n'), ('date', 'n'), ('mostaganem', 'n'), ('contain', 'v'), ('fifteen', 'a'), ('thousand', 'n'), ('inhabitant', 'n'), ('three', 'n'), ('thousand', 'n'), ('french', 'a'), ('besides', 'n'), ('one', 'n'), ('principal', 'a'), ('district', 'n'), ('town', 'n'), ('province', 'n'), ('oran', 'n'), ('also', 'r'), ('military', 'a'), ('station', 'n'), ('mostaganem', 'n'), ('rejoice', 'v'), ('harbor', 'n'), ('enable', 'v'), ('utilize', 'v'), ('rich', 'a'), ('product', 'n'), ('mina', 'n'), ('lower', 'n'), ('shelif', 'n'), ('existence', 'n'), ('good', 'a'), ('harbor', 'n'), ('amidst', 'n'), ('exposed', 'a'), ('cliff', 'n'), ('coast', 'n'), ('induce', 'v'), ('owner', 'n'), ('dobryna', 'n'), ('winter', 'v'), ('part', 'n'), ('two', 'n'), ('month', 'n'), ('russian', 'a'), ('standard', 'n'), ('see', 'v'), ('float', 'v'), ('yard', 'n'), ('whilst', 'n'), ('hoist', 'v'), ('pennant', 'n'), ('french', 'a'), ('yacht', 'n'), ('club', 'n'), ('distinctive', 'a'), ('letter', 'n'), ('initial', 'n'), ('count', 'n'), ('timascheff', 'n'), ('enter', 'v'), ('town', 'n'), ('captain', 'n'), ('servadac', 'n'), ('make', 'v'), ('way', 'n'), ('towards', 'n'), ('matmore', 'n'), ('military', 'a'), ('quarter', 'n'), ('long', 'r'), ('find', 'v'), ('two', 'n'), ('friend', 'n'), ('might', 'n'), ('major', 'a'), ('fusileers', 'n'), ('captain', 'n'), ('artillery', 'n'), ('two', 'n'), ('officer', 'n'), ('listen', 'v'), ('gravely', 'r'), ('enough', 'a'), ('servadac', 'n'), ('request', 'a'), ('would', 'n'), ('act', 'v'), ('second', 'n'), ('affair', 'n'), ('honor', 'n'), ('could', 'n'), ('resist', 'v'), ('smile', 'n'), ('hear', 'v'), ('dispute', 'n'), ('count', 'n'), ('originate', 'v'), ('musical', 'a'), ('discussion', 'n'), ('surely', 'r'), ('suggest', 'v'), ('matter', 'n'), ('might', 'n'), ('easily', 'r'), ('arrange', 'v'), ('slight', 'a'), ('concession', 'n'), ('either', 'n'), ('side', 'n'), ('might', 'n'), ('amicably', 'r'), ('adjust', 'v'), ('representation', 'n'), ('part', 'n'), ('avail', 'n'), ('hector', 'n'), ('servadac', 'n'), ('inflexible', 'a'), ('concession', 'n'), ('possible', 'a'), ('reply', 'v'), ('resolutely', 'r'), ('rossini', 'n'), ('deeply', 'r'), ('injured', 'a'), ('suffer', 'v'), ('injury', 'n'), ('unavenged', 'v'), ('wagner', 'n'), ('fool', 'n'), ('shall', 'n'), ('keep', 'v'), ('word', 'n'), ('quite', 'r'), ('reply', 'v'), ('one', 'n'), ('officer', 'n'), ('know', 'v'), ('need', 'n'), ('serious', 'a'), ('certainly', 'n'), ('rejoin', 'v'), ('servadac', 'n'), ('especially', 'r'), ('case', 'n'), ('slight', 'a'), ('intention', 'n'), ('wound', 'v'), ('incredulous', 'n'), ('naturally', 'r'), ('assign', 'v'), ('cause', 'n'), ('quarrel', 'n'), ('servadac', 'n'), ('friend', 'n'), ('alternative', 'a'), ('accept', 'v'), ('explanation', 'n'), ('without', 'n'), ('farther', 'a'), ('parley', 'n'), ('start', 'v'), ('staff', 'n'), ('office', 'n'), ('two', 'n'), ('clock', 'n'), ('precisely', 'r'), ('meet', 'v'), ('second', 'n'), ('count', 'n'), ('timascheff', 'n'), ('two', 'n'), ('hour', 'n'), ('later', 'r'), ('return', 'v'), ('preliminary', 'n'), ('arrange', 'v'), ('count', 'n'), ('like', 'n'), ('many', 'a'), ('russian', 'n'), ('abroad', 'r'), ('czar', 'n'), ('course', 'n'), ('propose', 'v'), ('sword', 'n'), ('appropriate', 'a'), ('weapon', 'n'), ('duel', 'n'), ('take', 'v'), ('place', 'n'), ('following', 'a'), ('morning', 'n'), ('first', 'a'), ('january', 'n'), ('nine', 'n'), ('clock', 'n'), ('upon', 'n'), ('cliff', 'n'), ('spot', 'n'), ('mile', 'n'), ('half', 'n'), ('mouth', 'n'), ('shelif', 'n'), ('assurance', 'n'), ('would', 'n'), ('fail', 'v'), ('keep', 'v'), ('appointment', 'n'), ('military', 'a'), ('punctuality', 'n'), ('two', 'n'), ('officer', 'n'), ('cordially', 'r'), ('wring', 'v'), ('friend', 'n'), ('hand', 'n'), ('retire', 'v'), ('zulma', 'n'), ('cafe', 'n'), ('game', 'n'), ('piquet', 'n'), ('captain', 'n'), ('servadac', 'n'), ('retrace', 'v'), ('step', 'n'), ('leave', 'v'), ('town', 'n'), ('last', 'a'), ('fortnight', 'a'), ('servadac', 'n'), ('occupy', 'v'), ('proper', 'a'), ('lodging', 'n'), ('military', 'a'), ('quarter', 'n'), ('appoint', 'v'), ('make', 'v'), ('local', 'a'), ('levy', 'n'), ('live', 'v'), ('gourbi', 'n'), ('native', 'a'), ('hut', 'n'), ('mostaganem', 'n'), ('coast', 'n'), ('four', 'n'), ('five', 'n'), ('mile', 'n'), ('shelif', 'n'), ('orderly', 'n'), ('sole', 'a'), ('companion', 'n'), ('man', 'n'), ('captain', 'n'), ('enforce', 'v'), ('exile', 'n'), ('would', 'n'), ('esteem', 'v'), ('little', 'a'), ('short', 'a'), ('severe', 'a'), ('penance', 'n'), ('way', 'n'), ('gourbi', 'n'), ('mental', 'a'), ('occupation', 'n'), ('laborious', 'a'), ('effort', 'n'), ('put', 'v'), ('together', 'r'), ('pleased', 'a'), ('call', 'v'), ('rondo', 'n'), ('upon', 'n'), ('model', 'n'), ('versification', 'n'), ('obsolete', 'a'), ('rondo', 'n'), ('unnecessary', 'a'), ('conceal', 'v'), ('ode', 'n'), ('address', 'v'), ('young', 'a'), ('widow', 'n'), ('captivate', 'v'), ('anxious', 'a'), ('marry', 'v'), ('tenor', 'n'), ('muse', 'n'), ('intend', 'v'), ('prove', 'v'), ('man', 'n'), ('find', 'v'), ('object', 'n'), ('respect', 'n'), ('worthy', 'n'), ('affection', 'n'), ('love', 'v'), ('whether', 'n'), ('aphorism', 'n'), ('universally', 'r'), ('true', 'a'), ('material', 'a'), ('gallant', 'n'), ('captain', 'n'), ('whose', 'n'), ('sole', 'a'), ('ambition', 'n'), ('present', 'n'), ('construct', 'v'), ('roundelay', 'n'), ('prevailing', 'a'), ('sentiment', 'n'), ('indulge', 'v'), ('fancy', 'n'), ('might', 'n'), ('succeed', 'v'), ('produce', 'v'), ('composition', 'n'), ('would', 'n'), ('fine', 'a'), ('effect', 'n'), ('algeria', 'n'), ('poetry', 'n'), ('form', 'n'), ('unknown', 'a'), ('know', 'v'), ('well', 'r'), ('enough', 'r'), ('say', 'v'), ('repeatedly', 'r'), ('want', 'v'), ('say', 'v'), ('want', 'v'), ('tell', 'v'), ('love', 'v'), ('sincerely', 'r'), ('wish', 'a'), ('marry', 'v'), ('confound', 'v'), ('word', 'n'), ('rhyme', 'n'), ('plague', 'n'), ('nothing', 'n'), ('rhyme', 'n'), ('simplicity', 'n'), ('ah', 'n'), ('lover', 'n'), ('whoe', 'v'), ('er', 'n'), ('love', 'n'), ('next', 'n'), ('go', 'v'), ('say', 'v'), ('ben', 'n'), ('zoof', 'n'), ('call', 'v'), ('aloud', 'n'), ('orderly', 'a'), ('trot', 'v'), ('silently', 'r'), ('close', 'r'), ('rear', 'n'), ('ever', 'r'), ('compose', 'v'), ('poetry', 'n'), ('captain', 'n'), ('answer', 'v'), ('man', 'n'), ('promptly', 'r'), ('never', 'r'), ('make', 'v'), ('verse', 'n'), ('see', 'v'), ('make', 'v'), ('fast', 'r'), ('enough', 'a'), ('booth', 'n'), ('fete', 'n'), ('remember', 'v'), ('remember', 'n'), ('sure', 'a'), ('way', 'n'), ('begin', 'v'), ('come', 'n'), ('come', 'v'), ('repent', 'v'), ('entrance', 'n'), ('money', 'n'), ('spend', 'v'), ('wondrous', 'a'), ('mirror', 'n'), ('place', 'n'), ('reveal', 'v'), ('future', 'a'), ('sweetheart', 'n'), ('bosh', 'n'), ('cry', 'v'), ('servadac', 'n'), ('disgust', 'n'), ('verse', 'n'), ('detestable', 'a'), ('good', 'a'), ('others', 'n'), ('captain', 'n'), ('squeak', 'v'), ('reed', 'n'), ('hold', 'n'), ('tongue', 'n'), ('man', 'n'), ('say', 'v'), ('servadac', 'n'), ('peremptorily', 'r'), ('make', 'v'), ('another', 'n'), ('couplet', 'n'), ('lover', 'n'), ('whoe', 'v'), ('er', 'n'), ('love', 'n'), ('simplicity', 'n'), ('lover', 'n'), ('love', 'v'), ('honestly', 'r'), ('offer', 'v'), ('beyond', 'n'), ('however', 'r'), ('captain', 'n'), ('poetical', 'a'), ('genius', 'n'), ('impotent', 'a'), ('carry', 'v'), ('farther', 'n'), ('effort', 'n'), ('unavailing', 'a'), ('six', 'n'), ('clock', 'n'), ('reach', 'v'), ('gourbi', 'n'), ('four', 'n'), ('line', 'n'), ('still', 'r'), ('remain', 'v'), ('limit', 'n'), ('composition', 'n')]\n",
      "[('moment', 'n'), ('great', 'a'), ('clock', 'n'), ('belonging', 'n'), ('work', 'n'), ('stony', 'n'), ('hill', 'n'), ('strike', 'v'), ('ten', 'r'), ('barbican', 'n'), ('ardan', 'n'), ('begin', 'v'), ('take', 'v'), ('last', 'a'), ('farewell', 'n'), ('numerous', 'a'), ('friend', 'n'), ('surround', 'v'), ('two', 'n'), ('dog', 'n'), ('intend', 'v'), ('accompany', 'v'), ('already', 'r'), ('deposit', 'v'), ('projectile', 'n'), ('three', 'n'), ('traveller', 'n'), ('approach', 'v'), ('mouth', 'n'), ('enormous', 'a'), ('cannon', 'n'), ('seat', 'v'), ('flying', 'n'), ('car', 'n'), ('take', 'v'), ('leave', 'n'), ('last', 'a'), ('time', 'n'), ('vast', 'a'), ('throng', 'a'), ('standing', 'n'), ('silence', 'n'), ('around', 'n'), ('windlass', 'n'), ('creak', 'v'), ('car', 'n'), ('start', 'v'), ('three', 'n'), ('dare', 'v'), ('men', 'n'), ('disappear', 'v'), ('yawning', 'n'), ('gulf', 'n'), ('give', 'v'), ('ready', 'a'), ('access', 'n'), ('interior', 'n'), ('projectile', 'n'), ('car', 'n'), ('soon', 'r'), ('come', 'v'), ('back', 'r'), ('empty', 'a'), ('great', 'a'), ('windlass', 'n'), ('presently', 'r'), ('roll', 'v'), ('away', 'r'), ('tackle', 'n'), ('scaffolding', 'n'), ('remove', 'v'), ('short', 'a'), ('space', 'n'), ('time', 'n'), ('great', 'a'), ('mouth', 'n'), ('columbiad', 'n'), ('completely', 'r'), ('rid', 'a'), ('obstruction', 'n'), ('take', 'v'), ('upon', 'r'), ('fasten', 'v'), ('door', 'n'), ('trap', 'n'), ('inside', 'n'), ('mean', 'n'), ('powerful', 'a'), ('combination', 'n'), ('screw', 'n'), ('bolt', 'n'), ('invention', 'n'), ('also', 'r'), ('cover', 'v'), ('carefully', 'r'), ('glass', 'n'), ('light', 'n'), ('strong', 'a'), ('iron', 'n'), ('plate', 'n'), ('extreme', 'a'), ('solidity', 'n'), ('tightly', 'r'), ('fitting', 'a'), ('joint', 'n'), ('ardan', 'n'), ('first', 'a'), ('care', 'n'), ('turn', 'v'), ('gas', 'n'), ('find', 'v'), ('burn', 'v'), ('rather', 'r'), ('low', 'a'), ('light', 'v'), ('one', 'n'), ('burner', 'n'), ('desirous', 'a'), ('economize', 'v'), ('much', 'a'), ('possible', 'a'), ('store', 'n'), ('light', 'n'), ('heat', 'n'), ('well', 'r'), ('know', 'v'), ('could', 'n'), ('utmost', 'a'), ('last', 'a'), ('long', 'a'), ('week', 'n'), ('cheerful', 'a'), ('blaze', 'n'), ('interior', 'n'), ('projectile', 'n'), ('look', 'v'), ('like', 'n'), ('comfortable', 'a'), ('little', 'a'), ('chamber', 'n'), ('circular', 'a'), ('sofa', 'n'), ('nicely', 'r'), ('pad', 'v'), ('wall', 'n'), ('dome', 'v'), ('shaped', 'a'), ('ceiling', 'n'), ('article', 'n'), ('contain', 'v'), ('arm', 'n'), ('instrument', 'n'), ('utensil', 'n'), ('solidly', 'r'), ('fasten', 'v'), ('projection', 'n'), ('wadding', 'n'), ('sustain', 'v'), ('least', 'a'), ('injury', 'n'), ('possible', 'a'), ('first', 'a'), ('terrible', 'a'), ('shock', 'n'), ('fact', 'n'), ('precaution', 'n'), ('possible', 'a'), ('humanly', 'r'), ('speak', 'v'), ('take', 'v'), ('counteract', 'v'), ('first', 'a'), ('possibly', 'r'), ('one', 'n'), ('great', 'a'), ('danger', 'n'), ('courageous', 'a'), ('adventurer', 'n'), ('would', 'n'), ('expose', 'v'), ('ardan', 'n'), ('express', 'v'), ('quite', 'r'), ('pleased', 'a'), ('appearance', 'n'), ('thing', 'n'), ('general', 'a'), ('prison', 'n'), ('sure', 'a'), ('say', 'v'), ('one', 'n'), ('ordinary', 'a'), ('prison', 'n'), ('always', 'r'), ('keep', 'v'), ('one', 'n'), ('spot', 'n'), ('part', 'n'), ('long', 'r'), ('privilege', 'n'), ('look', 'v'), ('window', 'n'), ('willing', 'a'), ('lease', 'v'), ('hundred', 'n'), ('year', 'n'), ('ah', 'n'), ('barbican', 'n'), ('bring', 'v'), ('one', 'n'), ('stony', 'n'), ('smile', 'n'), ('think', 'v'), ('lease', 'n'), ('may', 'n'), ('last', 'a'), ('long', 'a'), ('tenement', 'n'), ('may', 'n'), ('become', 'v'), ('coffin', 'n'), ('eh', 'n'), ('prefer', 'v'), ('anyway', 'r'), ('mahomet', 'n'), ('may', 'n'), ('indeed', 'r'), ('float', 'v'), ('air', 'n'), ('wo', 'n'), ('motionless', 'r'), ('milestone', 'n')]\n"
     ]
    }
   ],
   "source": [
    "# Almacenamos los libros en una misma lista, este será el corpus\n",
    "corpus_per_book: list[list[str]] = []\n",
    "\n",
    "# Por cada libro `book` `i` que se encuentran en `libros`...\n",
    "for i, book in enumerate(libros):\n",
    "    # tokenizamos el libro por enunciados\n",
    "    sentences: list[str] = sent_tokenize(book)\n",
    "    # almacenamos las palabras etiquetadas en una lista...\n",
    "    tagged_words: list[list[tuple[str, str]]] = [\n",
    "        # con el resultado del etiquetado...\n",
    "        pos_tag(\n",
    "            # con las palabras tokenizadas...\n",
    "            word_tokenize(\n",
    "                # de cada enunciado `sentence`...\n",
    "                sentence)) \n",
    "        # para cada `sentence` en los enunciados del libro `sentences`\n",
    "        for sentence in sentences]\n",
    "\n",
    "    # almacenamos las palabras normalizadas en una lista...\n",
    "    normalized_words: list[str] = []\n",
    "    # por cada enunciado `sentence` en las palabras etiquetadas `tagged_words`...\n",
    "    for sentence in tagged_words:\n",
    "        # almacenamos en una lista...\n",
    "        normalized: list[tuple[str, str]] = [\n",
    "            # el resutado de lematizar cada palabra `word` en minúsculas en cada enunciado `sentence`...\n",
    "            (lemmatizer.lemmatize(word.lower(), get_wordnet_pos(tag)), get_wordnet_pos(tag)) for word, tag in sentence\n",
    "            # si cumple con que es un caractér alfabético y si no se encuentra en el set de `stop_words`\n",
    "            if word.isalpha() and word.lower() not in stop_words\n",
    "        ]\n",
    "        # extendemos el contenido a las palabras normalizadas del libro\n",
    "        normalized_words.extend(normalized)\n",
    "    # agregamos los tokens del libro al corpus\n",
    "    corpus_per_book.append(normalized_words)\n",
    "\n",
    "# Imprimimos los resultados\n",
    "for book in corpus_per_book:\n",
    "    print(book)"
   ]
  },
  {
   "cell_type": "markdown",
   "metadata": {},
   "source": [
    "## Similitud de palabras con synsets\n",
    "Tomando el ejemplo que se encuentra en la [documentación de nltk](https://www.nltk.org/howto/wordnet.html#similarity) como guía:\n",
    "Ya que tenemos cada palabra etiqueta por su POS y en su lema más básico...:\n",
    "1. Por cada libro crearemos un diccionario con los verbos y las frecuencias de cada uno.\n",
    "2. Seleccionamos el verbo más común por ser el más frecuente\n",
    "3. Buscamos los 5 verbos más comunes en el libro correspondiente con \"wup similarity\"\n",
    "4. Buscamos los 5 verbos más comunes en el libro correspondiente con \"path similarity\"\n",
    "\n",
    "Así mismo...:\n",
    "Por cada libro crearemos un diccionario con los sustantivos y las frecuencias de cada uno.\n",
    "2. Seleccionamos el sustantivo más común por ser el más frecuente\n",
    "3. Buscamos los 5 sustantivos más comunes en el libro correspondiente con \"wup similarity\"\n",
    "4. Buscamos los 5 sustantivos más comunes en el libro correspondiente con \"path similarity\"\n",
    " "
   ]
  },
  {
   "cell_type": "code",
   "execution_count": 6,
   "metadata": {},
   "outputs": [
    {
     "name": "stdout",
     "output_type": "stream",
     "text": [
      "{'say': 7, 'know': 7, 'make': 7, 'come': 5, 'find': 5, 'mean': 4, 'cry': 4, 'declare': 4, 'tell': 3, 'learn': 3, 'give': 3, 'take': 3, 'grow': 3, 'think': 2, 'study': 2, 'open': 2, 'obey': 2, 'wait': 2, 'consume': 2, 'pore': 2, 'stammer': 2, 'resemble': 2, 'hop': 2, 'see': 2, 'go': 2, 'relate': 2, 'love': 2, 'appear': 2, 'write': 2, 'fell': 2, 'occur': 1, 'believe': 1, 'bewilder': 1, 'marry': 1, 'attach': 1, 'invite': 1, 'pass': 1, 'felt': 1, 'renovate': 1, 'rouse': 1, 'rush': 1, 'bear': 1, 'resound': 1, 'shout': 1, 'attend': 1, 'hasten': 1, 'reach': 1, 'jump': 1, 'stamp': 1, 'constitute': 1, 'soup': 1, 'adjourn': 1, 'present': 1, 'lay': 1, 'diffuse': 1, 'digest': 1, 'keep': 1, 'acquire': 1, 'regard': 1, 'object': 1, 'display': 1, 'explain': 1, 'sun': 1, 'star': 1, 'comprehend': 1, 'replace': 1, 'use': 1, 'improve': 1, 'swallow': 1, 'add': 1, 'bind': 1, 'prefer': 1, 'gain': 1, 'break': 1, 'classify': 1, 'correspond': 1, 'wish': 1, 'confer': 1, 'compare': 1, 'attract': 1, 'step': 1, 'clench': 1, 'hit': 1, 'observe': 1, 'live': 1, 'lie': 1, 'spar': 1, 'totter': 1, 'incline': 1, 'fall': 1, 'depict': 1, 'prove': 1, 'begin': 1, 'rise': 1, 'pull': 1, 'describe': 1, 'receive': 1, 'contain': 1, 'predominate': 1, 'catalogue': 1, 'summon': 1, 'absorb': 1, 'tap': 1, 'possess': 1, 'admire': 1, 'repeat': 1, 'profess': 1, 'ask': 1, 'reign': 1, 'translate': 1, 'shrug': 1, 'invent': 1, 'snatch': 1, 'seize': 1, 'scrawl': 1, 'show': 1, 'induce': 1, 'undertake': 1, 'look': 1, 'want': 1, 'mystify': 1, 'delight': 1, 'mutter': 1, 'pretend': 1, 'speak': 1, 'lead': 1, 'strike': 1, 'call': 1, 'let': 1, 'sallied': 1, 'surprise': 1, 'stew': 1, 'sparkle': 1, 'satisfy': 1, 'eat': 1, 'watch': 1, 'become': 1, 'table': 1, 'drink': 1, 'hear': 1}\n",
      "{'throw': 7, 'appear': 7, 'rise': 6, 'take': 6, 'reach': 6, 'pass': 5, 'extend': 4, 'contain': 4, 'lighten': 4, 'fall': 3, 'hear': 3, 'hold': 3, 'see': 3, 'know': 3, 'save': 3, 'drive': 3, 'descend': 2, 'resound': 2, 'rag': 2, 'cover': 2, 'devastate': 2, 'cast': 2, 'leave': 2, 'carry': 2, 'traverse': 2, 'come': 2, 'reckon': 2, 'suspend': 2, 'sustain': 2, 'begin': 2, 'say': 2, 'diminish': 2, 'go': 2, 'exhaust': 2, 'collapse': 2, 'maintain': 2, 'hoist': 2, 'try': 2, 'prevent': 2, 'fell': 2, 'escape': 2, 'retain': 2, 'retard': 2, 'remain': 2, 'plunge': 2, 'mount': 2, 'make': 2, 'strike': 2, 'let': 2, 'sake': 1, 'heave': 1, 'forget': 1, 'overthrow': 1, 'uproot': 1, 'precipitate': 1, 'publish': 1, 'number': 1, 'level': 1, 'destroy': 1, 'crush': 1, 'drown': 1, 'surpass': 1, 'ravage': 1, 'excite': 1, 'enact': 1, 'circle': 1, 'turn': 1, 'seize': 1, 'swing': 1, 'mingle': 1, 'ask': 1, 'start': 1, 'manifest': 1, 'doubt': 1, 'travel': 1, 'possess': 1, 'suffer': 1, 'whirl': 1, 'feel': 1, 'remove': 1, 'pierce': 1, 'gather': 1, 'inform': 1, 'run': 1, 'discover': 1, 'think': 1, 'hesitate': 1, 'endeavor': 1, 'lose': 1, 'moderate': 1, 'show': 1, 'abate': 1, 'change': 1, 'call': 1, 'none': 1, 'dampness': 1, 'felt': 1, 'seem': 1, 'lengthen': 1, 'midday': 1, 'hover': 1, 'perceive': 1, 'weigh': 1, 'keep': 1, 'unite': 1, 'secure': 1, 'fail': 1, 'perish': 1, 'present': 1, 'dash': 1, 'lash': 1, 'stream': 1, 'arrest': 1, 'engulf': 1, 'direct': 1, 'notwithstanding': 1, 'shift': 1, 'follow': 1, 'accelerate': 1, 'rush': 1, 'prolong': 1, 'resort': 1, 'look': 1, 'determine': 1, 'struggle': 1, 'float': 1, 'fear': 1, 'respond': 1, 'catch': 1, 'cut': 1, 'gaze': 1, 'produce': 1, 'happen': 1, 'redescend': 1, 'repair': 1, 'do': 1, 'trust': 1, 'clock': 1, 'accompany': 1, 'press': 1, 'cry': 1, 'shout': 1, 'get': 1, 'leeward': 1, 'empty': 1, 'inhabit': 1, 'desolate': 1, 'support': 1, 'lick': 1, 'hang': 1, 'cling': 1, 'beat': 1, 'bulge': 1, 'meet': 1, 'reproach': 1, 'aid': 1, 'manage': 1, 'disengage': 1, 'relieve': 1, 'revive': 1, 'disappear': 1, 'miss': 1, 'sweep': 1, 'owe': 1, 'set': 1, 'exclaim': 1, 'swim': 1, 'land': 1}\n",
      "{'go': 5, 'make': 4, 'hundred': 4, 'find': 4, 'excite': 3, 'take': 3, 'admit': 3, 'become': 3, 'break': 3, 'strike': 3, 'forget': 2, 'agitate': 2, 'meet': 2, 'enter': 2, 'seem': 2, 'surpass': 2, 'exist': 2, 'produce': 2, 'think': 2, 'observe': 2, 'sail': 2, 'frequent': 2, 'grave': 2, 'circulate': 2, 'hurry': 2, 'revive': 2, 'give': 2, 'bring': 2, 'continue': 2, 'sink': 2, 'stop': 2, 'put': 2, 'signalise': 1, 'puzzle': 1, 'doubtless': 1, 'mention': 1, 'seafaring': 1, 'relate': 1, 'agree': 1, 'endow': 1, 'classify': 1, 'assign': 1, 'set': 1, 'conclude': 1, 'dispose': 1, 'understand': 1, 'class': 1, 'move': 1, 'prepare': 1, 'determine': 1, 'project': 1, 'hiss': 1, 'submit': 1, 'throw': 1, 'transport': 1, 'separate': 1, 'thousand': 1, 'windward': 1, 'signal': 1, 'justify': 1, 'estimate': 1, 'measure': 1, 'round': 1, 'exceed': 1, 'attain': 1, 'arrive': 1, 'occur': 1, 'direct': 1, 'jest': 1, 'treat': 1, 'sing': 1, 'ridicule': 1, 'represent': 1, 'regard': 1, 'appear': 1, 'entangle': 1, 'resuscitate': 1, 'suspect': 1, 'affirm': 1, 'see': 1, 'forth': 1, 'inflame': 1, 'quarrel': 1, 'spill': 1, 'draw': 1, 'come': 1, 'wag': 1, 'reply': 1, 'parody': 1, 'quote': 1, 'maintain': 1, 'adjure': 1, 'settle': 1, 'conquer': 1, 'bury': 1, 'solve': 1, 'avoid': 1, 'shift': 1, 'mark': 1, 'happen': 1, 'examine': 1, 'saw': 1, 'tell': 1, 'undergo': 1, 'belong': 1, 'whilst': 1, 'assemble': 1, 'felt': 1, 'penetrate': 1, 'alarm': 1, 'rush': 1, 'exclaim': 1, 'frighten': 1, 'hasten': 1, 'reassure': 1, 'divide': 1, 'brave': 1, 'pour': 1, 'prove': 1, 'hold': 1, 'extinguish': 1, 'order': 1, 'ascertain': 1, 'discover': 1, 'submerge': 1, 'oblige': 1, 'cause': 1, 'visit': 1, 'believe': 1, 'define': 1, 'do': 1, 'drive': 1, 'pierce': 1, 'withdraw': 1, 'result': 1, 'account': 1, 'rest': 1, 'record': 1, 'suppose': 1, 'lose': 1, 'amount': 1, 'accuse': 1, 'demand': 1, 'relieve': 1}\n",
      "{'take': 5, 'say': 5, 'make': 5, 'arrange': 3, 'reply': 3, 'love': 3, 'induce': 2, 'allow': 2, 'leave': 2, 'appoint': 2, 'meet': 2, 'part': 2, 'assign': 2, 'answer': 2, 'start': 2, 'see': 2, 'find': 2, 'keep': 2, 'know': 2, 'call': 2, 'marry': 2, 'want': 2, 'whoe': 2, 'surrender': 1, 'modify': 1, 'point': 1, 'give': 1, 'assert': 1, 'entitle': 1, 'compel': 1, 'yield': 1, 'please': 1, 'force': 1, 'forego': 1, 'bring': 1, 'inscribe': 1, 'strike': 1, 'transpire': 1, 'continue': 1, 'allege': 1, 'feel': 1, 'defend': 1, 'depict': 1, 'rise': 1, 'kiss': 1, 'ting': 1, 'form': 1, 'illuminate': 1, 'hide': 1, 'hang': 1, 'cause': 1, 'spread': 1, 'wend': 1, 'await': 1, 'push': 1, 'lie': 1, 'stand': 1, 'lead': 1, 'vault': 1, 'follow': 1, 'mount': 1, 'cross': 1, 'erect': 1, 'fleck': 1, 'dash': 1, 'open': 1, 'encircle': 1, 'contain': 1, 'rejoice': 1, 'enable': 1, 'utilize': 1, 'winter': 1, 'float': 1, 'hoist': 1, 'enter': 1, 'listen': 1, 'act': 1, 'resist': 1, 'hear': 1, 'originate': 1, 'suggest': 1, 'adjust': 1, 'suffer': 1, 'unavenged': 1, 'rejoin': 1, 'wound': 1, 'accept': 1, 'return': 1, 'propose': 1, 'fail': 1, 'wring': 1, 'retire': 1, 'retrace': 1, 'occupy': 1, 'live': 1, 'enforce': 1, 'esteem': 1, 'put': 1, 'conceal': 1, 'address': 1, 'captivate': 1, 'intend': 1, 'prove': 1, 'construct': 1, 'indulge': 1, 'succeed': 1, 'produce': 1, 'tell': 1, 'confound': 1, 'go': 1, 'trot': 1, 'compose': 1, 'remember': 1, 'begin': 1, 'come': 1, 'repent': 1, 'spend': 1, 'reveal': 1, 'cry': 1, 'squeak': 1, 'offer': 1, 'carry': 1, 'reach': 1, 'remain': 1}\n",
      "{'take': 4, 'fasten': 2, 'look': 2, 'strike': 1, 'begin': 1, 'surround': 1, 'intend': 1, 'accompany': 1, 'deposit': 1, 'approach': 1, 'seat': 1, 'creak': 1, 'start': 1, 'dare': 1, 'disappear': 1, 'give': 1, 'come': 1, 'roll': 1, 'remove': 1, 'cover': 1, 'turn': 1, 'find': 1, 'burn': 1, 'light': 1, 'economize': 1, 'know': 1, 'pad': 1, 'dome': 1, 'contain': 1, 'sustain': 1, 'speak': 1, 'counteract': 1, 'expose': 1, 'express': 1, 'say': 1, 'keep': 1, 'lease': 1, 'bring': 1, 'think': 1, 'become': 1, 'prefer': 1, 'float': 1}\n"
     ]
    }
   ],
   "source": [
    "# VERB SIMILARITY\n",
    "# Almacenamos los verbos por frecuencias en una lista que almacene el diccionario correspondiente a los verbos de cada libro\n",
    "most_freq_verbs: list[dict[str, int]] = []\n",
    "\n",
    "# Por cada libro en el corpus...\n",
    "for book in corpus_per_book:\n",
    "    # almacenamos el ranking de verbos en un diccionario con el verbo como llave `key` y su frecuencia como valor `value`\n",
    "    verb_ranking: dict[str, int] = {}\n",
    "    # por cada verbo `verb` y etiqueta `tag` en la lista con...\n",
    "    for verb, tag in [\n",
    "                    # los elementos `element` para cada elemento en el libro `book`...\n",
    "                    element for element in book \n",
    "                    # si la etiqueta de la palabra en el elemento es 'v'\n",
    "                    if element[1] == 'v']:\n",
    "        # si existe el verbo en las llaves `keys` del diccionario...\n",
    "        if verb in verb_ranking.keys():\n",
    "            # se le suma uno al conteo de los verbos\n",
    "            verb_ranking[verb] += 1\n",
    "        # de lo contrario...\n",
    "        else:\n",
    "            # se agrega el verbo y se inicia la cuenta\n",
    "            verb_ranking[verb] = 1\n",
    "    # agregamos el diccionario ordenado descendentemente por las frecuencias de los verbos\n",
    "    most_freq_verbs.append(dict(sorted(verb_ranking.items(), key=lambda x: x[1], reverse=True)))\n",
    "\n",
    "# Imprimimos los resultados\n",
    "for book in most_freq_verbs:\n",
    "    print(book)"
   ]
  },
  {
   "cell_type": "code",
   "execution_count": 7,
   "metadata": {},
   "outputs": [
    {
     "name": "stdout",
     "output_type": "stream",
     "text": [
      "Las palabras más similares a say (say.n.01) con el método...\n",
      " --------- wu palmer ----------\n",
      "('love', 0.5333333333333333)\n",
      "('wish', 0.5333333333333333)\n",
      "('delight', 0.5333333333333333)\n",
      "('surprise', 0.5333333333333333)\n",
      "('want', 0.5)\n",
      "------ path similarity -------\n",
      "('love', 0.125)\n",
      "('present', 0.125)\n",
      "('wish', 0.125)\n",
      "('delight', 0.125)\n",
      "('surprise', 0.125)\n",
      "****************************** \n",
      "\n",
      "Las palabras más similares a throw (throw.n.01) con el método...\n",
      " --------- wu palmer ----------\n",
      "('drive', 0.8571428571428571)\n",
      "('try', 0.7142857142857143)\n",
      "('escape', 0.7142857142857143)\n",
      "('support', 0.7142857142857143)\n",
      "('pass', 0.6666666666666666)\n",
      "------ path similarity -------\n",
      "('drive', 0.3333333333333333)\n",
      "('try', 0.2)\n",
      "('escape', 0.2)\n",
      "('support', 0.2)\n",
      "('pass', 0.16666666666666666)\n",
      "****************************** \n",
      "\n",
      "Las palabras más similares a go (go.n.01) con el método...\n",
      " --------- wu palmer ----------\n",
      "('grave', 0.375)\n",
      "('hundred', 0.35294117647058826)\n",
      "('thousand', 0.35294117647058826)\n",
      "('signal', 0.3076923076923077)\n",
      "('set', 0.2857142857142857)\n",
      "------ path similarity -------\n",
      "('signal', 0.1)\n",
      "('forget', 0.09090909090909091)\n",
      "('enter', 0.09090909090909091)\n",
      "('surpass', 0.09090909090909091)\n",
      "('exist', 0.09090909090909091)\n",
      "****************************** \n",
      "\n",
      "Las palabras más similares a take (return.n.06) con el método...\n",
      " --------- wu palmer ----------\n",
      "('keep', 0.5882352941176471)\n",
      "('part', 0.42857142857142855)\n",
      "('form', 0.35294117647058826)\n",
      "('come', 0.3333333333333333)\n",
      "('hide', 0.3)\n",
      "------ path similarity -------\n",
      "('keep', 0.125)\n",
      "('part', 0.1111111111111111)\n",
      "('allow', 0.08333333333333333)\n",
      "('forego', 0.08333333333333333)\n",
      "('form', 0.08333333333333333)\n",
      "****************************** \n",
      "\n",
      "Las palabras más similares a take (return.n.06) con el método...\n",
      " --------- wu palmer ----------\n",
      "('keep', 0.5882352941176471)\n",
      "('lease', 0.5)\n",
      "('come', 0.3333333333333333)\n",
      "('remove', 0.3333333333333333)\n",
      "('pad', 0.3333333333333333)\n",
      "------ path similarity -------\n",
      "('keep', 0.125)\n",
      "('lease', 0.1111111111111111)\n",
      "('intend', 0.08333333333333333)\n",
      "('accompany', 0.08333333333333333)\n",
      "('disappear', 0.08333333333333333)\n",
      "****************************** \n",
      "\n"
     ]
    }
   ],
   "source": [
    "# Por cada ranking en la lista `most_freq_verbs`...\n",
    "for ranking in most_freq_verbs:\n",
    "    # obtenemos el verbo más frecuente\n",
    "    top_word = max(ranking, key=ranking.get)\n",
    "    # obtenemos su synset\n",
    "    top_synsets = wordnet.synsets(top_word)\n",
    "    # si no hay synsets...\n",
    "    if not top_synsets:\n",
    "        # se continúa con la siguiente palabra\n",
    "        print(f\"No hay sinsets para el verbo '{top_word}'\")\n",
    "        continue\n",
    "    # escogemos la primera coincidencia\n",
    "    top_synset = top_synsets[0]\n",
    "\n",
    "    # Calcular similitudes Wu-Palmer con otros verbos en el ranking en una lista ordenada...\n",
    "    results_wup = sorted([\n",
    "        # con tuplas con el verbo `verb` y el puntaje dado por evaluar la similitud de la palabra más frecuente `top_synset`...\n",
    "        (verb, top_synset.wup_similarity(\n",
    "            # con el primer synset del verbo `verb` de la iteración\n",
    "            wordnet.synsets(verb)[0]) \n",
    "                # si hay synsets para el verbo, de lo contrario, se retorna 0\n",
    "                if wordnet.synsets(verb) else 0)\n",
    "        # para cada verbo `verb` en las llaves del diccionario `ranking`\n",
    "        for verb in ranking.keys()\n",
    "    # y usamos el porcentaje de coincidencia para ordenar descendentemente...\n",
    "    ], key=lambda item: item[1], reverse=True\n",
    "        # y rescatamos los elementos 1 al 6 para no tomar en cuenta la palabra propia\n",
    "        )[1:6]\n",
    "\n",
    "    # Calcular similitudes Path con otros verbos en el ranking en una lista ordenada...\n",
    "    results_path = sorted([\n",
    "        # con tuplas con el verbo `verb` y el puntaje dado por evaluar la similitud de la palabra más frecuente `top_synset`...\n",
    "        (verb, top_synset.path_similarity(\n",
    "            # con el primer synset del verbo `verb` de la iteración\n",
    "            wordnet.synsets(verb)[0]) \n",
    "                # si hay synsets para el verbo, de lo contrario, se retorna 0\n",
    "                if wordnet.synsets(verb) else 0)\n",
    "        # para cada verbo `verb` en las llaves del diccionario `ranking`\n",
    "        for verb in ranking.keys()\n",
    "    # y usamos el porcentaje de coincidencia para ordenar descendentemente...\n",
    "    ], key=lambda item: item[1], reverse=True\n",
    "        # y rescatamos los elementos 1 al 6 para no tomar en cuenta la palabra propia\n",
    "        )[1:6]\n",
    "\n",
    "    # Imprimimos los resultados\n",
    "    print(f\"Las palabras más similares a {top_word} ({top_synset.name()}) con el método...\\n {\" wu palmer \".center(30, '-')}\")\n",
    "    for result in results_wup:\n",
    "        print(result)\n",
    "    print(\" path similarity \".center(30, '-'))\n",
    "    for result in results_path:\n",
    "        print(result)\n",
    "    print('*'*30, \"\\n\")\n"
   ]
  },
  {
   "cell_type": "code",
   "execution_count": 8,
   "metadata": {},
   "outputs": [
    {
     "name": "stdout",
     "output_type": "stream",
     "text": [
      "{'uncle': 33, 'professor': 8, 'one': 8, 'hardwigg': 6, 'time': 6, 'house': 6, 'man': 5, 'dinner': 5, 'mineralogy': 4, 'cook': 4, 'upon': 4, 'like': 4, 'event': 4, 'day': 3, 'adventure': 3, 'geology': 3, 'three': 3, 'truth': 3, 'question': 3, 'science': 3, 'would': 3, 'glass': 3, 'interest': 3, 'u': 3, 'letter': 3, 'subject': 3, 'nothing': 3, 'every': 3, 'icelandic': 3, 'language': 3, 'home': 2, 'town': 2, 'street': 2, 'door': 2, 'foot': 2, 'could': 2, 'room': 2, 'tone': 2, 'moment': 2, 'omelette': 2, 'value': 2, 'benefit': 2, 'order': 2, 'knowledge': 2, 'word': 2, 'connection': 2, 'fond': 2, 'fact': 2, 'study': 2, 'specimen': 2, 'meal': 2, 'men': 2, 'nose': 2, 'article': 2, 'presence': 2, 'half': 2, 'notion': 2, 'part': 2, 'four': 2, 'leaf': 2, 'account': 2, 'hand': 2, 'book': 2, 'work': 2, 'iceland': 2, 'idiom': 2, 'parchment': 2, 'piece': 2, 'runic': 2, 'matter': 2, 'two': 2, 'thousand': 2, 'make': 1, 'great': 1, 'discovery': 1, 'looking': 1, 'since': 1, 'reality': 1, 'mother': 1, 'sister': 1, 'englishwoman': 1, 'fatherless': 1, 'fatherland': 1, 'philosophy': 1, 'chemistry': 1, 'ology': 1, 'hour': 1, 'absent': 1, 'necessity': 1, 'von': 1, 'upstairs': 1, 'sort': 1, 'within': 1, 'joint': 1, 'domicile': 1, 'step': 1, 'landing': 1, 'harry': 1, 'problem': 1, 'soda': 1, 'artichoke': 1, 'amount': 1, 'asbestos': 1, 'therefore': 1, 'person': 1, 'category': 1, 'supply': 1, 'information': 1, 'peddler': 1, 'good': 1, 'others': 1, 'store': 1, 'society': 1, 'midnight': 1, 'oil': 1, 'tome': 1, 'quarto': 1, 'folio': 1, 'reason': 1, 'may': 1, 'intent': 1, 'phenomenon': 1, 'heaven': 1, 'fault': 1, 'allude': 1, 'way': 1, 'moon': 1, 'meaning': 1, 'right': 1, 'adjective': 1, 'welsh': 1, 'village': 1, 'habit': 1, 'period': 1, 'discourse': 1, 'water': 1, 'kind': 1, 'relative': 1, 'tie': 1, 'affection': 1, 'doings': 1, 'thing': 1, 'lecture': 1, 'anxiety': 1, 'earth': 1, 'object': 1, 'life': 1, 'stone': 1, 'chalk': 1, 'metal': 1, 'hammer': 1, 'steel': 1, 'rod': 1, 'loadstone': 1, 'pipe': 1, 'bottle': 1, 'acid': 1, 'six': 1, 'hundred': 1, 'weight': 1, 'hardness': 1, 'fusibility': 1, 'sound': 1, 'taste': 1, 'smell': 1, 'age': 1, 'communication': 1, 'sir': 1, 'humphry': 1, 'davy': 1, 'captain': 1, 'franklin': 1, 'state': 1, 'must': 1, 'appearance': 1, 'ala': 1, 'reader': 1, 'portrait': 1, 'year': 1, 'tall': 1, 'wiry': 1, 'spectacle': 1, 'extent': 1, 'round': 1, 'eye': 1, 'file': 1, 'compass': 1, 'n': 1, 'nasal': 1, 'deviation': 1, 'tobacco': 1, 'another': 1, 'peculiarity': 1, 'yard': 1, 'fist': 1, 'humor': 1, 'companion': 1, 'konigstrasse': 1, 'hamburg': 1, 'though': 1, 'centre': 1, 'wood': 1, 'brick': 1, 'fire': 1, 'handsome': 1, 'perpendicular': 1, 'canal': 1, 'artist': 1, 'ivy': 1, 'tree': 1, 'property': 1, 'income': 1, 'possession': 1, 'gretchen': 1, 'lady': 1, 'inhabitant': 1, 'fury': 1, 'happiest': 1, 'family': 1, 'impatience': 1, 'flower': 1, 'pot': 1, 'morning': 1, 'quicker': 1, 'interview': 1, 'museum': 1, 'curiosity': 1, 'edition': 1, 'copy': 1, 'forehead': 1, 'volume': 1, 'stall': 1, 'rapture': 1, 'binding': 1, 'clearness': 1, 'character': 1, 'ease': 1, 'aloud': 1, 'dozen': 1, 'fancy': 1, 'fuss': 1, 'province': 1, 'snorre': 1, 'tarleson': 1, 'author': 1, 'prince': 1, 'german': 1, 'penny': 1, 'translation': 1, 'delight': 1, 'tongue': 1, 'combination': 1, 'student': 1, 'remark': 1, 'shoulder': 1, 'comprehension': 1, 'manuscript': 1, 'population': 1, 'odin': 1, 'ignorance': 1, 'venture': 1, 'joke': 1, 'scrap': 1, 'morsel': 1, 'bread': 1, 'five': 1, 'inch': 1, 'fashion': 1, 'line': 1, 'facsimile': 1, 'importance': 1, 'series': 1, 'lot': 1, 'being': 1, 'document': 1, 'conviction': 1, 'alphabet': 1, 'dialect': 1, 'invention': 1, 'nature': 1, 'motion': 1, 'finger': 1, 'ought': 1, 'polyglot': 1, 'dictionary': 1, 'pundit': 1, 'use': 1, 'globe': 1, 'doubt': 1, 'measure': 1, 'impetuosity': 1, 'might': 1, 'clock': 1, 'table': 1, 'bother': 1, 'forth': 1, 'dining': 1, 'quarter': 1, 'politeness': 1, 'minute': 1, 'sign': 1, 'pleasure': 1, 'acme': 1, 'soup': 1, 'ham': 1, 'trimming': 1, 'oyster': 1, 'veal': 1, 'prune': 1, 'fruit': 1, 'moselle': 1, 'sake': 1, 'forbore': 1, 'share': 1, 'conscience': 1, 'housekeeper': 1, 'mind': 1, 'trouble': 1, 'master': 1, 'havoc': 1, 'viand': 1, 'alarm': 1, 'apple': 1, 'wine': 1, 'voice': 1, 'distance': 1, 'roaring': 1, 'leap': 1, 'loud': 1}\n",
      "{'balloon': 29, 'could': 16, 'land': 14, 'sea': 12, 'car': 11, 'foot': 10, 'voyager': 9, 'air': 8, 'hour': 8, 'wave': 7, 'mile': 7, 'wind': 7, 'gas': 6, 'like': 5, 'four': 5, 'storm': 5, 'without': 5, 'might': 5, 'beneath': 5, 'passenger': 5, 'ocean': 5, 'article': 5, 'time': 5, 'must': 5, 'men': 5, 'u': 4, 'weight': 4, 'everything': 4, 'one': 4, 'fact': 4, 'round': 4, 'five': 4, 'surface': 4, 'part': 4, 'day': 4, 'two': 4, 'position': 4, 'whether': 4, 'half': 4, 'whose': 4, 'voice': 4, 'rise': 3, 'march': 3, 'distance': 3, 'water': 3, 'tempest': 3, 'movement': 3, 'rate': 3, 'midst': 3, 'atmosphere': 3, 'night': 3, 'danger': 3, 'height': 3, 'would': 3, 'region': 3, 'towards': 3, 'case': 3, 'direction': 3, 'mesh': 3, 'watery': 2, 'clock': 2, 'northeast': 2, 'parallel': 2, 'coast': 2, 'vessel': 2, 'shore': 2, 'hundred': 2, 'waterspout': 2, 'catastrophe': 2, 'space': 2, 'point': 2, 'vapor': 2, 'hung': 2, 'world': 2, 'symptom': 2, 'since': 2, 'although': 2, 'descent': 2, 'provision': 2, 'layer': 2, 'fluid': 2, 'abyss': 2, 'death': 2, 'hurricane': 2, 'breeze': 2, 'element': 2, 'continent': 2, 'island': 2, 'mercy': 2, 'crest': 2, 'cost': 2, 'effort': 2, 'southwest': 2, 'master': 2, 'possibility': 2, 'rent': 2, 'minute': 2, 'fall': 2, 'dog': 2, 'bird': 2, 'captain': 1, 'heaven': 1, 'ballast': 1, 'sack': 1, 'noise': 1, 'dashing': 1, 'overboard': 1, 'every': 1, 'word': 1, 'desert': 1, 'pacific': 1, 'evening': 1, 'middle': 1, 'equinox': 1, 'year': 1, 'intermission': 1, 'ravage': 1, 'america': 1, 'europe': 1, 'asia': 1, 'equator': 1, 'fortieth': 1, 'town': 1, 'forest': 1, 'mountain': 1, 'account': 1, 'district': 1, 'thousand': 1, 'people': 1, 'trace': 1, 'fury': 1, 'disaster': 1, 'havana': 1, 'guadalupe': 1, 'october': 1, 'july': 1, 'place': 1, 'drama': 1, 'ball': 1, 'summit': 1, 'column': 1, 'ninety': 1, 'maelstrom': 1, 'spray': 1, 'whence': 1, 'may': 1, 'plaything': 1, 'destitute': 1, 'mark': 1, 'guidance': 1, 'mean': 1, 'route': 1, 'departure': 1, 'rotation': 1, 'degree': 1, 'eye': 1, 'thick': 1, 'mist': 1, 'dark': 1, 'around': 1, 'density': 1, 'reflection': 1, 'light': 1, 'sound': 1, 'roaring': 1, 'obscurity': 1, 'zone': 1, 'ammunition': 1, 'arm': 1, 'life': 1, 'enterprise': 1, 'alarm': 1, 'soul': 1, 'beginning': 1, 'dawn': 1, 'lighter': 1, 'cloud': 1, 'transit': 1, 'sailor': 1, 'topsail': 1, 'commotion': 1, 'passage': 1, 'meteor': 1, 'west': 1, 'sheet': 1, 'regard': 1, 'typhoon': 1, 'form': 1, 'thanks': 1, 'capacity': 1, 'altitude': 1, 'circle': 1, 'cord': 1, 'expanse': 1, 'speck': 1, 'upon': 1, 'anchor': 1, 'violence': 1, 'limit': 1, 'gaze': 1, 'radius': 1, 'forty': 1, 'liquid': 1, 'plain': 1, 'herd': 1, 'charger': 1, 'sight': 1, 'ship': 1, 'course': 1, 'energy': 1, 'work': 1, 'rapidity': 1, 'frightful': 1, 'situation': 1, 'machine': 1, 'attempt': 1, 'midday': 1, 'within': 1, 'escape': 1, 'silk': 1, 'suspension': 1, 'certainty': 1, 'expedient': 1, 'face': 1, 'murmur': 1, 'lip': 1, 'anything': 1, 'sort': 1, 'willow': 1, 'basket': 1, 'moment': 1, 'man': 1, 'heart': 1, 'others': 1, 'dollar': 1, 'bag': 1, 'yes': 1, 'let': 1, 'hold': 1, 'mode': 1, 'rope': 1, 'clung': 1, 'sensibility': 1, 'difference': 1, 'apparatus': 1, 'balance': 1, 'precision': 1, 'understood': 1, 'occasion': 1, 'aloft': 1, 'escaping': 1, 'rule': 1, 'barking': 1, 'top': 1, 'something': 1, 'daybreak': 1, 'chance': 1, 'question': 1, 'spot': 1, 'ignorant': 1, 'billow': 1, 'bottom': 1, 'wing': 1, 'flabby': 1, 'fold': 1, 'along': 1, 'fathom': 1, 'cry': 1, 'pair': 1, 'lung': 1, 'bound': 1, 'relieved': 1, 'beach': 1, 'reach': 1, 'instant': 1, 'person': 1, 'circumstance': 1, 'castaway': 1, 'firm': 1, 'ground': 1, 'thinking': 1, 'absent': 1}\n",
      "{'could': 10, 'monster': 10, 'three': 9, 'two': 8, 'sea': 8, 'company': 7, 'one': 6, 'fact': 6, 'length': 6, 'ship': 6, 'scotia': 6, 'captain': 5, 'question': 5, 'day': 5, 'journal': 5, 'vessel': 4, 'time': 4, 'object': 4, 'creature': 4, 'foot': 4, 'opinion': 4, 'mile': 4, 'place': 4, 'shock': 4, 'reef': 3, 'year': 3, 'mind': 3, 'continent': 3, 'officer': 3, 'country': 3, 'whale': 3, 'science': 3, 'observation': 3, 'governor': 3, 'higginson': 3, 'steam': 3, 'five': 3, 'water': 3, 'ocean': 3, 'lat': 3, 'part': 3, 'yard': 3, 'board': 3, 'whose': 3, 'existence': 3, 'rock': 3, 'moravian': 3, 'passenger': 3, 'thanks': 3, 'anderson': 3, 'compartment': 3, 'phenomenon': 2, 'men': 2, 'sailor': 2, 'europe': 2, 'america': 2, 'state': 2, 'matter': 2, 'past': 2, 'movement': 2, 'apparition': 2, 'shape': 2, 'rapidity': 2, 'cetacean': 2, 'might': 2, 'dimension': 2, 'july': 2, 'navigation': 2, 'sandbank': 2, 'column': 2, 'air': 2, 'mammal': 2, 'pacific': 2, 'columbus': 2, 'another': 2, 'chart': 2, 'seven': 2, 'helvetia': 2, 'shannon': 2, 'royal': 2, 'island': 2, 'report': 2, 'line': 2, 'staff': 2, 'upon': 2, 'every': 2, 'paper': 2, 'moby': 2, 'dick': 2, 'month': 2, 'article': 2, 'institution': 2, 'nature': 2, 'like': 2, 'public': 2, 'danger': 2, 'quarter': 2, 'four': 2, 'knot': 2, 'strength': 2, 'hull': 2, 'would': 2, 'bottom': 2, 'circumstance': 2, 'half': 2, 'minute': 2, 'leak': 2, 'iron': 2, 'plate': 2, 'shifting': 1, 'incident': 1, 'rumour': 1, 'population': 1, 'interior': 1, 'merchant': 1, 'skipper': 1, 'government': 1, 'thing': 1, 'respect': 1, 'power': 1, 'locomotion': 1, 'life': 1, 'size': 1, 'hitherto': 1, 'consideration': 1, 'mean': 1, 'diver': 1, 'estimate': 1, 'width': 1, 'ichthyologist': 1, 'tendency': 1, 'favour': 1, 'excitement': 1, 'world': 1, 'list': 1, 'fable': 1, 'idea': 1, 'steamer': 1, 'calcutta': 1, 'burnach': 1, 'mass': 1, 'coast': 1, 'australia': 1, 'baker': 1, 'presence': 1, 'position': 1, 'shot': 1, 'noise': 1, 'hundred': 1, 'unless': 1, 'eruption': 1, 'geyser': 1, 'neither': 1, 'till': 1, 'vapour': 1, 'west': 1, 'india': 1, 'velocity': 1, 'interval': 1, 'point': 1, 'distance': 1, 'league': 1, 'fifteen': 1, 'mail': 1, 'steamship': 1, 'portion': 1, 'atlantic': 1, 'lying': 1, 'united': 1, 'though': 1, 'aleutian': 1, 'kulammak': 1, 'umgullich': 1, 'sixty': 1, 'pereire': 1, 'collision': 1, 'etna': 1, 'inman': 1, 'procès': 1, 'verbal': 1, 'frigate': 1, 'normandie': 1, 'survey': 1, 'commodore': 1, 'lord': 1, 'clyde': 1, 'people': 1, 'england': 1, 'germany': 1, 'resort': 1, 'fashion': 1, 'cafés': 1, 'stage': 1, 'kind': 1, 'story': 1, 'caricature': 1, 'region': 1, 'kraken': 1, 'tentacle': 1, 'ton': 1, 'abyss': 1, 'legend': 1, 'aristotle': 1, 'pliny': 1, 'tale': 1, 'bishop': 1, 'pontoppidan': 1, 'account': 1, 'paul': 1, 'heggede': 1, 'harrington': 1, 'faith': 1, 'castillan': 1, 'serpent': 1, 'controversy': 1, 'society': 1, 'savant': 1, 'editor': 1, 'believer': 1, 'ink': 1, 'campaign': 1, 'blood': 1, 'personality': 1, 'six': 1, 'war': 1, 'fortune': 1, 'geographical': 1, 'brazil': 1, 'academy': 1, 'berlin': 1, 'association': 1, 'washington': 1, 'discussion': 1, 'indian': 1, 'archipelago': 1, 'cosmos': 1, 'abbé': 1, 'moigno': 1, 'mittheilungen': 1, 'petermann': 1, 'chronicle': 1, 'france': 1, 'zest': 1, 'writer': 1, 'remark': 1, 'linnæus': 1, 'adversary': 1, 'fool': 1, 'contemporary': 1, 'lie': 1, 'krakens': 1, 'lucubration': 1, 'contributor': 1, 'chief': 1, 'hippolytus': 1, 'amidst': 1, 'burst': 1, 'laughter': 1, 'wit': 1, 'problem': 1, 'indefinite': 1, 'proportion': 1, 'march': 1, 'montreal': 1, 'night': 1, 'struck': 1, 'effort': 1, 'wind': 1, 'rate': 1, 'home': 1, 'canada': 1, 'accident': 1, 'clock': 1, 'morning': 1, 'attention': 1, 'nothing': 1, 'eddy': 1, 'cable': 1, 'distant': 1, 'surface': 1, 'bearing': 1, 'route': 1, 'without': 1, 'damage': 1, 'wreck': 1, 'examination': 1, 'repair': 1, 'keel': 1, 'others': 1, 'week': 1, 'nationality': 1, 'victim': 1, 'reputation': 1, 'april': 1, 'breeze': 1, 'cunard': 1, 'speed': 1, 'afternoon': 1, 'lunch': 1, 'saloon': 1, 'aft': 1, 'something': 1, 'blunt': 1, 'shout': 1, 'carpenter': 1, 'watch': 1, 'bridge': 1, 'partition': 1, 'impunity': 1, 'hold': 1, 'influx': 1, 'force': 1, 'boiler': 1, 'fire': 1, 'engine': 1, 'extent': 1, 'injury': 1, 'afterwards': 1, 'hole': 1, 'diameter': 1, 'paddle': 1, 'course': 1, 'cape': 1, 'clear': 1, 'delay': 1, 'uneasiness': 1, 'liverpool': 1, 'basin': 1, 'engineer': 1, 'dock': 1, 'rent': 1, 'form': 1, 'triangle': 1, 'punch': 1, 'instrument': 1, 'perforation': 1, 'stamp': 1, 'inch': 1, 'thick': 1, 'motion': 1, 'torrent': 1, 'moment': 1, 'casualty': 1, 'responsibility': 1, 'shipwreck': 1, 'thousand': 1, 'loss': 1, 'lloyd': 1, 'number': 1, 'absence': 1, 'news': 1, 'disappearance': 1, 'communication': 1, 'price': 1}\n",
      "{'captain': 13, 'servadac': 13, 'count': 10, 'two': 10, 'mostaganem': 7, 'would': 6, 'timascheff': 5, 'way': 5, 'shelif': 5, 'one': 4, 'officer': 4, 'clock': 4, 'coast': 4, 'town': 4, 'might': 4, 'man': 4, 'sword': 3, 'second': 3, 'cause': 3, 'place': 3, 'upon': 3, 'mile': 3, 'quarter': 3, 'friend': 3, 'gourbi': 3, 'lover': 3, 'nothing': 2, 'matter': 2, 'seniority': 2, 'affair': 2, 'kind': 2, 'name': 2, 'hector': 2, 'staff': 2, 'wassili': 2, 'every': 2, 'case': 2, 'shall': 2, 'dispute': 2, 'wagner': 2, 'rossini': 2, 'smile': 2, 'another': 2, 'mouth': 2, 'month': 2, 'continent': 2, 'towards': 2, 'hour': 2, 'five': 2, 'entrance': 2, 'thousand': 2, 'harbor': 2, 'cliff': 2, 'part': 2, 'concession': 2, 'word': 2, 'four': 2, 'effort': 2, 'rondo': 2, 'composition': 2, 'poetry': 2, 'rhyme': 2, 'simplicity': 2, 'er': 2, 'love': 2, 'verse': 2, 'chapter': 1, 'challenge': 1, 'sir': 1, 'view': 1, 'mere': 1, 'claim': 1, 'alternative': 1, 'neither': 1, 'pistol': 1, 'pretension': 1, 'altercation': 1, 'end': 1, 'interchange': 1, 'disputant': 1, 'card': 1, 'title': 1, 'board': 1, 'schooner': 1, 'day': 1, 'point': 1, 'salute': 1, 'courtesy': 1, 'thought': 1, 'far': 1, 'pretext': 1, 'contention': 1, 'champion': 1, 'bow': 1, 'scene': 1, 'extremity': 1, 'cape': 1, 'algerian': 1, 'tenes': 1, 'headland': 1, 'foot': 1, 'azure': 1, 'water': 1, 'mediterranean': 1, 'strand': 1, 'hue': 1, 'rock': 1, 'base': 1, 'december': 1, 'sun': 1, 'projection': 1, 'dazzling': 1, 'brightness': 1, 'mass': 1, 'cloud': 1, 'fog': 1, 'region': 1, 'world': 1, 'interruption': 1, 'traffic': 1, 'veil': 1, 'across': 1, 'land': 1, 'sea': 1, 'leave': 1, 'creek': 1, 'seat': 1, 'stern': 1, 'return': 1, 'shore': 1, 'cable': 1, 'length': 1, 'sign': 1, 'distance': 1, 'horse': 1, 'saddle': 1, 'attendant': 1, 'twelve': 1, 'rider': 1, 'bridge': 1, 'steed': 1, 'foam': 1, 'mascara': 1, 'gate': 1, 'wall': 1, 'date': 1, 'inhabitant': 1, 'three': 1, 'besides': 1, 'district': 1, 'province': 1, 'oran': 1, 'station': 1, 'product': 1, 'mina': 1, 'lower': 1, 'existence': 1, 'amidst': 1, 'owner': 1, 'dobryna': 1, 'standard': 1, 'yard': 1, 'whilst': 1, 'pennant': 1, 'yacht': 1, 'club': 1, 'letter': 1, 'initial': 1, 'matmore': 1, 'fusileers': 1, 'artillery': 1, 'honor': 1, 'could': 1, 'discussion': 1, 'either': 1, 'side': 1, 'representation': 1, 'avail': 1, 'injury': 1, 'fool': 1, 'need': 1, 'certainly': 1, 'intention': 1, 'incredulous': 1, 'quarrel': 1, 'explanation': 1, 'without': 1, 'parley': 1, 'office': 1, 'preliminary': 1, 'like': 1, 'russian': 1, 'czar': 1, 'course': 1, 'weapon': 1, 'duel': 1, 'morning': 1, 'january': 1, 'nine': 1, 'spot': 1, 'half': 1, 'assurance': 1, 'appointment': 1, 'punctuality': 1, 'hand': 1, 'zulma': 1, 'cafe': 1, 'game': 1, 'piquet': 1, 'step': 1, 'lodging': 1, 'levy': 1, 'hut': 1, 'orderly': 1, 'companion': 1, 'exile': 1, 'penance': 1, 'occupation': 1, 'model': 1, 'versification': 1, 'ode': 1, 'widow': 1, 'tenor': 1, 'muse': 1, 'object': 1, 'respect': 1, 'worthy': 1, 'affection': 1, 'whether': 1, 'aphorism': 1, 'gallant': 1, 'whose': 1, 'ambition': 1, 'present': 1, 'roundelay': 1, 'sentiment': 1, 'fancy': 1, 'effect': 1, 'algeria': 1, 'form': 1, 'plague': 1, 'ah': 1, 'next': 1, 'ben': 1, 'zoof': 1, 'aloud': 1, 'rear': 1, 'booth': 1, 'fete': 1, 'remember': 1, 'come': 1, 'money': 1, 'mirror': 1, 'sweetheart': 1, 'bosh': 1, 'disgust': 1, 'others': 1, 'reed': 1, 'hold': 1, 'tongue': 1, 'couplet': 1, 'beyond': 1, 'genius': 1, 'farther': 1, 'six': 1, 'line': 1, 'limit': 1}\n",
      "{'one': 5, 'ardan': 3, 'projectile': 3, 'car': 3, 'may': 3, 'stony': 2, 'barbican': 2, 'three': 2, 'mouth': 2, 'time': 2, 'windlass': 2, 'interior': 2, 'light': 2, 'prison': 2, 'moment': 1, 'clock': 1, 'belonging': 1, 'work': 1, 'hill': 1, 'farewell': 1, 'friend': 1, 'two': 1, 'dog': 1, 'traveller': 1, 'cannon': 1, 'flying': 1, 'leave': 1, 'standing': 1, 'silence': 1, 'around': 1, 'men': 1, 'yawning': 1, 'gulf': 1, 'access': 1, 'tackle': 1, 'scaffolding': 1, 'space': 1, 'columbiad': 1, 'obstruction': 1, 'door': 1, 'trap': 1, 'inside': 1, 'mean': 1, 'combination': 1, 'screw': 1, 'bolt': 1, 'invention': 1, 'glass': 1, 'iron': 1, 'plate': 1, 'solidity': 1, 'joint': 1, 'care': 1, 'gas': 1, 'burner': 1, 'store': 1, 'heat': 1, 'could': 1, 'week': 1, 'blaze': 1, 'like': 1, 'chamber': 1, 'sofa': 1, 'wall': 1, 'ceiling': 1, 'article': 1, 'arm': 1, 'instrument': 1, 'utensil': 1, 'projection': 1, 'wadding': 1, 'injury': 1, 'shock': 1, 'fact': 1, 'precaution': 1, 'danger': 1, 'adventurer': 1, 'would': 1, 'appearance': 1, 'thing': 1, 'spot': 1, 'part': 1, 'privilege': 1, 'window': 1, 'hundred': 1, 'year': 1, 'ah': 1, 'smile': 1, 'lease': 1, 'tenement': 1, 'coffin': 1, 'eh': 1, 'mahomet': 1, 'air': 1, 'wo': 1, 'milestone': 1}\n"
     ]
    }
   ],
   "source": [
    "# NOUN SIMILARITY\n",
    "# Almacenamos los sustantivos por frecuencias en una lista que almacene el diccionario correspondiente a los sustantivos de cada libro\n",
    "most_freq_nouns: list[dict[str, int]] = []\n",
    "\n",
    "# Por cada libro en el corpus...\n",
    "for book in corpus_per_book:\n",
    "    # almacenamos el ranking de sustantivos en un diccionario con el sustantivo como llave `key` y su frecuencia como valor `value`\n",
    "    noun_ranking: dict[str, int] = {}\n",
    "    # por cada sustantivo `noun` y etiqueta `tag` en la lista con...\n",
    "    for noun, tag in [\n",
    "                    # los elementos `element` para cada elemento en el libro `book`...\n",
    "                    element for element in book \n",
    "                    # si la etiqueta de la palabra en el elemento es 'n'\n",
    "                    if element[1] == 'n']:\n",
    "        # si existe el sustantivo en las llaves `keys` del diccionario...\n",
    "        if noun in noun_ranking.keys():\n",
    "            # se le suma uno al conteo de los sustantivos\n",
    "            noun_ranking[noun] += 1\n",
    "        # de lo contrario...\n",
    "        else:\n",
    "            # se agrega el sustantivo y se inicia la cuenta\n",
    "            noun_ranking[noun] = 1\n",
    "    # agregamos el diccionario ordenado descendentemente por las frecuencias de los sustantivos\n",
    "    most_freq_nouns.append(dict(sorted(noun_ranking.items(), key=lambda x: x[1], reverse=True)))\n",
    "\n",
    "# Imprimimos los resultados\n",
    "for book in most_freq_nouns:\n",
    "    print(book)"
   ]
  },
  {
   "cell_type": "code",
   "execution_count": 9,
   "metadata": {},
   "outputs": [
    {
     "name": "stdout",
     "output_type": "stream",
     "text": [
      "Las palabras más similares a uncle (uncle.n.01) con el método...\n",
      " --------- wu palmer ----------\n",
      "('person', 0.7058823529411765)\n",
      "('relative', 0.6666666666666666)\n",
      "('inhabitant', 0.6666666666666666)\n",
      "('polyglot', 0.6666666666666666)\n",
      "('man', 0.631578947368421)\n",
      "------ path similarity -------\n",
      "('relative', 0.3333333333333333)\n",
      "('person', 0.25)\n",
      "('inhabitant', 0.2)\n",
      "('polyglot', 0.2)\n",
      "('man', 0.16666666666666666)\n",
      "****************************** \n",
      "\n",
      "Las palabras más similares a balloon (balloon.n.01) con el método...\n",
      " --------- wu palmer ----------\n",
      "('ship', 0.782608695652174)\n",
      "('car', 0.6666666666666666)\n",
      "('ammunition', 0.6)\n",
      "('machine', 0.6)\n",
      "('basket', 0.6)\n",
      "------ path similarity -------\n",
      "('ship', 0.16666666666666666)\n",
      "('car', 0.1111111111111111)\n",
      "('surface', 0.1111111111111111)\n",
      "('layer', 0.1111111111111111)\n",
      "('plaything', 0.1111111111111111)\n",
      "****************************** \n",
      "\n",
      "No hay sinsets para el sustantivo 'could'\n",
      "Las palabras más similares a captain (captain.n.01) con el método...\n",
      " --------- wu palmer ----------\n",
      "('officer', 0.88)\n",
      "('orderly', 0.7407407407407407)\n",
      "('friend', 0.5454545454545454)\n",
      "('lover', 0.5454545454545454)\n",
      "('disputant', 0.5454545454545454)\n",
      "------ path similarity -------\n",
      "('officer', 0.25)\n",
      "('orderly', 0.125)\n",
      "('friend', 0.1111111111111111)\n",
      "('lover', 0.1111111111111111)\n",
      "('disputant', 0.1111111111111111)\n",
      "****************************** \n",
      "\n",
      "Las palabras más similares a one (one.n.01) con el método...\n",
      " --------- wu palmer ----------\n",
      "('three', 0.875)\n",
      "('two', 0.875)\n",
      "('hundred', 0.75)\n",
      "('moment', 0.46153846153846156)\n",
      "('week', 0.42857142857142855)\n",
      "------ path similarity -------\n",
      "('three', 0.3333333333333333)\n",
      "('two', 0.3333333333333333)\n",
      "('hundred', 0.2)\n",
      "('moment', 0.125)\n",
      "('space', 0.1111111111111111)\n",
      "****************************** \n",
      "\n"
     ]
    }
   ],
   "source": [
    "# Por cada ranking en la lista `most_freq_nouns`...\n",
    "for ranking in most_freq_nouns:\n",
    "    # obtenemos el sustantivo más frecuente\n",
    "    top_word = max(ranking, key=ranking.get)\n",
    "    # obtenemos su synset\n",
    "    top_synsets = wordnet.synsets(top_word)\n",
    "    # si no hay synsets...\n",
    "    if not top_synsets:\n",
    "        # se continúa con la siguiente palabra\n",
    "        print(f\"No hay sinsets para el sustantivo '{top_word}'\")\n",
    "        continue\n",
    "    # escogemos la primera coincidencia\n",
    "    top_synset = top_synsets[0]\n",
    "\n",
    "    # Calcular similitudes Wu-Palmer con otros sustantivos en el ranking en una lista ordenada...\n",
    "    results_wup = sorted([\n",
    "        # con tuplas con el sustantivo `noun` y el puntaje dado por evaluar la similitud de la palabra más frecuente `top_synset`...\n",
    "        (noun, top_synset.wup_similarity(\n",
    "            # con el primer synset del sustantivo `noun` de la iteración\n",
    "            wordnet.synsets(noun)[0]) \n",
    "                # si hay synsets para el sustantivo, de lo contrario, se retorna 0\n",
    "                if wordnet.synsets(noun) else 0)\n",
    "        # para cada sustantivo `noun` en las llaves del diccionario `ranking`\n",
    "        for noun in ranking.keys()\n",
    "    # y usamos el porcentaje de coincidencia para ordenar descendentemente...\n",
    "    ], key=lambda item: item[1], reverse=True\n",
    "        # y rescatamos los elementos 1 al 6 para no tomar en cuenta la palabra propia\n",
    "        )[1:6]\n",
    "\n",
    "    # Calcular similitudes Path con otros verbos en el ranking en una lista ordenada...\n",
    "    results_path = sorted([\n",
    "        # con tuplas con el verbo `verb` y el puntaje dado por evaluar la similitud de la palabra más frecuente `top_synset`...\n",
    "        (noun, top_synset.path_similarity(\n",
    "            # con el primer synset del sustantivo `noun` de la iteración\n",
    "            wordnet.synsets(noun)[0]) \n",
    "                # si hay synsets para el sustantivo, de lo contrario, se retorna 0\n",
    "                if wordnet.synsets(noun) else 0)\n",
    "        # para cada sustantivo `noun` en las llaves del diccionario `ranking`\n",
    "        for noun in ranking.keys()\n",
    "    # y usamos el porcentaje de coincidencia para ordenar descendentemente...\n",
    "    ], key=lambda item: item[1], reverse=True\n",
    "        # y rescatamos los elementos 1 al 6 para no tomar en cuenta la palabra propia\n",
    "        )[1:6]\n",
    "\n",
    "    # Imprimimos los resultados\n",
    "    print(f\"Las palabras más similares a {top_word} ({top_synset.name()}) con el método...\\n {\" wu palmer \".center(30, '-')}\")\n",
    "    for result in results_wup:\n",
    "        print(result)\n",
    "    print(\" path similarity \".center(30, '-'))\n",
    "    for result in results_path:\n",
    "        print(result)\n",
    "    print('*'*30, \"\\n\")"
   ]
  },
  {
   "cell_type": "markdown",
   "metadata": {},
   "source": [
    "## Similitud de documentos con synsets\n",
    "En la práctica 3 se encontraron 3 métodos con buenos resultados: Text Rank, Rake y Frecuencia de Palabras Normalizada. Se usará Rake ya que solo se requiere unir los tokens de cada libro, simplificando el proceso."
   ]
  },
  {
   "cell_type": "code",
   "execution_count": 10,
   "metadata": {},
   "outputs": [],
   "source": [
    "alg_rake: Rake = Rake()"
   ]
  },
  {
   "cell_type": "code",
   "execution_count": 11,
   "metadata": {},
   "outputs": [
    {
     "name": "stdout",
     "output_type": "stream",
     "text": [
      "classify six hundred different geological specimens\n",
      "several thousand people crushed\n",
      "immense kraken whose tentacles could entangle\n",
      "two officers listened gravely enough\n",
      "car soon came back empty\n"
     ]
    }
   ],
   "source": [
    "# Almacenamos las frases más significativas de cada libro en una lista:\n",
    "top_sentences: list[list[str]] = []\n",
    "\n",
    "# Por cada libro `book` en `libros`\n",
    "for book in libros:\n",
    "    # Eliminar números y normalizar espacios\n",
    "    clean_book = re.sub(r'\\d+', '', book)           # Eliminar números\n",
    "    clean_book = clean_book.replace('\\n', ' ')      # Reemplazar saltos de línea por espacios\n",
    "    clean_book = clean_book.replace('!', '.')       # Elimina el caracter '!'\n",
    "    clean_book = clean_book.replace('?', '.')       # Elimina el caracter '?'\n",
    "    clean_book = clean_book.replace('”', '')        # Elimina el caracter '”'\n",
    "    clean_book = clean_book.replace('“', '')        # Elimina el caracter '“'\n",
    "    clean_book = clean_book.replace('—', '')        # Elimina el caracter '—'\n",
    "    clean_book = re.sub(r'\\s+', ' ', clean_book)    # Reemplazar múltiples espacios por uno solo\n",
    "\n",
    "    # Tokenizar en oraciones\n",
    "    sentences: list[str] = sent_tokenize(clean_book)\n",
    "    # print(\"\\n\" + \"Oraciones tokenizadas:\".center(150, '-'))\n",
    "    # for sentence in sentences:\n",
    "    #     print(sentence)\n",
    "\n",
    "    # Procesamos las oraciones unidas por un espacio ' ' con el algoritmo rake\n",
    "    alg_rake.extract_keywords_from_text(\" \".join(sentences))\n",
    "    # Almacenar la oración principal para este libro\n",
    "    top_sentences.append(alg_rake.get_ranked_phrases()[0])\n",
    "\n",
    "# Imprimimos los resultados\n",
    "for top in top_sentences:\n",
    "    print(top)"
   ]
  },
  {
   "cell_type": "code",
   "execution_count": 12,
   "metadata": {},
   "outputs": [
    {
     "name": "stdout",
     "output_type": "stream",
     "text": [
      "Similitud entre 'classify six hundred different geological specimens' y libro 1(several thousand people crushed): 0.17\n",
      "Similitud entre 'classify six hundred different geological specimens' y libro 2(immense kraken whose tentacles could entangle): 0.12\n",
      "Similitud entre 'classify six hundred different geological specimens' y libro 3(two officers listened gravely enough): 0.14\n",
      "Similitud entre 'classify six hundred different geological specimens' y libro 4(car soon came back empty): 0.12\n"
     ]
    }
   ],
   "source": [
    "\n",
    "# Tokenizar las frases y obtener sus sinsets\n",
    "def get_synsets(sentence):\n",
    "    words = word_tokenize(sentence)\n",
    "    synsets = []\n",
    "    for word in words:\n",
    "        # Obtener el primer sinset disponible para cada palabra\n",
    "        synset = wordnet.synsets(word)\n",
    "        if synset:\n",
    "            synsets.append(synset[0])  # Seleccionar el primer sinset por simplicidad\n",
    "    return synsets\n",
    "\n",
    "# Calcular similitud promedio entre dos listas de sinsets\n",
    "def calculate_path_similarity(synsets1, synsets2):\n",
    "    similarities = []\n",
    "    for s1 in synsets1:\n",
    "        for s2 in synsets2:\n",
    "            similarity = s1.path_similarity(s2)\n",
    "            if similarity:  # Ignorar valores `None`\n",
    "                similarities.append(similarity)\n",
    "    return mean(similarities) if similarities else 0  # Retornar promedio o 0 si no hay similitudes\n",
    "\n",
    "# Seleccionar el libro de referencia (el primero en este ejemplo)\n",
    "reference_sentence = top_sentences[0]\n",
    "reference_synsets = get_synsets(reference_sentence)\n",
    "\n",
    "# Comparar con las demás frases\n",
    "for i, sentence in enumerate(top_sentences[1:], start=1):\n",
    "    # Obtenemos los synsets del enunciado\n",
    "    comparison_synsets = get_synsets(sentence)\n",
    "    # Obtenemos la similitud entre el primer libro y el enunciado del otro libro de la iteración\n",
    "    similarity = calculate_path_similarity(reference_synsets, comparison_synsets)\n",
    "    # Imprimimos los resultados\n",
    "    print(f\"Similitud entre '{reference_sentence}' y libro {i}({sentence}): {similarity:.2f}\")\n"
   ]
  },
  {
   "cell_type": "markdown",
   "metadata": {},
   "source": [
    "## Similitud de palabras con “embedding”\n",
    "Para este método, es necesario descargar el modelo manualmente. Para este desarrollo particular, se descargará en el mismo entorno virtual con el que se desarrolla toda la práctica general, ingresando los comandos:\n",
    "```bash\n",
    "wget http://nlp.stanford.edu/data/glove.6B.zip\n",
    "unzip glove.6B.zip\n",
    "```\n",
    ">**[NOTA]** Los archivos se descargaron y descomprimieron por defecto en la dirección del entorno, y se movieron manualmente a la carpeta [`glove`](./glove) para facilitar su acceso en el desarrollo del código. Si se cambia la dirección del archivo `glove.6B.300d.txt`, será necesario reflejarlo en la línea comentada correspondiente o mover el archivo a la misma dirección en la que se encuentra el presente archivo.\n",
    "\n",
    "Se escogerá el modelo \"glove.6B.300d.txt\" para mayor detalle en el análisis de similitud de los textos"
   ]
  },
  {
   "cell_type": "code",
   "execution_count": 13,
   "metadata": {},
   "outputs": [],
   "source": [
    "# Definimos una función para cargar el modelo\n",
    "def load_glove_model(glove_file):\n",
    "    print(\"Cargando el modelo GloVe...\")\n",
    "    # Almacenamos los embeddings en un diccionario\n",
    "    embeddings: dict = {}\n",
    "    # Abrimos el archivo `glove_file` en modo lecura `r` como `f`\n",
    "    with open(glove_file, 'r', encoding='utf-8') as f:\n",
    "        # Para cada línea `line` en el archivo...\n",
    "        for line in f:\n",
    "            # partimos la línea en partes `parts`\n",
    "            parts: list[str] = line.split()\n",
    "            # tomamos la primera palabra y la almacenamos en `word`\n",
    "            word = parts[0]\n",
    "            # Generamos el vector correspondiente a la palabra `word` con los valores correspondientes en las partes siguientes\n",
    "            vector = np.array(parts[1:], dtype=np.float32)\n",
    "            # Agregamos la palabra y su vector a los embeddings\n",
    "            embeddings[word] = vector\n",
    "    # Finalizamos la carga regresando el diccionario con los embeddings\n",
    "    print(\"Modelo GloVe cargado.\")\n",
    "    return embeddings"
   ]
  },
  {
   "cell_type": "code",
   "execution_count": 14,
   "metadata": {},
   "outputs": [
    {
     "name": "stdout",
     "output_type": "stream",
     "text": [
      "Cargando el modelo GloVe...\n",
      "Modelo GloVe cargado.\n"
     ]
    }
   ],
   "source": [
    "# Cargamos el modelo de interés\n",
    "glove_model = load_glove_model(fr\"./glove/glove.6B.300d.txt\") # Modificar la dirección del archivo si es necesario"
   ]
  },
  {
   "cell_type": "code",
   "execution_count": 15,
   "metadata": {},
   "outputs": [],
   "source": [
    "# Definimos la función que retornará la diferencia de similitud\n",
    "def cosine_similarity(vec1, vec2):\n",
    "    return 1 - cosine(vec1, vec2)"
   ]
  },
  {
   "cell_type": "code",
   "execution_count": 16,
   "metadata": {},
   "outputs": [
    {
     "name": "stdout",
     "output_type": "stream",
     "text": [
      "Libro 1 - Verbo más frecuente: 'say'\n",
      "Palabras más similares:\n",
      "  believe: 0.8163\n",
      "  know: 0.7665\n",
      "  want: 0.7577\n",
      "  think: 0.7299\n",
      "  might: 0.7227\n",
      "\n",
      "Libro 2 - Verbo más frecuente: 'throw'\n",
      "Palabras más similares:\n",
      "  ball: 0.5623\n",
      "  catch: 0.5044\n",
      "  let: 0.4890\n",
      "  go: 0.4826\n",
      "  get: 0.4729\n",
      "\n",
      "Libro 3 - Verbo más frecuente: 'go'\n",
      "Palabras más similares:\n",
      "  come: 0.7988\n",
      "  do: 0.7331\n",
      "  take: 0.7206\n",
      "  would: 0.6825\n",
      "  think: 0.6638\n",
      "\n",
      "Libro 4 - Verbo más frecuente: 'take'\n",
      "Palabras más similares:\n",
      "  give: 0.7691\n",
      "  would: 0.7523\n",
      "  make: 0.7344\n",
      "  come: 0.7306\n",
      "  go: 0.7206\n",
      "\n",
      "Libro 5 - Verbo más frecuente: 'take'\n",
      "Palabras más similares:\n",
      "  give: 0.7691\n",
      "  would: 0.7523\n",
      "  come: 0.7306\n",
      "  could: 0.7007\n",
      "  turn: 0.6617\n",
      "\n"
     ]
    }
   ],
   "source": [
    "# Almacenamos las palabras similares en una lista\n",
    "similar_words: list = []\n",
    "\n",
    "# Para cada libro `book` `idx` al enumerar los elementos del diccionario con los verbos más frecuentes de cada libro `most_freq_verbs`\n",
    "for idx, book in enumerate(most_freq_verbs):\n",
    "    # Tomamos el verbo con más frecuencia\n",
    "    most_frequent_verb = list(most_freq_verbs[idx].keys())[0]  # Verbo más frecuente\n",
    "    # Si el verbo se encuentra en el modelo...\n",
    "    if most_frequent_verb in glove_model:\n",
    "        # obtenemos el vector\n",
    "        verb_vector = glove_model[most_frequent_verb]\n",
    "        # guardamos las similitudes de cada palabra en un diccionario\n",
    "        word_similarities: dict = {}\n",
    "        # por cada palabra `word` en el set de las palabras del libro `dx`...\n",
    "        for word in set(item[0] for item in corpus_per_book[idx]): \n",
    "            # si la palabra se encuentra en el modelo...\n",
    "            if word in glove_model:\n",
    "                # obtenemos el vector de la palabra\n",
    "                word_vector = glove_model[word]\n",
    "                # se obtiene la similitud entre ambas palabras\n",
    "                similarity = cosine_similarity(verb_vector, word_vector)\n",
    "                # se guarda la similitud en el diccionario de similitudes\n",
    "                word_similarities[word] = similarity\n",
    "        \n",
    "        # se obtienen las 5 palabras más similares\n",
    "        top_similar = sorted(word_similarities.items(), key=lambda x: x[1], reverse=True)[1:6] # Se toman los 5 siguientes a la misma palabra\n",
    "        # Agregamos el verbo con su respectiva lista con palabras similares\n",
    "        similar_words.append((most_frequent_verb, top_similar))\n",
    "    # de lo contrario...\n",
    "    else:\n",
    "        # agregamos la tupla de la palabra con la leyenda correspondiente: \"No disponible en GloVe\"\n",
    "        similar_words.append((most_frequent_verb, \"No disponible en GloVe\"))\n",
    "\n",
    "# Imprimimos los resultados\n",
    "for i, (verb, similarities) in enumerate(similar_words):\n",
    "    print(f\"Libro {i + 1} - Verbo más frecuente: '{verb}'\")\n",
    "    print(\"Palabras más similares:\")\n",
    "    if isinstance(similarities, str):\n",
    "        print(similarities)\n",
    "    else:\n",
    "        for word, score in similarities:\n",
    "            print(f\"  {word}: {score:.4f}\")\n",
    "    print()"
   ]
  },
  {
   "cell_type": "markdown",
   "metadata": {},
   "source": [
    "## Similitud de documentos con “embedding”\n",
    "Se seguirá la indicación y se descargará el modelo `bert-base-uncased` y se buscará encontrar la similitud entre las frases principales del primer libro con el resto."
   ]
  },
  {
   "cell_type": "code",
   "execution_count": 17,
   "metadata": {},
   "outputs": [],
   "source": [
    "# Cargamos los métodos y modelos necesarios parausar BERT\n",
    "tokenizer = BertTokenizer.from_pretrained('bert-base-uncased')\n",
    "model = BertModel.from_pretrained('bert-base-uncased')"
   ]
  },
  {
   "cell_type": "code",
   "execution_count": 18,
   "metadata": {},
   "outputs": [],
   "source": [
    "def encode_text(text: str):\n",
    "    # Tokenización y preparación para BERT\n",
    "    inputs = tokenizer(text, return_tensors=\"pt\", truncation=True, padding=True, max_length=512)\n",
    "    # Guardamos los resultados del modelo\n",
    "    with torch.no_grad():\n",
    "        outputs = model(**inputs)\n",
    "    # Representación de embedding\n",
    "    embeddings = outputs.last_hidden_state.mean(dim=1).squeeze()\n",
    "    # Regresamos la interpretación\n",
    "    return embeddings"
   ]
  },
  {
   "cell_type": "code",
   "execution_count": 19,
   "metadata": {},
   "outputs": [],
   "source": [
    "# Definimos una función para obtener la similitud\n",
    "def calculate_similarity(embedding1, embedding2):\n",
    "    return cosine_similarity(embedding1, embedding2)"
   ]
  },
  {
   "cell_type": "code",
   "execution_count": 20,
   "metadata": {},
   "outputs": [
    {
     "name": "stdout",
     "output_type": "stream",
     "text": [
      "La similitud entre \"classify six hundred different geological specimens\" y \"classify six hundred different geological specimens\" es: 1.0000\n",
      "La similitud entre \"classify six hundred different geological specimens\" y \"several thousand people crushed\" es: 0.5981\n",
      "La similitud entre \"classify six hundred different geological specimens\" y \"immense kraken whose tentacles could entangle\" es: 0.6351\n",
      "La similitud entre \"classify six hundred different geological specimens\" y \"two officers listened gravely enough\" es: 0.5409\n",
      "La similitud entre \"classify six hundred different geological specimens\" y \"car soon came back empty\" es: 0.5192\n"
     ]
    }
   ],
   "source": [
    "# Codificamos las frases\n",
    "top_sentences_embeddings = [encode_text(sentence) for sentence in top_sentences]\n",
    "# Almacenamos los puntajes en una lista y calculamos las similitudes\n",
    "bert_grades: list = [calculate_similarity(top_sentences_embeddings[0], emb) for emb in top_sentences_embeddings]\n",
    "\n",
    "# Imprimimos los resultados\n",
    "for grade, sentence in zip(bert_grades, top_sentences):\n",
    "    print(f\"La similitud entre \\\"{top_sentences[0]}\\\" y \\\"{sentence}\\\" es: {grade:.4f}\")"
   ]
  },
  {
   "cell_type": "code",
   "execution_count": null,
   "metadata": {},
   "outputs": [],
   "source": []
  }
 ],
 "metadata": {
  "kernelspec": {
   "display_name": ".venv",
   "language": "python",
   "name": "python3"
  },
  "language_info": {
   "codemirror_mode": {
    "name": "ipython",
    "version": 3
   },
   "file_extension": ".py",
   "mimetype": "text/x-python",
   "name": "python",
   "nbconvert_exporter": "python",
   "pygments_lexer": "ipython3",
   "version": "3.12.7"
  }
 },
 "nbformat": 4,
 "nbformat_minor": 2
}
