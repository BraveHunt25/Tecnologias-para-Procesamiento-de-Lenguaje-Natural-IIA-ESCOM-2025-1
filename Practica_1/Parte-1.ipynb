{
 "cells": [
  {
   "cell_type": "markdown",
   "metadata": {},
   "source": [
    "# Expresiones regulares, exploración y normalización de datos\n",
    "## Parte 1: Expresiones regulares\n",
    "Creado por **Hernández Jiménez Erick Yael**. Grupo: _5IV1_ de la **Escuela Superior de Cómputo**.\n",
    "\n",
    "Para la materia de **Tecnologías de Lenguaje Natural** en el semestre 2025-1 de la carrera de **Ingeniería en Inteligencia Artificial**.\n",
    "\n",
    "> Última vez modificado: 4 de octubre de 2024"
   ]
  },
  {
   "cell_type": "markdown",
   "metadata": {},
   "source": [
    "### Bibliotecas usadas"
   ]
  },
  {
   "cell_type": "code",
   "execution_count": 1,
   "metadata": {},
   "outputs": [],
   "source": [
    "import re   # Para que Python interprete las expresiones regulares"
   ]
  },
  {
   "cell_type": "markdown",
   "metadata": {},
   "source": [
    "# Desarrollo"
   ]
  },
  {
   "cell_type": "markdown",
   "metadata": {},
   "source": [
    "## Para las cadenas de texto incluidas en el Anexo “A”, y únicamente para los numerales siguientes 1 a 5, identificar las líneas que cumplan con los siguientes:"
   ]
  },
  {
   "cell_type": "markdown",
   "metadata": {},
   "source": [
    "### Anexo \"A\""
   ]
  },
  {
   "cell_type": "markdown",
   "metadata": {},
   "source": [
    "```\n",
    "Amount:Category:Date:Description\n",
    "5.25:supply:20170222:box of staples\n",
    "79.81:meal:20170222:lunch with ABC Corp. clients Al, Bob, and Cy\n",
    "43.00:travel:20170222:cab back to office\n",
    "383.75:travel:20170223:flight to Boston, to visit ABC Corp.\n",
    "55.00:travel:20170223:cab to ABC Corp. in Cambridge, MA\n",
    "23.25:meal:20170223:dinner at Logan Airport\n",
    "318.47:supply:20170224:paper, toner, pens, paperclips, tape\n",
    "142.12:meal:20170226:host dinner with ABC clients, Al, Bob, Cy, Dave, Ellie\n",
    "303.94:util:20170227:Peoples Gas\n",
    "121.07:util:20170227:Verizon Wireless\n",
    "7.59:supply:20170227:Python book (used)\n",
    "79.99:supply:20170227:spare 20\" monitor\n",
    "49.86:supply:20170228:Stoch Cal for Finance II\n",
    "6.53:meal:20170302:Dunkin Donuts, drive to Big Inc. near DC\n",
    "127.23:meal:20170302:dinner, Tavern64\n",
    "33.07:meal:20170303:dinner, Uncle Julio's\n",
    "86.00:travel:20170304:mileage, drive to/from Big Inc., Reston, VA\n",
    "22.00:travel:20170304:tolls\n",
    "378.81:travel:20170304:Hyatt Hotel, Reston VA, for Big Inc. meeting\n",
    "1247.49:supply:20170306:Dell 7000 laptop/workstation\n",
    "6.99:supply:20170306:HDMI cable\n",
    "212.06:util:20170308:Duquesne Light\n",
    "23.86:supply:20170309:Practical Guide to Quant Finance Interviews\n",
    "195.89:supply:20170309:black toner, HP 304A, 2-pack\n",
    "86.00:travel:20170317:mileage, drive to/from Big Inc., Reston, VA\n",
    "32.27:meal:20170317:lunch at Clyde's with Fred and Gina, Big Inc.\n",
    "22.00:travel:20170317:tolls\n",
    "119.56:util:20170319:Verizon Wireless\n",
    "284.23:util:20170323:Peoples Gas\n",
    "8.98:supply:20170325:Flair pens\n",
    "```"
   ]
  },
  {
   "cell_type": "code",
   "execution_count": 2,
   "metadata": {},
   "outputs": [],
   "source": [
    "CADENAS: list = (\"Amount:Category:Date:Description\",\n",
    "                 \"5.25:supply:20170222:box of staples\",\n",
    "                 \"79.81:meal:20170222:lunch with ABC Corp. clients Al, Bob, and Cy\",\n",
    "                 \"43.00:travel:20170222:cab back to office\",\n",
    "                 \"383.75:travel:20170223:flight to Boston, to visit ABC Corp.\",\n",
    "                 \"55.00:travel:20170223:cab to ABC Corp. in Cambridge, MA\",\n",
    "                 \"23.25:meal:20170223:dinner at Logan Airport\",\n",
    "                 \"318.47:supply:20170224:paper, toner, pens, paperclips, tape\",\n",
    "                 \"142.12:meal:20170226:host dinner with ABC clients, Al, Bob, Cy, Dave, Ellie\",\n",
    "                 \"303.94:util:20170227:Peoples Gas\",\n",
    "                 \"121.07:util:20170227:Verizon Wireless\",\n",
    "                 \"7.59:supply:20170227:Python book (used)\",\n",
    "                 '79.99:supply:20170227:spare 20\" monitor',\n",
    "                 \"49.86:supply:20170228:Stoch Cal for Finance II\",\n",
    "                 \"6.53:meal:20170302:Dunkin Donuts, drive to Big Inc. near DC\",\n",
    "                 \"127.23:meal:20170302:dinner, Tavern64\",\n",
    "                 \"33.07:meal:20170303:dinner, Uncle Julio's\",\n",
    "                 \"86.00:travel:20170304:mileage, drive to/from Big Inc., Reston, VA\",\n",
    "                 \"22.00:travel:20170304:tolls\",\n",
    "                 \"378.81:travel:20170304:Hyatt Hotel, Reston VA, for Big Inc. meeting\",\n",
    "                 \"1247.49:supply:20170306:Dell 7000 laptop/workstation\",\n",
    "                 \"6.99:supply:20170306:HDMI cable\",\n",
    "                 \"212.06:util:20170308:Duquesne Light\",\n",
    "                 \"23.86:supply:20170309:Practical Guide to Quant Finance Interviews\",\n",
    "                 \"195.89:supply:20170309:black toner, HP 304A, 2-pack\",\n",
    "                 \"86.00:travel:20170317:mileage, drive to/from Big Inc., Reston, VA\",\n",
    "                 \"32.27:meal:20170317:lunch at Clyde's with Fred and Gina, Big Inc.\",\n",
    "                 \"22.00:travel:20170317:tolls\",\n",
    "                 \"119.56:util:20170319:Verizon Wireless\",\n",
    "                 \"284.23:util:20170323:Peoples Gas\",\n",
    "                 \"8.98:supply:20170325:Flair pens\")"
   ]
  },
  {
   "cell_type": "markdown",
   "metadata": {},
   "source": [
    "### 1. Contengan una “r” seguida por una “g”. La “r” y la “g” no necesariamente tienen que estar en posiciones consecutivas. "
   ]
  },
  {
   "cell_type": "code",
   "execution_count": 3,
   "metadata": {},
   "outputs": [],
   "source": [
    "r_g = re.compile(r\"(.*)r(.*)g(.*)$\")  # Función para leer una r seguida de una g no necesariamente consecutivamente"
   ]
  },
  {
   "cell_type": "code",
   "execution_count": 4,
   "metadata": {},
   "outputs": [
    {
     "name": "stdout",
     "output_type": "stream",
     "text": [
      "383.75:travel:20170223:flight to Boston, to visit ABC Corp.\n",
      "55.00:travel:20170223:cab to ABC Corp. in Cambridge, MA\n",
      "23.25:meal:20170223:dinner at Logan Airport\n",
      "6.53:meal:20170302:Dunkin Donuts, drive to Big Inc. near DC\n",
      "86.00:travel:20170304:mileage, drive to/from Big Inc., Reston, VA\n",
      "378.81:travel:20170304:Hyatt Hotel, Reston VA, for Big Inc. meeting\n",
      "86.00:travel:20170317:mileage, drive to/from Big Inc., Reston, VA\n",
      "32.27:meal:20170317:lunch at Clyde's with Fred and Gina, Big Inc.\n"
     ]
    }
   ],
   "source": [
    "enunciados_1: list = []             # Lista para guardar los resultados\n",
    "for cadena in CADENAS:              # Iteramos sobre el conjunto de cadenas\n",
    "    enunciado = r_g.fullmatch(string=cadena)    # Guardamos una variable temporal con el match\n",
    "    if enunciado is not None:                   # En caso de que el match no sea un elemento vacío, es decir, que sí haya encontrado una coincidencia...\n",
    "        enunciados_1.append(enunciado.group())  # Agregamos la cadena correspondiente a la lista de respuestas\n",
    "\n",
    "for cadena in enunciados_1:         # Imprimimos cada cadena de los resultados...\n",
    "    print(cadena)                   # en una nueva linea"
   ]
  },
  {
   "cell_type": "markdown",
   "metadata": {},
   "source": [
    "### 2. Describan comidas que cuesten al menos 100.00."
   ]
  },
  {
   "cell_type": "code",
   "execution_count": 5,
   "metadata": {},
   "outputs": [],
   "source": [
    "comidas_100_00 = re.compile(r\"^[1-9]([0-9]){2,}[.]([0-9]){2}:(meal).*\") # Función para leer comidas de más o igual de 100.00"
   ]
  },
  {
   "cell_type": "code",
   "execution_count": 6,
   "metadata": {},
   "outputs": [
    {
     "name": "stdout",
     "output_type": "stream",
     "text": [
      "142.12:meal:20170226:host dinner with ABC clients, Al, Bob, Cy, Dave, Ellie\n",
      "127.23:meal:20170302:dinner, Tavern64\n"
     ]
    }
   ],
   "source": [
    "enunciados_2: list = []             # Lista para guardar los resultados\n",
    "for cadena in CADENAS:              # Iteramos sobre el conjunto de cadenas\n",
    "    enunciado = comidas_100_00.fullmatch(string=cadena)    # Guardamos una variable temporal con el match\n",
    "    if enunciado is not None:                   # En caso de que el match no sea un elemento vacío, es decir, que sí haya encontrado una coincidencia...\n",
    "        enunciados_2.append(enunciado.group())  # Agregamos la cadena correspondiente a la lista de respuestas\n",
    "\n",
    "for cadena in enunciados_2:         # Imprimimos cada cadena de los resultados...\n",
    "    print(cadena)                   # en una nueva linea"
   ]
  },
  {
   "cell_type": "markdown",
   "metadata": {},
   "source": [
    "### 3. Contengan una “a”, seguida por una “b”, seguida por una “c” (puede haber otros caracteres entre la “a” y la ”b” y entre la “b” y la ”c”. En caso de existir caracteres entre las letras indicadas, dichos caracteres no pueden ser a ni b, ni b y c, respectivamente. Ejemplos de cadenas invalidas: “An apple, a banana”; “Bad but beatiful car”)"
   ]
  },
  {
   "cell_type": "code",
   "execution_count": 7,
   "metadata": {},
   "outputs": [],
   "source": [
    "abc = re.compile(r\"^.*(a|A){1}(b|B){1}(c|C){1}.*\")  # Función para leer abc consecutivamente sin contar repeticiones entre ellos"
   ]
  },
  {
   "cell_type": "code",
   "execution_count": 8,
   "metadata": {},
   "outputs": [
    {
     "name": "stdout",
     "output_type": "stream",
     "text": [
      "79.81:meal:20170222:lunch with ABC Corp. clients Al, Bob, and Cy\n",
      "383.75:travel:20170223:flight to Boston, to visit ABC Corp.\n",
      "55.00:travel:20170223:cab to ABC Corp. in Cambridge, MA\n",
      "142.12:meal:20170226:host dinner with ABC clients, Al, Bob, Cy, Dave, Ellie\n"
     ]
    }
   ],
   "source": [
    "enunciados_3: list = []             # Lista para guardar los resultados\n",
    "for cadena in CADENAS:              # Iteramos sobre el conjunto de cadenas\n",
    "    enunciado = abc.fullmatch(string=cadena)    # Guardamos una variable temporal con el match\n",
    "    if enunciado is not None:                   # En caso de que el match no sea un elemento vacío, es decir, que sí haya encontrado una coincidencia...\n",
    "        enunciados_3.append(enunciado.group())  # Agregamos la cadena correspondiente a la lista de respuestas\n",
    "\n",
    "for cadena in enunciados_3:         # Imprimimos cada cadena de los resultados...\n",
    "    print(cadena)                   # en una nueva linea"
   ]
  },
  {
   "cell_type": "markdown",
   "metadata": {},
   "source": [
    "### 4. Contengan en la descripción de gastos una “a” minúscula y un digito entre 0 y 9 en cualquier orden. Es decir, el carácter “a” puede aparecer antes o después del digito."
   ]
  },
  {
   "cell_type": "code",
   "execution_count": 9,
   "metadata": {},
   "outputs": [],
   "source": [
    "adda_1 = re.compile(r\"[:].*(\\d+a|a+\\d).*$\")                 # Función para leer 'a' y dígitos secuencialmente\n",
    "adda_2 = re.compile(r\".*[:].*[:].*[:].*(\\d+.*a|a+.*\\d).*$\") # Función para leer 'a' y dígitos no secuencialmente"
   ]
  },
  {
   "cell_type": "code",
   "execution_count": 10,
   "metadata": {},
   "outputs": [],
   "source": [
    "enunciados_4: list = []             # Lista para guardar los resultados\n",
    "for cadena in CADENAS:              # Iteramos sobre el conjunto de cadenas\n",
    "    enunciado = adda_1.fullmatch(string=cadena)    # Guardamos una variable temporal con el match\n",
    "    if enunciado is not None:                   # En caso de que el match no sea un elemento vacío, es decir, que sí haya encontrado una coincidencia...\n",
    "        enunciados_4.append(enunciado.group())  # Agregamos la cadena correspondiente a la lista de respuestas\n",
    "\n",
    "for cadena in enunciados_4:         # Imprimimos cada cadena de los resultados...\n",
    "    print(cadena)                   # en una nueva linea"
   ]
  },
  {
   "cell_type": "code",
   "execution_count": 11,
   "metadata": {},
   "outputs": [
    {
     "name": "stdout",
     "output_type": "stream",
     "text": [
      "79.99:supply:20170227:spare 20\" monitor\n",
      "127.23:meal:20170302:dinner, Tavern64\n",
      "1247.49:supply:20170306:Dell 7000 laptop/workstation\n",
      "195.89:supply:20170309:black toner, HP 304A, 2-pack\n"
     ]
    }
   ],
   "source": [
    "enunciados_4: list = []             # Lista para guardar los resultados\n",
    "for cadena in CADENAS:              # Iteramos sobre el conjunto de cadenas\n",
    "    enunciado = adda_2.fullmatch(string=cadena)    # Guardamos una variable temporal con el match\n",
    "    if enunciado is not None:                   # En caso de que el match no sea un elemento vacío, es decir, que sí haya encontrado una coincidencia...\n",
    "        enunciados_4.append(enunciado.group())  # Agregamos la cadena correspondiente a la lista de respuestas\n",
    "\n",
    "for cadena in enunciados_4:         # Imprimimos cada cadena de los resultados...\n",
    "    print(cadena)                   # en una nueva linea"
   ]
  },
  {
   "cell_type": "markdown",
   "metadata": {},
   "source": [
    "### 5. Contengan el carácter “d”, posiblemente seguido de otros caracteres, seguido de una “i”. Coincidencias incluirían palabras tales como: diver, doily, drip, diplomat, etc."
   ]
  },
  {
   "cell_type": "code",
   "execution_count": 12,
   "metadata": {},
   "outputs": [],
   "source": [
    "di_1 = re.compile(r\".*d{1}.*i{1}.*\")  # Función para  encontrar cadenas con letras 'd' e 'i' seguidas no secuencialmente\n",
    "di_2 = re.compile(r\"^.*d{1}[^ ]*(i){1}.*$\")  # Función para  encontrar cadenas con letras 'd' e 'i' seguidas en una palabra"
   ]
  },
  {
   "cell_type": "code",
   "execution_count": 13,
   "metadata": {},
   "outputs": [
    {
     "name": "stdout",
     "output_type": "stream",
     "text": [
      "23.25:meal:20170223:dinner at Logan Airport\n",
      "142.12:meal:20170226:host dinner with ABC clients, Al, Bob, Cy, Dave, Ellie\n",
      "6.53:meal:20170302:Dunkin Donuts, drive to Big Inc. near DC\n",
      "127.23:meal:20170302:dinner, Tavern64\n",
      "33.07:meal:20170303:dinner, Uncle Julio's\n",
      "86.00:travel:20170304:mileage, drive to/from Big Inc., Reston, VA\n",
      "23.86:supply:20170309:Practical Guide to Quant Finance Interviews\n",
      "86.00:travel:20170317:mileage, drive to/from Big Inc., Reston, VA\n",
      "32.27:meal:20170317:lunch at Clyde's with Fred and Gina, Big Inc.\n"
     ]
    }
   ],
   "source": [
    "enunciados_5: list = []             # Lista para guardar los resultados\n",
    "for cadena in CADENAS:              # Iteramos sobre el conjunto de cadenas\n",
    "    enunciado = di_1.fullmatch(string=cadena)    # Guardamos una variable temporal con el match\n",
    "    if enunciado is not None:                   # En caso de que el match no sea un elemento vacío, es decir, que sí haya encontrado una coincidencia...\n",
    "        enunciados_5.append(enunciado.group())  # Agregamos la cadena correspondiente a la lista de respuestas\n",
    "\n",
    "for cadena in enunciados_5:         # Imprimimos cada cadena de los resultados...\n",
    "    print(cadena)                   # en una nueva linea"
   ]
  },
  {
   "cell_type": "code",
   "execution_count": 14,
   "metadata": {},
   "outputs": [
    {
     "name": "stdout",
     "output_type": "stream",
     "text": [
      "23.25:meal:20170223:dinner at Logan Airport\n",
      "142.12:meal:20170226:host dinner with ABC clients, Al, Bob, Cy, Dave, Ellie\n",
      "6.53:meal:20170302:Dunkin Donuts, drive to Big Inc. near DC\n",
      "127.23:meal:20170302:dinner, Tavern64\n",
      "33.07:meal:20170303:dinner, Uncle Julio's\n",
      "86.00:travel:20170304:mileage, drive to/from Big Inc., Reston, VA\n",
      "86.00:travel:20170317:mileage, drive to/from Big Inc., Reston, VA\n"
     ]
    }
   ],
   "source": [
    "enunciados_5: list = []             # Lista para guardar los resultados\n",
    "for cadena in CADENAS:              # Iteramos sobre el conjunto de cadenas\n",
    "    enunciado = di_2.fullmatch(string=cadena)   # Guardamos una variable temporal con el match\n",
    "    if enunciado is not None:                   # En caso de que el match no sea un elemento vacío, es decir, que sí haya encontrado una coincidencia...\n",
    "        enunciados_5.append(enunciado.group())  # Agregamos la cadena correspondiente a la lista de respuestas\n",
    "\n",
    "for cadena in enunciados_5:         # Imprimimos cada cadena de los resultados...\n",
    "    print(cadena)                   # en una nueva linea"
   ]
  },
  {
   "cell_type": "markdown",
   "metadata": {},
   "source": [
    "## A continuación, se describen ejercicios adicionales de expresiones regulares. Cabe señalar que cada uno de los siguientes ejercicios contienen el texto a analizar."
   ]
  },
  {
   "cell_type": "markdown",
   "metadata": {},
   "source": [
    "### 6. Identificar títulos de películas producidas antes de 2002. El año de producción es el encerrado en paréntesis."
   ]
  },
  {
   "cell_type": "markdown",
   "metadata": {},
   "source": [
    "#### Títulos"
   ]
  },
  {
   "cell_type": "markdown",
   "metadata": {},
   "source": [
    "```\n",
    "a. The Shawshank Redemption (1994)\n",
    "b. The Godfather (1972)\n",
    "c. The Godfather: Part II (1974)\n",
    "d. 2001: A Space Odyssey (1968)\n",
    "e. The Good, the Bad and the Ugly (1966)\n",
    "f. Angry Men (1957)\n",
    "g. Schindler's List (1993)\n",
    "h. The Lord of the Rings: The Return of the King (2003)\n",
    "i. Fight Club (1999)\n",
    "j. 2010: The Year We Make Contact (1984)\n",
    "k. 101 Dalmatians (1996)\n",
    "```"
   ]
  },
  {
   "cell_type": "code",
   "execution_count": 15,
   "metadata": {},
   "outputs": [],
   "source": [
    "PELICULAS = [\"The Shawshank Redemption (1994)\",\n",
    "             \"The Godfather (1972)\",\n",
    "             \"The Godfather: Part II (1974)\",\n",
    "             \"2001: A Space Odyssey (1968)\",\n",
    "             \"The Good, the Bad and the Ugly (1966)\",\n",
    "             \"Angry Men (1957)\",\n",
    "             \"Schindler's List (1993)\",\n",
    "             \"The Lord of the Rings: The Return of the King (2003)\",\n",
    "             \"Fight Club (1999)\",\n",
    "             \"2010: The Year We Make Contact (1984)\",\n",
    "             \"101 Dalmatians (1996)\"]"
   ]
  },
  {
   "cell_type": "code",
   "execution_count": 16,
   "metadata": {},
   "outputs": [],
   "source": [
    "pelis_2002 = re.compile(r\".*[(]{1}([0-1]\\d{3}|200[0-1])[)]{1}$\")   # Función para encontrar los años menores a 2002"
   ]
  },
  {
   "cell_type": "code",
   "execution_count": 17,
   "metadata": {},
   "outputs": [
    {
     "name": "stdout",
     "output_type": "stream",
     "text": [
      "The Shawshank Redemption (1994)\n",
      "The Godfather (1972)\n",
      "The Godfather: Part II (1974)\n",
      "2001: A Space Odyssey (1968)\n",
      "The Good, the Bad and the Ugly (1966)\n",
      "Angry Men (1957)\n",
      "Schindler's List (1993)\n",
      "Fight Club (1999)\n",
      "2010: The Year We Make Contact (1984)\n",
      "101 Dalmatians (1996)\n"
     ]
    }
   ],
   "source": [
    "enunciados_6: list = []             # Lista para guardar los resultados\n",
    "for cadena in PELICULAS:              # Iteramos sobre el conjunto de cadenas\n",
    "    enunciado = pelis_2002.fullmatch(string=cadena)    # Guardamos una variable temporal con el match\n",
    "    if enunciado is not None:                   # En caso de que el match no sea un elemento vacío, es decir, que sí haya encontrado una coincidencia...\n",
    "        enunciados_6.append(enunciado.group())  # Agregamos la cadena correspondiente a la lista de respuestas\n",
    "\n",
    "for cadena in enunciados_6:         # Imprimimos cada cadena de los resultados...\n",
    "    print(cadena)                   # en una nueva linea"
   ]
  },
  {
   "cell_type": "markdown",
   "metadata": {},
   "source": [
    "### 7. Identificar recetas que contengan la palabra 'chocolate' y cualquier variación de ella en términos de combinación entre minúsculas y mayúsculas, y también repetición de caracteres. Por ejemplo, una cadena válida puede ser: \"ChOcoolATe\"."
   ]
  },
  {
   "cell_type": "markdown",
   "metadata": {},
   "source": [
    "```\n",
    "a. Cake 1: sugar, flour, cocoa powder, baking powder, baking soda, salt, eggs, milk, vegetable oil, vanilla extract, chocolATE chip.\n",
    "b. Cake 2: cream cheese, sugar, vanilla extract, crescent rolls, cinnamon, butter, honey.\n",
    "c. Cake 3: dark chocolate cake mix, instant CHOCOLATE pudding mix, sour cream, eggs, vegetable oil, coffee liqueur.\n",
    "d. Cake 4: flour, baking powder, salt, cinnamon, butter, sugar, egg, vanilla extract, milk, chopped walnuts.\n",
    "e. Cake 5: gingersnap cookies, chopped pecans, butter, cream cheese, sugar, vanilla extract, eggs, canned pumpkin, cinnamon, CHOColate.\n",
    "f. Cake 6: flour, baking soda, sea salt, butter, white sugar, brown sugar, eggs, vanilla extract, Chooocolate chips, canola oil.\n",
    "g. Cake 7: wafers, cream cheese, sugar, eggs, vanilla extract, cherry pie filling.\n",
    "```"
   ]
  },
  {
   "cell_type": "code",
   "execution_count": 18,
   "metadata": {},
   "outputs": [],
   "source": [
    "PASTELES = [\"Cake 1: sugar, flour, cocoa powder, baking powder, baking soda, salt, eggs, milk, vegetable oil, vanilla extract, chocolATE chip.\",\n",
    "            \"Cake 2: cream cheese, sugar, vanilla extract, crescent rolls, cinnamon, butter, honey.\",\n",
    "            \"Cake 3: dark chocolate cake mix, instant CHOCOLATE pudding mix, sour cream, eggs, vegetable oil, coffee liqueur.\",\n",
    "            \"Cake 4: flour, baking powder, salt, cinnamon, butter, sugar, egg, vanilla extract, milk, chopped walnuts.\",\n",
    "            \"Cake 5: gingersnap cookies, chopped pecans, butter, cream cheese, sugar, vanilla extract, eggs, canned pumpkin, cinnamon, CHOColate.\",\n",
    "            \"Cake 6: flour, baking soda, sea salt, butter, white sugar, brown sugar, eggs, vanilla extract, Chooocolate chips, canola oil.\",\n",
    "            \"Cake 7: wafers, cream cheese, sugar, eggs, vanilla extract, cherry pie filling.\"]"
   ]
  },
  {
   "cell_type": "code",
   "execution_count": 19,
   "metadata": {},
   "outputs": [],
   "source": [
    "cHoCoLaTe = re.compile(r\".*\\bchocolate\\b.*\", flags=re.IGNORECASE) # Función para encontrar la palabra chocolate en sus variaciones de mayúsculas o minúsculas"
   ]
  },
  {
   "cell_type": "code",
   "execution_count": 20,
   "metadata": {},
   "outputs": [
    {
     "name": "stdout",
     "output_type": "stream",
     "text": [
      "Cake 1: sugar, flour, cocoa powder, baking powder, baking soda, salt, eggs, milk, vegetable oil, vanilla extract, chocolATE chip.\n",
      "Cake 3: dark chocolate cake mix, instant CHOCOLATE pudding mix, sour cream, eggs, vegetable oil, coffee liqueur.\n",
      "Cake 5: gingersnap cookies, chopped pecans, butter, cream cheese, sugar, vanilla extract, eggs, canned pumpkin, cinnamon, CHOColate.\n"
     ]
    }
   ],
   "source": [
    "enunciados_7: list = []             # Lista para guardar los resultados\n",
    "for cadena in PASTELES:             # Iteramos sobre el conjunto de cadenas\n",
    "    enunciado = cHoCoLaTe.fullmatch(string=cadena)  # Guardamos una variable temporal con el match\n",
    "    if enunciado is not None:                       # En caso de que el match no sea un elemento vacío, es decir, que sí haya encontrado una coincidencia...\n",
    "        enunciados_7.append(enunciado.group())      # Agregamos la cadena correspondiente a la lista de respuestas\n",
    "\n",
    "for cadena in enunciados_7:         # Imprimimos cada cadena de los resultados...\n",
    "    print(cadena)                   # en una nueva linea"
   ]
  },
  {
   "cell_type": "markdown",
   "metadata": {},
   "source": [
    "### 8. Insertar comas entre grupos de cada tres dígitos para las siguientes poblaciones por país."
   ]
  },
  {
   "cell_type": "markdown",
   "metadata": {},
   "source": [
    "```\n",
    "a. China 1361220000\n",
    "b. India 1236800000\n",
    "c. United States 317121000\n",
    "d. Indonesia 237641326\n",
    "e. Brazil 201032714\n",
    "f. Pakistan 184872000\n",
    "g. Nigeria 173615000\n",
    "h. Bangladesh 152518015\n",
    "i. Russia 143600000\n",
    "```"
   ]
  },
  {
   "cell_type": "code",
   "execution_count": 21,
   "metadata": {},
   "outputs": [],
   "source": [
    "POBLACIONES = [\"China 1361220000\",\n",
    "               \"India 1236800000\",\n",
    "               \"United States 317121000\",\n",
    "               \"Indonesia 237641326\",\n",
    "               \"Brazil 201032714\",\n",
    "               \"Pakistan 184872000\",\n",
    "               \"Nigeria 173615000\",\n",
    "               \"Bangladesh 152518015\",\n",
    "               \"Russia 143600000\"]"
   ]
  },
  {
   "cell_type": "code",
   "execution_count": 22,
   "metadata": {},
   "outputs": [],
   "source": [
    "comas_1 = re.compile(r\"(?<=\\d)\\d{3}$\")              # Función para encontrar las unidades\n",
    "comas_2 = re.compile(r\"(?<=\\d)\\d{3}(,\\d{3}){1}$\")   # Función para encontrar las unidades de millar\n",
    "comas_3 = re.compile(r\"(?<=\\d)\\d{3}(,\\d{3}){2}$\")   # Función para encontrar las unidades de millón\n",
    "comas = [comas_1, comas_2, comas_3]                 # Creamos un iterador de las RegEx"
   ]
  },
  {
   "cell_type": "code",
   "execution_count": 23,
   "metadata": {},
   "outputs": [
    {
     "name": "stdout",
     "output_type": "stream",
     "text": [
      "China 1,361,220,000\n",
      "India 1,236,800,000\n",
      "United States 317,121,000\n",
      "Indonesia 237,641,326\n",
      "Brazil 201,032,714\n",
      "Pakistan 184,872,000\n",
      "Nigeria 173,615,000\n",
      "Bangladesh 152,518,015\n",
      "Russia 143,600,000\n"
     ]
    }
   ],
   "source": [
    "enunciados_8: list = []           # Lista para guardar los resultados\n",
    "for cadena in POBLACIONES:  # Iteramos sobre el conjunto de cadenas\n",
    "    aux: str = cadena            # Agregamos una cadena auxiliar que manipularemos cada iteración\n",
    "    for coma in comas:      # Por cada expresión regular en el iterador de RegEx...\n",
    "        hay_match = coma.search(string=aux) # Buscamos la primera coincidencia con la expresión\n",
    "        if hay_match is not None:                           # Si hay match...\n",
    "            posiciones: int = hay_match.span()[0]                # Obtenemos el índice de donde irá la coma\n",
    "            aux = aux[:posiciones] + ',' + aux[posiciones:] # Agregamos la coma\n",
    "\n",
    "    enunciados_8.append(aux)    # Agregamos la cadena correspondiente a la lista de respuestas\n",
    "\n",
    "for cadena in enunciados_8: # Imprimimos cada cadena de los resultados...\n",
    "    print(cadena)           # en una nueva linea"
   ]
  },
  {
   "cell_type": "markdown",
   "metadata": {},
   "source": [
    "### 9. Simplificar direcciones IPv6.\n",
    "> Una dirección IP está compuesta de 8 bloques de números hexadecimales. Cada bloque está de cuatro dígitos y los bloques están separados por el signo “:” (dos puntos). Adicionalmente, existen las siguientes reglas para simplificar y reducir el tamaño de una dirección IPv6:\n",
    ">\n",
    "> a. Los bloques compuestos únicamente de ceros pueden ser omitidos.\n",
    ">\n",
    "> b. Los ceros al principio de un bloque pueden ser omitidos"
   ]
  },
  {
   "cell_type": "code",
   "execution_count": 31,
   "metadata": {},
   "outputs": [
    {
     "name": "stdout",
     "output_type": "stream",
     "text": [
      "2607:f0d0:1002:0051:0000:0000:0000:0004\n"
     ]
    }
   ],
   "source": [
    "direccion_IPv6:str = \"2607:f0d0:1002:0051:0000:0000:0000:0004\"           # Aquí podemos agregar una dirección IPv6 al código\n",
    "if direccion_IPv6 is None:\n",
    "    direccion_IPv6:str = str(input(\"Ingresa la dirección IPv6:\\n\")) # O la solicitamos\n",
    "print(direccion_IPv6)"
   ]
  },
  {
   "cell_type": "code",
   "execution_count": 33,
   "metadata": {},
   "outputs": [],
   "source": [
    "eliminar_ceros = re.compile(r\"(?<=:)0\")     # Función para encontrar todos los ceros que estén al inicio de un bloque\n",
    "eliminar_bloques_vacios = re.compile(r\"(?<=[^:]:)::\")   # Función para encontrar los bloques vacios"
   ]
  },
  {
   "cell_type": "code",
   "execution_count": 36,
   "metadata": {},
   "outputs": [
    {
     "name": "stdout",
     "output_type": "stream",
     "text": [
      "2607:f0d0:1002:51::4\n"
     ]
    }
   ],
   "source": [
    "aux: str = direccion_IPv6\n",
    "while True:\n",
    "    match = eliminar_ceros.search(string=aux)\n",
    "    if match is None:\n",
    "        break\n",
    "    else:\n",
    "        posiciones: int = match.span()[0]\n",
    "        aux = aux[:posiciones] + aux[posiciones+1:]\n",
    "while True:\n",
    "    match = eliminar_bloques_vacios.search(string=aux)\n",
    "    if match is None:\n",
    "        break\n",
    "    else:\n",
    "        posiciones: int = match.span()[0]\n",
    "        aux = aux[:posiciones] + aux[posiciones+1:]\n",
    "print(aux)"
   ]
  }
 ],
 "metadata": {
  "kernelspec": {
   "display_name": "Python 3",
   "language": "python",
   "name": "python3"
  },
  "language_info": {
   "codemirror_mode": {
    "name": "ipython",
    "version": 3
   },
   "file_extension": ".py",
   "mimetype": "text/x-python",
   "name": "python",
   "nbconvert_exporter": "python",
   "pygments_lexer": "ipython3",
   "version": "3.12.6"
  }
 },
 "nbformat": 4,
 "nbformat_minor": 2
}
